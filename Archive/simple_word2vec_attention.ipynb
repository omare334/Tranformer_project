{
 "cells": [
  {
   "cell_type": "code",
   "execution_count": 1,
   "metadata": {},
   "outputs": [
    {
     "name": "stdout",
     "output_type": "stream",
     "text": [
      "a a a a a b b b c c c c c c c d d d d d e e e e e e e f f f g g g g h h h h i i i i i i i j j j j k k k k k l l l l l l l m m m n n n o o o o o o o p p p p p p p q q q r r r r s s s t t t t u u u u v v v v v v v w w w w x x x x x y y y y y y y z z z z z z z\n"
     ]
    }
   ],
   "source": [
    "import tqdm\n",
    "import collections\n",
    "import more_itertools\n",
    "import wandb\n",
    "import pandas as pd\n",
    "import torch\n",
    "import random\n",
    "import string\n",
    "\n",
    "# Set device for torch\n",
    "device = torch.device(\"cuda\" if torch.cuda.is_available() else \"cpu\")\n",
    "\n",
    "# Set seeds for reproducibility\n",
    "torch.manual_seed(42)\n",
    "random.seed(52)\n",
    "\n",
    "# Define possible repeat lengths (e.g., 'aaa', 'bbbb', 'ccccccc')\n",
    "repeats_range = [3, 4, 5, 7]\n",
    "\n",
    "# Generate `text8` with variable-length sequences for each letter in the alphabet\n",
    "text8 = ' '.join([\n",
    "    ' '.join([char] * random.choice(repeats_range)) for char in string.ascii_lowercase\n",
    "])\n",
    "\n",
    "# Print the generated `text8`\n",
    "print(text8)\n"
   ]
  },
  {
   "cell_type": "code",
   "execution_count": 2,
   "metadata": {},
   "outputs": [],
   "source": [
    "def preprocess(text: str) -> list[str]:\n",
    "  text = text.lower()\n",
    "  words = text.split()\n",
    "  stats = collections.Counter(words)\n",
    "  words = [word for word in words if stats[word] > 0]\n",
    "  return words"
   ]
  },
  {
   "cell_type": "code",
   "execution_count": 1,
   "metadata": {},
   "outputs": [],
   "source": [
    "import tqdm\n",
    "import collections\n",
    "import more_itertools\n",
    "import wandb\n",
    "import pandas as pd\n",
    "import torch\n",
    "import random\n",
    "import string\n",
    "\n",
    "\n",
    "def preprocess(text: str) -> list[str]:\n",
    "  text = text.lower()\n",
    "  text = text.replace('.',  ' <PERIOD> ')\n",
    "  text = text.replace(',',  ' <COMMA> ')\n",
    "  text = text.replace('\"',  ' <QUOTATION_MARK> ')\n",
    "  text = text.replace(';',  ' <SEMICOLON> ')\n",
    "  text = text.replace('!',  ' <EXCLAMATION_MARK> ')\n",
    "  text = text.replace('?',  ' <QUESTION_MARK> ')\n",
    "  text = text.replace('(',  ' <LEFT_PAREN> ')\n",
    "  text = text.replace(')',  ' <RIGHT_PAREN> ')\n",
    "  text = text.replace('--', ' <HYPHENS> ')\n",
    "  text = text.replace('?',  ' <QUESTION_MARK> ')\n",
    "  text = text.replace(':',  ' <COLON> ')\n",
    "  words = text.split()\n",
    "  stats = collections.Counter(words)\n",
    "  words = [word for word in words if stats[word] > 5]\n",
    "  return words"
   ]
  },
  {
   "cell_type": "code",
   "execution_count": 2,
   "metadata": {},
   "outputs": [],
   "source": [
    "with open('text8') as f: text8: str = f.read()\n",
    "titles_string = ' '.join(text8)  # Joining with a space\n",
    "\n",
    "# Concatenate the titles string to the text8 variable\n",
    "text8 += ' ' + titles_string  # Add a space for separation"
   ]
  },
  {
   "cell_type": "code",
   "execution_count": 3,
   "metadata": {},
   "outputs": [],
   "source": [
    "corpus: list[str] = preprocess(text8)"
   ]
  },
  {
   "cell_type": "code",
   "execution_count": 5,
   "metadata": {},
   "outputs": [
    {
     "name": "stdout",
     "output_type": "stream",
     "text": [
      " anarchism originated as \n"
     ]
    }
   ],
   "source": [
    "print(text8[:25])"
   ]
  },
  {
   "cell_type": "code",
   "execution_count": 6,
   "metadata": {},
   "outputs": [],
   "source": [
    "def create_lookup_tables(words: list[str]) -> tuple[dict[str, int], dict[int, str]]:\n",
    "  word_counts = collections.Counter(words)\n",
    "  vocab = sorted(word_counts, key=lambda k: word_counts.get(k), reverse=True)\n",
    "  int_to_vocab = {ii+1: word for ii, word in enumerate(vocab)}\n",
    "  int_to_vocab[0] = '<PAD>'\n",
    "  vocab_to_int = {word: ii for ii, word in int_to_vocab.items()}\n",
    "  return vocab_to_int, int_to_vocab"
   ]
  },
  {
   "cell_type": "code",
   "execution_count": 7,
   "metadata": {},
   "outputs": [],
   "source": [
    "#creating dictionary \n",
    "words_to_ids, ids_to_words = create_lookup_tables(corpus)"
   ]
  },
  {
   "cell_type": "code",
   "execution_count": 8,
   "metadata": {},
   "outputs": [
    {
     "data": {
      "text/plain": [
       "5234"
      ]
     },
     "execution_count": 8,
     "metadata": {},
     "output_type": "execute_result"
    }
   ],
   "source": [
    "words_to_ids['anarchism']"
   ]
  },
  {
   "cell_type": "code",
   "execution_count": 9,
   "metadata": {},
   "outputs": [],
   "source": [
    "#creating token for the list we have from our dictionary \n",
    "tokens = [words_to_ids[word] for word in corpus]"
   ]
  },
  {
   "cell_type": "code",
   "execution_count": 10,
   "metadata": {},
   "outputs": [],
   "source": [
    "import torch\n",
    "\n",
    "class SkipGramFoo(torch.nn.Module):\n",
    "    def __init__(self, voc, emb, ctx):\n",
    "        super().__init__()\n",
    "        self.emb = torch.nn.Embedding(num_embeddings=voc, embedding_dim=emb)\n",
    "        self.ctx_emb = torch.nn.Embedding(num_embeddings=voc, embedding_dim=emb)  # Additional embedding for context\n",
    "        self.ffw = torch.nn.Linear(in_features=emb, out_features=voc, bias=False)\n",
    "        #self.sig = torch.nn.Sigmoid()\n",
    "\n",
    "    def forward(self, inpt, trgs):\n",
    "        \n",
    "        # Lets stack these tensors\n",
    "        # input is the tar token 1x1\n",
    "        # trgs is the cw 1x4\n",
    "        print(\"this is the shape inpt\",inpt.shape) #[1]\n",
    "        print(\"this is the shape trgs\",trgs.shape) # [1,4]\n",
    "        \n",
    "        # need to unsqueeze\n",
    "        inpt = inpt.unsqueeze(1)\n",
    "\n",
    "        print(\"this is the shape new inpt\",inpt.shape) #[1,1]\n",
    "\n",
    "        cw_tensor = torch.cat((inpt,trgs) ,dim=1)\n",
    "        \n",
    "        print(\"this is the shape\",cw_tensor.shape)\n",
    "        \n",
    "        #Get embeddings for input and context\n",
    "        emb = self.emb(cw_tensor)  # Shape: (batch_size, emb_dim) -> e.g., (1, 64)\n",
    "        print('shape of emb',emb.shape)\n",
    "\n",
    "        ctx = self.ctx_emb(cw_tensor)  # Shape: (batch_size, num_context_tokens, emb_dim) -> e.g., (1, 4, 64)\n",
    "        print('shape of target words',ctx.shape)\n",
    "        \n",
    "        ctx = ctx.squeeze(0)\n",
    "        \n",
    "        print('shape of ctx',ctx.shape)\n",
    "\n",
    "        \n",
    "        similarity_matrix = torch.matmul(ctx, ctx.T) \n",
    "        print('similarity matrix is', similarity_matrix.shape)\n",
    "\n",
    "        \n",
    "        soft_matrix = torch.nn.functional.softmax(similarity_matrix, dim=1)\n",
    "        \n",
    "        print(\"softmax matrix shape\",soft_matrix.shape)\n",
    "        \n",
    "        attention = torch.matmul(soft_matrix, emb)  #Attention embeddings\n",
    "        \n",
    "        print(\"attention\", attention.shape)\n",
    "\n",
    "        \n",
    "        out = self.ffw(attention[:, 0, :])  # project this\n",
    "        \n",
    "        # out = torch.nn.functional.softmax(out, dim=1)\n",
    "        print(\"show me what out looks like -->\", out)\n",
    "        \n",
    "\n",
    "        # out = self.sig(out).clamp(min=1e-7, max=1 - 1e-7)\n",
    "\n",
    "    \n",
    "        return out"
   ]
  },
  {
   "cell_type": "code",
   "execution_count": null,
   "metadata": {},
   "outputs": [],
   "source": [
    "import torch\n",
    "\n",
    "class SkipGramFoo(torch.nn.Module):\n",
    "    def __init__(self, voc, emb, ctx):\n",
    "        super().__init__()\n",
    "        self.emb = torch.nn.Embedding(num_embeddings=voc, embedding_dim=emb)\n",
    "        self.ctx_emb = torch.nn.Embedding(num_embeddings=voc, embedding_dim=emb)  # Additional embedding for context\n",
    "        self.ffw = torch.nn.Linear(in_features=emb, out_features=voc, bias=False)\n",
    "        self.linear_q = torch.nn.Linear(64,64)\n",
    "        self.linear_k = torch.nn.Linear(64,64)\n",
    "        self.linear_v = torch.nn.Linear(64,64)\n",
    "        # Add learnable bias for the attention embeddings\n",
    "        self.attn_embedding_bias = torch.nn.Parameter(torch.zeros(emb))\n",
    "    def forward(self, inpt, trgs):\n",
    "        inpt = inpt.unsqueeze(1)\n",
    "        cw_tensor = torch.cat((inpt, trgs), dim=1)\n",
    "        emb = self.emb(cw_tensor) \n",
    "        ctx = self.ctx_emb(cw_tensor)\n",
    "        ctx_1 = self.ctx_emb(cw_tensor)  \n",
    "        ctx = self.linear_q(ctx)\n",
    "        ctx_1 = self.linear_k(ctx_1)\n",
    "        ctx = ctx.squeeze(0)\n",
    "        ctx_1 =ctx_1.squeeze(0)\n",
    "        similarity_matrix = torch.matmul(ctx, ctx_1.T)\n",
    "        soft_matrix = torch.nn.functional.softmax(similarity_matrix, dim=1)\n",
    "        emb = self.linear_v(emb)\n",
    "        attention = torch.matmul(soft_matrix, emb) + self.attn_embedding_bias  \n",
    "        out = self.ffw(attention[:, 0, :]) \n",
    "        return out\n"
   ]
  },
  {
   "cell_type": "code",
   "execution_count": 101,
   "metadata": {},
   "outputs": [
    {
     "name": "stdout",
     "output_type": "stream",
     "text": [
      "mFoo 12231808\n"
     ]
    }
   ],
   "source": [
    "args = (len(words_to_ids), 64,2)\n",
    "mFoo = SkipGramFoo(*args)\n",
    "print('mFoo', sum(p.numel() for p in mFoo.parameters()))"
   ]
  },
  {
   "cell_type": "code",
   "execution_count": 24,
   "metadata": {},
   "outputs": [],
   "source": [
    "#learning rate thing \n",
    "opFoo = torch.optim.Adam(mFoo.parameters(), lr=0.003)"
   ]
  },
  {
   "cell_type": "code",
   "execution_count": 25,
   "metadata": {},
   "outputs": [],
   "source": [
    "device = torch.device(\"cuda\" if torch.cuda.is_available() else \"cpu\")"
   ]
  },
  {
   "cell_type": "code",
   "execution_count": 104,
   "metadata": {},
   "outputs": [
    {
     "data": {
      "application/vnd.jupyter.widget-view+json": {
       "model_id": "c6264bc879a34ce49d470768088700b0",
       "version_major": 2,
       "version_minor": 0
      },
      "text/plain": [
       "VBox(children=(Label(value='Waiting for wandb.init()...\\r'), FloatProgress(value=0.011111111111111112, max=1.0…"
      ]
     },
     "metadata": {},
     "output_type": "display_data"
    },
    {
     "data": {
      "text/html": [
       "Tracking run with wandb version 0.18.3"
      ],
      "text/plain": [
       "<IPython.core.display.HTML object>"
      ]
     },
     "metadata": {},
     "output_type": "display_data"
    },
    {
     "data": {
      "text/html": [
       "Run data is saved locally in <code>c:\\Users\\omare\\Desktop\\MLX project\\Tranformer_project\\wandb\\run-20241105_210008-va7ps4h3</code>"
      ],
      "text/plain": [
       "<IPython.core.display.HTML object>"
      ]
     },
     "metadata": {},
     "output_type": "display_data"
    },
    {
     "data": {
      "text/html": [
       "Syncing run <strong><a href='https://wandb.ai/omareweis123/word2vec_attention/runs/va7ps4h3' target=\"_blank\">bias weighting,increased LR</a></strong> to <a href='https://wandb.ai/omareweis123/word2vec_attention' target=\"_blank\">Weights & Biases</a> (<a href='https://wandb.me/run' target=\"_blank\">docs</a>)<br/>"
      ],
      "text/plain": [
       "<IPython.core.display.HTML object>"
      ]
     },
     "metadata": {},
     "output_type": "display_data"
    },
    {
     "data": {
      "text/html": [
       " View project at <a href='https://wandb.ai/omareweis123/word2vec_attention' target=\"_blank\">https://wandb.ai/omareweis123/word2vec_attention</a>"
      ],
      "text/plain": [
       "<IPython.core.display.HTML object>"
      ]
     },
     "metadata": {},
     "output_type": "display_data"
    },
    {
     "data": {
      "text/html": [
       " View run at <a href='https://wandb.ai/omareweis123/word2vec_attention/runs/va7ps4h3' target=\"_blank\">https://wandb.ai/omareweis123/word2vec_attention/runs/va7ps4h3</a>"
      ],
      "text/plain": [
       "<IPython.core.display.HTML object>"
      ]
     },
     "metadata": {},
     "output_type": "display_data"
    },
    {
     "name": "stderr",
     "output_type": "stream",
     "text": [
      "Epoch 1:   2%|▏         | 2/96 [00:00<00:05, 17.13it/s]"
     ]
    },
    {
     "name": "stdout",
     "output_type": "stream",
     "text": [
      "torch.Size([1, 5, 64])\n",
      "torch.Size([1, 5, 64])\n",
      "torch.Size([1, 5, 64])\n",
      "torch.Size([1, 5, 64])\n",
      "torch.Size([1, 5, 64])\n",
      "torch.Size([1, 5, 64])\n",
      "torch.Size([1, 5, 64])\n",
      "torch.Size([1, 5, 64])\n",
      "torch.Size([1, 5, 64])\n"
     ]
    },
    {
     "name": "stderr",
     "output_type": "stream",
     "text": [
      "Epoch 1:   7%|▋         | 7/96 [00:00<00:04, 18.18it/s]"
     ]
    },
    {
     "name": "stdout",
     "output_type": "stream",
     "text": [
      "torch.Size([1, 5, 64])\n",
      "torch.Size([1, 5, 64])\n",
      "torch.Size([1, 5, 64])\n",
      "torch.Size([1, 5, 64])\n",
      "torch.Size([1, 5, 64])\n",
      "torch.Size([1, 5, 64])\n",
      "torch.Size([1, 5, 64])\n",
      "torch.Size([1, 5, 64])\n",
      "torch.Size([1, 5, 64])\n",
      "torch.Size([1, 5, 64])\n",
      "torch.Size([1, 5, 64])\n",
      "torch.Size([1, 5, 64])\n",
      "torch.Size([1, 5, 64])\n",
      "torch.Size([1, 5, 64])\n",
      "torch.Size([1, 5, 64])\n"
     ]
    },
    {
     "name": "stderr",
     "output_type": "stream",
     "text": [
      "Epoch 1:  10%|█         | 10/96 [00:00<00:04, 19.64it/s]"
     ]
    },
    {
     "name": "stdout",
     "output_type": "stream",
     "text": [
      "torch.Size([1, 5, 64])\n",
      "torch.Size([1, 5, 64])\n",
      "torch.Size([1, 5, 64])\n",
      "torch.Size([1, 5, 64])\n",
      "torch.Size([1, 5, 64])\n",
      "torch.Size([1, 5, 64])\n",
      "torch.Size([1, 5, 64])\n",
      "torch.Size([1, 5, 64])\n",
      "torch.Size([1, 5, 64])\n",
      "torch.Size([1, 5, 64])\n",
      "torch.Size([1, 5, 64])\n",
      "torch.Size([1, 5, 64])\n",
      "torch.Size([1, 5, 64])\n",
      "torch.Size([1, 5, 64])\n",
      "torch.Size([1, 5, 64])\n"
     ]
    },
    {
     "name": "stderr",
     "output_type": "stream",
     "text": [
      "Epoch 1:  17%|█▋        | 16/96 [00:00<00:03, 21.17it/s]"
     ]
    },
    {
     "name": "stdout",
     "output_type": "stream",
     "text": [
      "torch.Size([1, 5, 64])\n",
      "torch.Size([1, 5, 64])\n",
      "torch.Size([1, 5, 64])\n",
      "torch.Size([1, 5, 64])\n",
      "torch.Size([1, 5, 64])\n",
      "torch.Size([1, 5, 64])\n",
      "torch.Size([1, 5, 64])\n",
      "torch.Size([1, 5, 64])\n",
      "torch.Size([1, 5, 64])\n",
      "torch.Size([1, 5, 64])\n",
      "torch.Size([1, 5, 64])\n",
      "torch.Size([1, 5, 64])\n",
      "torch.Size([1, 5, 64])\n",
      "torch.Size([1, 5, 64])\n",
      "torch.Size([1, 5, 64])\n"
     ]
    },
    {
     "name": "stderr",
     "output_type": "stream",
     "text": [
      "Epoch 1:  23%|██▎       | 22/96 [00:01<00:03, 22.37it/s]"
     ]
    },
    {
     "name": "stdout",
     "output_type": "stream",
     "text": [
      "torch.Size([1, 5, 64])\n",
      "torch.Size([1, 5, 64])\n",
      "torch.Size([1, 5, 64])\n",
      "torch.Size([1, 5, 64])\n",
      "torch.Size([1, 5, 64])\n",
      "torch.Size([1, 5, 64])\n",
      "torch.Size([1, 5, 64])\n",
      "torch.Size([1, 5, 64])\n",
      "torch.Size([1, 5, 64])\n",
      "torch.Size([1, 5, 64])\n",
      "torch.Size([1, 5, 64])\n",
      "torch.Size([1, 5, 64])\n",
      "torch.Size([1, 5, 64])\n",
      "torch.Size([1, 5, 64])\n",
      "torch.Size([1, 5, 64])\n"
     ]
    },
    {
     "name": "stderr",
     "output_type": "stream",
     "text": [
      "Epoch 1:  26%|██▌       | 25/96 [00:01<00:03, 21.93it/s]"
     ]
    },
    {
     "name": "stdout",
     "output_type": "stream",
     "text": [
      "torch.Size([1, 5, 64])\n",
      "torch.Size([1, 5, 64])\n",
      "torch.Size([1, 5, 64])\n",
      "torch.Size([1, 5, 64])\n",
      "torch.Size([1, 5, 64])\n",
      "torch.Size([1, 5, 64])\n",
      "torch.Size([1, 5, 64])\n",
      "torch.Size([1, 5, 64])\n",
      "torch.Size([1, 5, 64])\n",
      "torch.Size([1, 5, 64])\n",
      "torch.Size([1, 5, 64])\n",
      "torch.Size([1, 5, 64])\n",
      "torch.Size([1, 5, 64])\n",
      "torch.Size([1, 5, 64])\n",
      "torch.Size([1, 5, 64])\n"
     ]
    },
    {
     "name": "stderr",
     "output_type": "stream",
     "text": [
      "Epoch 1:  32%|███▏      | 31/96 [00:01<00:02, 22.56it/s]"
     ]
    },
    {
     "name": "stdout",
     "output_type": "stream",
     "text": [
      "torch.Size([1, 5, 64])\n",
      "torch.Size([1, 5, 64])\n",
      "torch.Size([1, 5, 64])\n",
      "torch.Size([1, 5, 64])\n",
      "torch.Size([1, 5, 64])\n",
      "torch.Size([1, 5, 64])\n",
      "torch.Size([1, 5, 64])\n",
      "torch.Size([1, 5, 64])\n",
      "torch.Size([1, 5, 64])\n",
      "torch.Size([1, 5, 64])\n",
      "torch.Size([1, 5, 64])\n",
      "torch.Size([1, 5, 64])\n",
      "torch.Size([1, 5, 64])\n",
      "torch.Size([1, 5, 64])\n",
      "torch.Size([1, 5, 64])\n",
      "torch.Size([1, 5, 64])\n"
     ]
    },
    {
     "name": "stderr",
     "output_type": "stream",
     "text": [
      "Epoch 1:  39%|███▊      | 37/96 [00:01<00:02, 22.84it/s]"
     ]
    },
    {
     "name": "stdout",
     "output_type": "stream",
     "text": [
      "torch.Size([1, 5, 64])\n",
      "torch.Size([1, 5, 64])\n",
      "torch.Size([1, 5, 64])\n",
      "torch.Size([1, 5, 64])\n",
      "torch.Size([1, 5, 64])\n",
      "torch.Size([1, 5, 64])\n",
      "torch.Size([1, 5, 64])\n",
      "torch.Size([1, 5, 64])\n",
      "torch.Size([1, 5, 64])\n",
      "torch.Size([1, 5, 64])\n",
      "torch.Size([1, 5, 64])\n",
      "torch.Size([1, 5, 64])\n",
      "torch.Size([1, 5, 64])\n",
      "torch.Size([1, 5, 64])\n"
     ]
    },
    {
     "name": "stderr",
     "output_type": "stream",
     "text": [
      "Epoch 1:  42%|████▏     | 40/96 [00:01<00:02, 22.44it/s]"
     ]
    },
    {
     "name": "stdout",
     "output_type": "stream",
     "text": [
      "torch.Size([1, 5, 64])\n",
      "torch.Size([1, 5, 64])\n",
      "torch.Size([1, 5, 64])\n",
      "torch.Size([1, 5, 64])\n",
      "torch.Size([1, 5, 64])\n",
      "torch.Size([1, 5, 64])\n",
      "torch.Size([1, 5, 64])\n",
      "torch.Size([1, 5, 64])\n",
      "torch.Size([1, 5, 64])\n",
      "torch.Size([1, 5, 64])\n",
      "torch.Size([1, 5, 64])\n",
      "torch.Size([1, 5, 64])\n",
      "torch.Size([1, 5, 64])\n",
      "torch.Size([1, 5, 64])\n",
      "torch.Size([1, 5, 64])\n"
     ]
    },
    {
     "name": "stderr",
     "output_type": "stream",
     "text": [
      "Epoch 1:  48%|████▊     | 46/96 [00:02<00:02, 21.54it/s]"
     ]
    },
    {
     "name": "stdout",
     "output_type": "stream",
     "text": [
      "torch.Size([1, 5, 64])\n",
      "torch.Size([1, 5, 64])\n",
      "torch.Size([1, 5, 64])\n",
      "torch.Size([1, 5, 64])\n",
      "torch.Size([1, 5, 64])\n",
      "torch.Size([1, 5, 64])\n",
      "torch.Size([1, 5, 64])\n",
      "torch.Size([1, 5, 64])\n",
      "torch.Size([1, 5, 64])\n",
      "torch.Size([1, 5, 64])\n",
      "torch.Size([1, 5, 64])\n",
      "torch.Size([1, 5, 64])\n",
      "torch.Size([1, 5, 64])\n",
      "torch.Size([1, 5, 64])\n",
      "torch.Size([1, 5, 64])\n"
     ]
    },
    {
     "name": "stderr",
     "output_type": "stream",
     "text": [
      "Epoch 1:  51%|█████     | 49/96 [00:02<00:02, 21.83it/s]"
     ]
    },
    {
     "name": "stdout",
     "output_type": "stream",
     "text": [
      "torch.Size([1, 5, 64])\n",
      "torch.Size([1, 5, 64])\n",
      "torch.Size([1, 5, 64])\n",
      "torch.Size([1, 5, 64])\n",
      "torch.Size([1, 5, 64])\n",
      "torch.Size([1, 5, 64])\n",
      "torch.Size([1, 5, 64])\n",
      "torch.Size([1, 5, 64])\n",
      "torch.Size([1, 5, 64])\n",
      "torch.Size([1, 5, 64])\n",
      "torch.Size([1, 5, 64])\n",
      "torch.Size([1, 5, 64])\n"
     ]
    },
    {
     "name": "stderr",
     "output_type": "stream",
     "text": [
      "Epoch 1:  57%|█████▋    | 55/96 [00:02<00:01, 21.73it/s]"
     ]
    },
    {
     "name": "stdout",
     "output_type": "stream",
     "text": [
      "torch.Size([1, 5, 64])\n",
      "torch.Size([1, 5, 64])\n",
      "torch.Size([1, 5, 64])\n",
      "torch.Size([1, 5, 64])\n",
      "torch.Size([1, 5, 64])\n",
      "torch.Size([1, 5, 64])\n",
      "torch.Size([1, 5, 64])\n",
      "torch.Size([1, 5, 64])\n",
      "torch.Size([1, 5, 64])\n",
      "torch.Size([1, 5, 64])\n",
      "torch.Size([1, 5, 64])\n",
      "torch.Size([1, 5, 64])\n",
      "torch.Size([1, 5, 64])\n",
      "torch.Size([1, 5, 64])\n",
      "torch.Size([1, 5, 64])\n"
     ]
    },
    {
     "name": "stderr",
     "output_type": "stream",
     "text": [
      "Epoch 1:  60%|██████    | 58/96 [00:02<00:01, 21.94it/s]"
     ]
    },
    {
     "name": "stdout",
     "output_type": "stream",
     "text": [
      "torch.Size([1, 5, 64])\n",
      "torch.Size([1, 5, 64])\n",
      "torch.Size([1, 5, 64])\n",
      "torch.Size([1, 5, 64])\n",
      "torch.Size([1, 5, 64])\n",
      "torch.Size([1, 5, 64])\n",
      "torch.Size([1, 5, 64])\n",
      "torch.Size([1, 5, 64])\n",
      "torch.Size([1, 5, 64])\n",
      "torch.Size([1, 5, 64])\n",
      "torch.Size([1, 5, 64])\n",
      "torch.Size([1, 5, 64])\n"
     ]
    },
    {
     "name": "stderr",
     "output_type": "stream",
     "text": [
      "Epoch 1:  67%|██████▋   | 64/96 [00:02<00:01, 22.32it/s]"
     ]
    },
    {
     "name": "stdout",
     "output_type": "stream",
     "text": [
      "torch.Size([1, 5, 64])\n",
      "torch.Size([1, 5, 64])\n",
      "torch.Size([1, 5, 64])\n",
      "torch.Size([1, 5, 64])\n",
      "torch.Size([1, 5, 64])\n",
      "torch.Size([1, 5, 64])\n",
      "torch.Size([1, 5, 64])\n",
      "torch.Size([1, 5, 64])\n",
      "torch.Size([1, 5, 64])\n",
      "torch.Size([1, 5, 64])\n",
      "torch.Size([1, 5, 64])\n",
      "torch.Size([1, 5, 64])\n",
      "torch.Size([1, 5, 64])\n",
      "torch.Size([1, 5, 64])\n",
      "torch.Size([1, 5, 64])\n",
      "torch.Size([1, 5, 64])\n",
      "torch.Size([1, 5, 64])\n",
      "torch.Size([1, 5, 64])\n"
     ]
    },
    {
     "name": "stderr",
     "output_type": "stream",
     "text": [
      "Epoch 1:  73%|███████▎  | 70/96 [00:03<00:01, 21.94it/s]"
     ]
    },
    {
     "name": "stdout",
     "output_type": "stream",
     "text": [
      "torch.Size([1, 5, 64])\n",
      "torch.Size([1, 5, 64])\n",
      "torch.Size([1, 5, 64])\n",
      "torch.Size([1, 5, 64])\n",
      "torch.Size([1, 5, 64])\n",
      "torch.Size([1, 5, 64])\n",
      "torch.Size([1, 5, 64])\n",
      "torch.Size([1, 5, 64])\n",
      "torch.Size([1, 5, 64])\n",
      "torch.Size([1, 5, 64])\n",
      "torch.Size([1, 5, 64])\n",
      "torch.Size([1, 5, 64])\n",
      "torch.Size([1, 5, 64])\n",
      "torch.Size([1, 5, 64])\n",
      "torch.Size([1, 5, 64])\n"
     ]
    },
    {
     "name": "stderr",
     "output_type": "stream",
     "text": [
      "Epoch 1:  76%|███████▌  | 73/96 [00:03<00:01, 21.65it/s]"
     ]
    },
    {
     "name": "stdout",
     "output_type": "stream",
     "text": [
      "torch.Size([1, 5, 64])\n",
      "torch.Size([1, 5, 64])\n",
      "torch.Size([1, 5, 64])\n",
      "torch.Size([1, 5, 64])\n",
      "torch.Size([1, 5, 64])\n",
      "torch.Size([1, 5, 64])\n",
      "torch.Size([1, 5, 64])\n",
      "torch.Size([1, 5, 64])\n",
      "torch.Size([1, 5, 64])\n",
      "torch.Size([1, 5, 64])\n",
      "torch.Size([1, 5, 64])\n",
      "torch.Size([1, 5, 64])\n"
     ]
    },
    {
     "name": "stderr",
     "output_type": "stream",
     "text": [
      "Epoch 1:  82%|████████▏ | 79/96 [00:03<00:00, 20.78it/s]"
     ]
    },
    {
     "name": "stdout",
     "output_type": "stream",
     "text": [
      "torch.Size([1, 5, 64])\n",
      "torch.Size([1, 5, 64])\n",
      "torch.Size([1, 5, 64])\n",
      "torch.Size([1, 5, 64])\n",
      "torch.Size([1, 5, 64])\n",
      "torch.Size([1, 5, 64])\n",
      "torch.Size([1, 5, 64])\n",
      "torch.Size([1, 5, 64])\n",
      "torch.Size([1, 5, 64])\n",
      "torch.Size([1, 5, 64])\n",
      "torch.Size([1, 5, 64])\n",
      "torch.Size([1, 5, 64])\n",
      "torch.Size([1, 5, 64])\n",
      "torch.Size([1, 5, 64])\n",
      "torch.Size([1, 5, 64])\n"
     ]
    },
    {
     "name": "stderr",
     "output_type": "stream",
     "text": [
      "Epoch 1:  85%|████████▌ | 82/96 [00:03<00:00, 20.67it/s]"
     ]
    },
    {
     "name": "stdout",
     "output_type": "stream",
     "text": [
      "torch.Size([1, 5, 64])\n",
      "torch.Size([1, 5, 64])\n",
      "torch.Size([1, 5, 64])\n",
      "torch.Size([1, 5, 64])\n",
      "torch.Size([1, 5, 64])\n",
      "torch.Size([1, 5, 64])\n",
      "torch.Size([1, 5, 64])\n",
      "torch.Size([1, 5, 64])\n",
      "torch.Size([1, 5, 64])\n",
      "torch.Size([1, 5, 64])\n",
      "torch.Size([1, 5, 64])\n",
      "torch.Size([1, 5, 64])\n"
     ]
    },
    {
     "name": "stderr",
     "output_type": "stream",
     "text": [
      "Epoch 1:  92%|█████████▏| 88/96 [00:04<00:00, 19.93it/s]"
     ]
    },
    {
     "name": "stdout",
     "output_type": "stream",
     "text": [
      "torch.Size([1, 5, 64])\n",
      "torch.Size([1, 5, 64])\n",
      "torch.Size([1, 5, 64])\n",
      "torch.Size([1, 5, 64])\n",
      "torch.Size([1, 5, 64])\n",
      "torch.Size([1, 5, 64])\n",
      "torch.Size([1, 5, 64])\n",
      "torch.Size([1, 5, 64])\n",
      "torch.Size([1, 5, 64])\n",
      "torch.Size([1, 5, 64])\n",
      "torch.Size([1, 5, 64])\n",
      "torch.Size([1, 5, 64])\n",
      "torch.Size([1, 5, 64])\n",
      "torch.Size([1, 5, 64])\n",
      "torch.Size([1, 5, 64])\n"
     ]
    },
    {
     "name": "stderr",
     "output_type": "stream",
     "text": [
      "Epoch 1:  95%|█████████▍| 91/96 [00:04<00:00, 20.23it/s]"
     ]
    },
    {
     "name": "stdout",
     "output_type": "stream",
     "text": [
      "torch.Size([1, 5, 64])\n",
      "torch.Size([1, 5, 64])\n",
      "torch.Size([1, 5, 64])\n",
      "torch.Size([1, 5, 64])\n",
      "torch.Size([1, 5, 64])\n",
      "torch.Size([1, 5, 64])\n",
      "torch.Size([1, 5, 64])\n",
      "torch.Size([1, 5, 64])\n",
      "torch.Size([1, 5, 64])\n",
      "torch.Size([1, 5, 64])\n",
      "torch.Size([1, 5, 64])\n",
      "torch.Size([1, 5, 64])\n"
     ]
    },
    {
     "name": "stderr",
     "output_type": "stream",
     "text": [
      "                                                        \r"
     ]
    },
    {
     "name": "stdout",
     "output_type": "stream",
     "text": [
      "torch.Size([1, 5, 64])\n",
      "torch.Size([1, 5, 64])\n",
      "torch.Size([1, 5, 64])\n",
      "torch.Size([1, 5, 64])\n",
      "torch.Size([1, 5, 64])\n",
      "torch.Size([1, 5, 64])\n"
     ]
    },
    {
     "name": "stderr",
     "output_type": "stream",
     "text": [
      "Epoch 2:   0%|          | 0/96 [00:00<?, ?it/s]"
     ]
    },
    {
     "name": "stdout",
     "output_type": "stream",
     "text": [
      "torch.Size([1, 5, 64])\n",
      "torch.Size([1, 5, 64])\n",
      "torch.Size([1, 5, 64])\n",
      "torch.Size([1, 5, 64])\n",
      "torch.Size([1, 5, 64])\n",
      "torch.Size([1, 5, 64])\n"
     ]
    },
    {
     "name": "stderr",
     "output_type": "stream",
     "text": [
      "Epoch 2:   2%|▏         | 2/96 [00:00<00:06, 14.34it/s]"
     ]
    },
    {
     "name": "stdout",
     "output_type": "stream",
     "text": [
      "torch.Size([1, 5, 64])\n",
      "torch.Size([1, 5, 64])\n",
      "torch.Size([1, 5, 64])\n"
     ]
    },
    {
     "name": "stderr",
     "output_type": "stream",
     "text": [
      "Epoch 2:   4%|▍         | 4/96 [00:00<00:05, 16.37it/s]"
     ]
    },
    {
     "name": "stdout",
     "output_type": "stream",
     "text": [
      "torch.Size([1, 5, 64])\n",
      "torch.Size([1, 5, 64])\n",
      "torch.Size([1, 5, 64])\n",
      "torch.Size([1, 5, 64])\n",
      "torch.Size([1, 5, 64])\n",
      "torch.Size([1, 5, 64])\n",
      "torch.Size([1, 5, 64])\n",
      "torch.Size([1, 5, 64])\n",
      "torch.Size([1, 5, 64])\n"
     ]
    },
    {
     "name": "stderr",
     "output_type": "stream",
     "text": [
      "Epoch 2:   8%|▊         | 8/96 [00:00<00:05, 16.23it/s]"
     ]
    },
    {
     "name": "stdout",
     "output_type": "stream",
     "text": [
      "torch.Size([1, 5, 64])\n",
      "torch.Size([1, 5, 64])\n",
      "torch.Size([1, 5, 64])\n",
      "torch.Size([1, 5, 64])\n",
      "torch.Size([1, 5, 64])\n",
      "torch.Size([1, 5, 64])\n",
      "torch.Size([1, 5, 64])\n",
      "torch.Size([1, 5, 64])\n",
      "torch.Size([1, 5, 64])\n",
      "torch.Size([1, 5, 64])\n",
      "torch.Size([1, 5, 64])\n",
      "torch.Size([1, 5, 64])\n"
     ]
    },
    {
     "name": "stderr",
     "output_type": "stream",
     "text": [
      "Epoch 2:  15%|█▍        | 14/96 [00:00<00:04, 18.17it/s]"
     ]
    },
    {
     "name": "stdout",
     "output_type": "stream",
     "text": [
      "torch.Size([1, 5, 64])\n",
      "torch.Size([1, 5, 64])\n",
      "torch.Size([1, 5, 64])\n",
      "torch.Size([1, 5, 64])\n",
      "torch.Size([1, 5, 64])\n",
      "torch.Size([1, 5, 64])\n",
      "torch.Size([1, 5, 64])\n",
      "torch.Size([1, 5, 64])\n",
      "torch.Size([1, 5, 64])\n",
      "torch.Size([1, 5, 64])\n",
      "torch.Size([1, 5, 64])\n",
      "torch.Size([1, 5, 64])\n"
     ]
    },
    {
     "name": "stderr",
     "output_type": "stream",
     "text": [
      "Epoch 2:  17%|█▋        | 16/96 [00:00<00:04, 18.60it/s]"
     ]
    },
    {
     "name": "stdout",
     "output_type": "stream",
     "text": [
      "torch.Size([1, 5, 64])\n",
      "torch.Size([1, 5, 64])\n",
      "torch.Size([1, 5, 64])\n",
      "torch.Size([1, 5, 64])\n",
      "torch.Size([1, 5, 64])\n",
      "torch.Size([1, 5, 64])\n",
      "torch.Size([1, 5, 64])\n",
      "torch.Size([1, 5, 64])\n",
      "torch.Size([1, 5, 64])\n",
      "torch.Size([1, 5, 64])\n",
      "torch.Size([1, 5, 64])\n",
      "torch.Size([1, 5, 64])\n"
     ]
    },
    {
     "name": "stderr",
     "output_type": "stream",
     "text": [
      "Epoch 2:  21%|██        | 20/96 [00:01<00:04, 18.00it/s]"
     ]
    },
    {
     "name": "stdout",
     "output_type": "stream",
     "text": [
      "torch.Size([1, 5, 64])\n",
      "torch.Size([1, 5, 64])\n",
      "torch.Size([1, 5, 64])\n",
      "torch.Size([1, 5, 64])\n",
      "torch.Size([1, 5, 64])\n",
      "torch.Size([1, 5, 64])\n",
      "torch.Size([1, 5, 64])\n",
      "torch.Size([1, 5, 64])\n",
      "torch.Size([1, 5, 64])\n",
      "torch.Size([1, 5, 64])\n",
      "torch.Size([1, 5, 64])\n",
      "torch.Size([1, 5, 64])\n"
     ]
    },
    {
     "name": "stderr",
     "output_type": "stream",
     "text": [
      "Epoch 2:  25%|██▌       | 24/96 [00:01<00:04, 17.55it/s]"
     ]
    },
    {
     "name": "stdout",
     "output_type": "stream",
     "text": [
      "torch.Size([1, 5, 64])\n",
      "torch.Size([1, 5, 64])\n",
      "torch.Size([1, 5, 64])\n",
      "torch.Size([1, 5, 64])\n",
      "torch.Size([1, 5, 64])\n",
      "torch.Size([1, 5, 64])\n",
      "torch.Size([1, 5, 64])\n",
      "torch.Size([1, 5, 64])\n",
      "torch.Size([1, 5, 64])\n",
      "torch.Size([1, 5, 64])\n",
      "torch.Size([1, 5, 64])\n",
      "torch.Size([1, 5, 64])\n"
     ]
    },
    {
     "name": "stderr",
     "output_type": "stream",
     "text": [
      "Epoch 2:  29%|██▉       | 28/96 [00:01<00:03, 17.20it/s]"
     ]
    },
    {
     "name": "stdout",
     "output_type": "stream",
     "text": [
      "torch.Size([1, 5, 64])\n",
      "torch.Size([1, 5, 64])\n",
      "torch.Size([1, 5, 64])\n",
      "torch.Size([1, 5, 64])\n",
      "torch.Size([1, 5, 64])\n",
      "torch.Size([1, 5, 64])\n",
      "torch.Size([1, 5, 64])\n",
      "torch.Size([1, 5, 64])\n",
      "torch.Size([1, 5, 64])\n",
      "torch.Size([1, 5, 64])\n",
      "torch.Size([1, 5, 64])\n",
      "torch.Size([1, 5, 64])\n",
      "torch.Size([1, 5, 64])\n",
      "torch.Size([1, 5, 64])\n",
      "torch.Size([1, 5, 64])\n"
     ]
    },
    {
     "name": "stderr",
     "output_type": "stream",
     "text": [
      "Epoch 2:  34%|███▍      | 33/96 [00:01<00:03, 18.20it/s]"
     ]
    },
    {
     "name": "stdout",
     "output_type": "stream",
     "text": [
      "torch.Size([1, 5, 64])\n",
      "torch.Size([1, 5, 64])\n",
      "torch.Size([1, 5, 64])\n",
      "torch.Size([1, 5, 64])\n",
      "torch.Size([1, 5, 64])\n",
      "torch.Size([1, 5, 64])\n",
      "torch.Size([1, 5, 64])\n",
      "torch.Size([1, 5, 64])\n",
      "torch.Size([1, 5, 64])\n",
      "torch.Size([1, 5, 64])\n",
      "torch.Size([1, 5, 64])\n",
      "torch.Size([1, 5, 64])\n",
      "torch.Size([1, 5, 64])\n",
      "torch.Size([1, 5, 64])\n",
      "torch.Size([1, 5, 64])\n"
     ]
    },
    {
     "name": "stderr",
     "output_type": "stream",
     "text": [
      "Epoch 2:  41%|████      | 39/96 [00:02<00:02, 21.35it/s]"
     ]
    },
    {
     "name": "stdout",
     "output_type": "stream",
     "text": [
      "torch.Size([1, 5, 64])\n",
      "torch.Size([1, 5, 64])\n",
      "torch.Size([1, 5, 64])\n",
      "torch.Size([1, 5, 64])\n",
      "torch.Size([1, 5, 64])\n",
      "torch.Size([1, 5, 64])\n",
      "torch.Size([1, 5, 64])\n",
      "torch.Size([1, 5, 64])\n",
      "torch.Size([1, 5, 64])\n",
      "torch.Size([1, 5, 64])\n",
      "torch.Size([1, 5, 64])\n",
      "torch.Size([1, 5, 64])\n",
      "torch.Size([1, 5, 64])\n",
      "torch.Size([1, 5, 64])\n",
      "torch.Size([1, 5, 64])\n",
      "torch.Size([1, 5, 64])\n",
      "torch.Size([1, 5, 64])\n",
      "torch.Size([1, 5, 64])\n"
     ]
    },
    {
     "name": "stderr",
     "output_type": "stream",
     "text": [
      "Epoch 2:  47%|████▋     | 45/96 [00:02<00:02, 21.22it/s]"
     ]
    },
    {
     "name": "stdout",
     "output_type": "stream",
     "text": [
      "torch.Size([1, 5, 64])\n",
      "torch.Size([1, 5, 64])\n",
      "torch.Size([1, 5, 64])\n",
      "torch.Size([1, 5, 64])\n",
      "torch.Size([1, 5, 64])\n",
      "torch.Size([1, 5, 64])\n",
      "torch.Size([1, 5, 64])\n",
      "torch.Size([1, 5, 64])\n",
      "torch.Size([1, 5, 64])\n",
      "torch.Size([1, 5, 64])\n",
      "torch.Size([1, 5, 64])\n",
      "torch.Size([1, 5, 64])\n",
      "torch.Size([1, 5, 64])\n",
      "torch.Size([1, 5, 64])\n",
      "torch.Size([1, 5, 64])\n"
     ]
    },
    {
     "name": "stderr",
     "output_type": "stream",
     "text": [
      "Epoch 2:  53%|█████▎    | 51/96 [00:02<00:02, 22.24it/s]"
     ]
    },
    {
     "name": "stdout",
     "output_type": "stream",
     "text": [
      "torch.Size([1, 5, 64])\n",
      "torch.Size([1, 5, 64])\n",
      "torch.Size([1, 5, 64])\n",
      "torch.Size([1, 5, 64])\n",
      "torch.Size([1, 5, 64])\n",
      "torch.Size([1, 5, 64])\n",
      "torch.Size([1, 5, 64])\n",
      "torch.Size([1, 5, 64])\n",
      "torch.Size([1, 5, 64])\n",
      "torch.Size([1, 5, 64])\n",
      "torch.Size([1, 5, 64])\n",
      "torch.Size([1, 5, 64])\n",
      "torch.Size([1, 5, 64])\n",
      "torch.Size([1, 5, 64])\n",
      "torch.Size([1, 5, 64])\n"
     ]
    },
    {
     "name": "stderr",
     "output_type": "stream",
     "text": [
      "Epoch 2:  56%|█████▋    | 54/96 [00:02<00:01, 21.77it/s]"
     ]
    },
    {
     "name": "stdout",
     "output_type": "stream",
     "text": [
      "torch.Size([1, 5, 64])\n",
      "torch.Size([1, 5, 64])\n",
      "torch.Size([1, 5, 64])\n",
      "torch.Size([1, 5, 64])\n",
      "torch.Size([1, 5, 64])\n",
      "torch.Size([1, 5, 64])\n",
      "torch.Size([1, 5, 64])\n",
      "torch.Size([1, 5, 64])\n",
      "torch.Size([1, 5, 64])\n",
      "torch.Size([1, 5, 64])\n",
      "torch.Size([1, 5, 64])\n",
      "torch.Size([1, 5, 64])\n",
      "torch.Size([1, 5, 64])\n",
      "torch.Size([1, 5, 64])\n",
      "torch.Size([1, 5, 64])\n"
     ]
    },
    {
     "name": "stderr",
     "output_type": "stream",
     "text": [
      "Epoch 2:  62%|██████▎   | 60/96 [00:03<00:01, 22.43it/s]"
     ]
    },
    {
     "name": "stdout",
     "output_type": "stream",
     "text": [
      "torch.Size([1, 5, 64])\n",
      "torch.Size([1, 5, 64])\n",
      "torch.Size([1, 5, 64])\n",
      "torch.Size([1, 5, 64])\n",
      "torch.Size([1, 5, 64])\n",
      "torch.Size([1, 5, 64])\n",
      "torch.Size([1, 5, 64])\n",
      "torch.Size([1, 5, 64])\n",
      "torch.Size([1, 5, 64])\n",
      "torch.Size([1, 5, 64])\n",
      "torch.Size([1, 5, 64])\n",
      "torch.Size([1, 5, 64])\n",
      "torch.Size([1, 5, 64])\n",
      "torch.Size([1, 5, 64])\n",
      "torch.Size([1, 5, 64])\n"
     ]
    },
    {
     "name": "stderr",
     "output_type": "stream",
     "text": [
      "Epoch 2:  69%|██████▉   | 66/96 [00:03<00:01, 22.77it/s]"
     ]
    },
    {
     "name": "stdout",
     "output_type": "stream",
     "text": [
      "torch.Size([1, 5, 64])\n",
      "torch.Size([1, 5, 64])\n",
      "torch.Size([1, 5, 64])\n",
      "torch.Size([1, 5, 64])\n",
      "torch.Size([1, 5, 64])\n",
      "torch.Size([1, 5, 64])\n",
      "torch.Size([1, 5, 64])\n",
      "torch.Size([1, 5, 64])\n",
      "torch.Size([1, 5, 64])\n",
      "torch.Size([1, 5, 64])\n",
      "torch.Size([1, 5, 64])\n",
      "torch.Size([1, 5, 64])\n",
      "torch.Size([1, 5, 64])\n",
      "torch.Size([1, 5, 64])\n",
      "torch.Size([1, 5, 64])\n"
     ]
    },
    {
     "name": "stderr",
     "output_type": "stream",
     "text": [
      "Epoch 2:  72%|███████▏  | 69/96 [00:03<00:01, 22.74it/s]"
     ]
    },
    {
     "name": "stdout",
     "output_type": "stream",
     "text": [
      "torch.Size([1, 5, 64])\n",
      "torch.Size([1, 5, 64])\n",
      "torch.Size([1, 5, 64])\n",
      "torch.Size([1, 5, 64])\n",
      "torch.Size([1, 5, 64])\n",
      "torch.Size([1, 5, 64])\n",
      "torch.Size([1, 5, 64])\n",
      "torch.Size([1, 5, 64])\n",
      "torch.Size([1, 5, 64])\n",
      "torch.Size([1, 5, 64])\n",
      "torch.Size([1, 5, 64])\n",
      "torch.Size([1, 5, 64])\n"
     ]
    },
    {
     "name": "stderr",
     "output_type": "stream",
     "text": [
      "Epoch 2:  75%|███████▌  | 72/96 [00:03<00:01, 21.77it/s]"
     ]
    },
    {
     "name": "stdout",
     "output_type": "stream",
     "text": [
      "torch.Size([1, 5, 64])\n",
      "torch.Size([1, 5, 64])\n",
      "torch.Size([1, 5, 64])\n",
      "torch.Size([1, 5, 64])\n",
      "torch.Size([1, 5, 64])\n",
      "torch.Size([1, 5, 64])\n",
      "torch.Size([1, 5, 64])\n",
      "torch.Size([1, 5, 64])\n",
      "torch.Size([1, 5, 64])\n",
      "torch.Size([1, 5, 64])\n",
      "torch.Size([1, 5, 64])\n",
      "torch.Size([1, 5, 64])\n"
     ]
    },
    {
     "name": "stderr",
     "output_type": "stream",
     "text": [
      "Epoch 2:  81%|████████▏ | 78/96 [00:03<00:00, 21.24it/s]"
     ]
    },
    {
     "name": "stdout",
     "output_type": "stream",
     "text": [
      "torch.Size([1, 5, 64])\n",
      "torch.Size([1, 5, 64])\n",
      "torch.Size([1, 5, 64])\n",
      "torch.Size([1, 5, 64])\n",
      "torch.Size([1, 5, 64])\n",
      "torch.Size([1, 5, 64])\n",
      "torch.Size([1, 5, 64])\n",
      "torch.Size([1, 5, 64])\n",
      "torch.Size([1, 5, 64])\n",
      "torch.Size([1, 5, 64])\n",
      "torch.Size([1, 5, 64])\n",
      "torch.Size([1, 5, 64])\n",
      "torch.Size([1, 5, 64])\n",
      "torch.Size([1, 5, 64])\n",
      "torch.Size([1, 5, 64])\n"
     ]
    },
    {
     "name": "stderr",
     "output_type": "stream",
     "text": [
      "Epoch 2:  84%|████████▍ | 81/96 [00:04<00:00, 20.48it/s]"
     ]
    },
    {
     "name": "stdout",
     "output_type": "stream",
     "text": [
      "torch.Size([1, 5, 64])\n",
      "torch.Size([1, 5, 64])\n",
      "torch.Size([1, 5, 64])\n",
      "torch.Size([1, 5, 64])\n",
      "torch.Size([1, 5, 64])\n",
      "torch.Size([1, 5, 64])\n",
      "torch.Size([1, 5, 64])\n",
      "torch.Size([1, 5, 64])\n",
      "torch.Size([1, 5, 64])\n",
      "torch.Size([1, 5, 64])\n",
      "torch.Size([1, 5, 64])\n",
      "torch.Size([1, 5, 64])\n"
     ]
    },
    {
     "name": "stderr",
     "output_type": "stream",
     "text": [
      "Epoch 2:  91%|█████████ | 87/96 [00:04<00:00, 20.58it/s]"
     ]
    },
    {
     "name": "stdout",
     "output_type": "stream",
     "text": [
      "torch.Size([1, 5, 64])\n",
      "torch.Size([1, 5, 64])\n",
      "torch.Size([1, 5, 64])\n",
      "torch.Size([1, 5, 64])\n",
      "torch.Size([1, 5, 64])\n",
      "torch.Size([1, 5, 64])\n",
      "torch.Size([1, 5, 64])\n",
      "torch.Size([1, 5, 64])\n",
      "torch.Size([1, 5, 64])\n",
      "torch.Size([1, 5, 64])\n",
      "torch.Size([1, 5, 64])\n",
      "torch.Size([1, 5, 64])\n",
      "torch.Size([1, 5, 64])\n",
      "torch.Size([1, 5, 64])\n",
      "torch.Size([1, 5, 64])\n"
     ]
    },
    {
     "name": "stderr",
     "output_type": "stream",
     "text": [
      "Epoch 2:  94%|█████████▍| 90/96 [00:04<00:00, 19.95it/s]"
     ]
    },
    {
     "name": "stdout",
     "output_type": "stream",
     "text": [
      "torch.Size([1, 5, 64])\n",
      "torch.Size([1, 5, 64])\n",
      "torch.Size([1, 5, 64])\n",
      "torch.Size([1, 5, 64])\n",
      "torch.Size([1, 5, 64])\n",
      "torch.Size([1, 5, 64])\n",
      "torch.Size([1, 5, 64])\n",
      "torch.Size([1, 5, 64])\n",
      "torch.Size([1, 5, 64])\n",
      "torch.Size([1, 5, 64])\n",
      "torch.Size([1, 5, 64])\n",
      "torch.Size([1, 5, 64])\n"
     ]
    },
    {
     "name": "stderr",
     "output_type": "stream",
     "text": [
      "                                                        \r"
     ]
    },
    {
     "name": "stdout",
     "output_type": "stream",
     "text": [
      "torch.Size([1, 5, 64])\n",
      "torch.Size([1, 5, 64])\n",
      "torch.Size([1, 5, 64])\n",
      "torch.Size([1, 5, 64])\n",
      "torch.Size([1, 5, 64])\n",
      "torch.Size([1, 5, 64])\n",
      "torch.Size([1, 5, 64])\n",
      "torch.Size([1, 5, 64])\n",
      "torch.Size([1, 5, 64])\n"
     ]
    },
    {
     "name": "stderr",
     "output_type": "stream",
     "text": [
      "Epoch 3:   0%|          | 0/96 [00:00<?, ?it/s]"
     ]
    },
    {
     "name": "stdout",
     "output_type": "stream",
     "text": [
      "torch.Size([1, 5, 64])\n",
      "torch.Size([1, 5, 64])\n",
      "torch.Size([1, 5, 64])\n",
      "torch.Size([1, 5, 64])\n",
      "torch.Size([1, 5, 64])\n",
      "torch.Size([1, 5, 64])\n"
     ]
    },
    {
     "name": "stderr",
     "output_type": "stream",
     "text": [
      "Epoch 3:   2%|▏         | 2/96 [00:00<00:04, 19.99it/s]"
     ]
    },
    {
     "name": "stdout",
     "output_type": "stream",
     "text": [
      "torch.Size([1, 5, 64])\n",
      "torch.Size([1, 5, 64])\n",
      "torch.Size([1, 5, 64])\n",
      "torch.Size([1, 5, 64])\n",
      "torch.Size([1, 5, 64])\n",
      "torch.Size([1, 5, 64])\n"
     ]
    },
    {
     "name": "stderr",
     "output_type": "stream",
     "text": [
      "Epoch 3:   4%|▍         | 4/96 [00:00<00:04, 18.88it/s]"
     ]
    },
    {
     "name": "stdout",
     "output_type": "stream",
     "text": [
      "torch.Size([1, 5, 64])\n",
      "torch.Size([1, 5, 64])\n",
      "torch.Size([1, 5, 64])\n",
      "torch.Size([1, 5, 64])\n",
      "torch.Size([1, 5, 64])\n",
      "torch.Size([1, 5, 64])\n"
     ]
    },
    {
     "name": "stderr",
     "output_type": "stream",
     "text": [
      "Epoch 3:   6%|▋         | 6/96 [00:00<00:04, 18.29it/s]"
     ]
    },
    {
     "name": "stdout",
     "output_type": "stream",
     "text": [
      "torch.Size([1, 5, 64])\n",
      "torch.Size([1, 5, 64])\n",
      "torch.Size([1, 5, 64])\n",
      "torch.Size([1, 5, 64])\n",
      "torch.Size([1, 5, 64])\n",
      "torch.Size([1, 5, 64])\n",
      "torch.Size([1, 5, 64])\n",
      "torch.Size([1, 5, 64])\n",
      "torch.Size([1, 5, 64])\n"
     ]
    },
    {
     "name": "stderr",
     "output_type": "stream",
     "text": [
      "Epoch 3:   9%|▉         | 9/96 [00:00<00:04, 19.20it/s]"
     ]
    },
    {
     "name": "stdout",
     "output_type": "stream",
     "text": [
      "torch.Size([1, 5, 64])\n",
      "torch.Size([1, 5, 64])\n",
      "torch.Size([1, 5, 64])\n",
      "torch.Size([1, 5, 64])\n",
      "torch.Size([1, 5, 64])\n",
      "torch.Size([1, 5, 64])"
     ]
    },
    {
     "name": "stderr",
     "output_type": "stream",
     "text": [
      "Epoch 3:  12%|█▎        | 12/96 [00:00<00:04, 19.70it/s]"
     ]
    },
    {
     "name": "stdout",
     "output_type": "stream",
     "text": [
      "\n",
      "torch.Size([1, 5, 64])\n",
      "torch.Size([1, 5, 64])\n",
      "torch.Size([1, 5, 64])\n",
      "torch.Size([1, 5, 64])\n",
      "torch.Size([1, 5, 64])\n",
      "torch.Size([1, 5, 64])\n",
      "torch.Size([1, 5, 64])\n",
      "torch.Size([1, 5, 64])\n",
      "torch.Size([1, 5, 64])\n",
      "torch.Size([1, 5, 64])"
     ]
    },
    {
     "name": "stderr",
     "output_type": "stream",
     "text": [
      "Epoch 3:  16%|█▌        | 15/96 [00:00<00:04, 19.90it/s]"
     ]
    },
    {
     "name": "stdout",
     "output_type": "stream",
     "text": [
      "\n",
      "torch.Size([1, 5, 64])\n",
      "torch.Size([1, 5, 64])\n",
      "torch.Size([1, 5, 64])\n",
      "torch.Size([1, 5, 64])\n",
      "torch.Size([1, 5, 64])\n",
      "torch.Size([1, 5, 64])\n",
      "torch.Size([1, 5, 64])\n",
      "torch.Size([1, 5, 64])\n",
      "torch.Size([1, 5, 64])\n",
      "torch.Size([1, 5, 64])\n",
      "torch.Size([1, 5, 64])\n"
     ]
    },
    {
     "name": "stderr",
     "output_type": "stream",
     "text": [
      "Epoch 3:  22%|██▏       | 21/96 [00:01<00:03, 20.31it/s]"
     ]
    },
    {
     "name": "stdout",
     "output_type": "stream",
     "text": [
      "torch.Size([1, 5, 64])\n",
      "torch.Size([1, 5, 64])\n",
      "torch.Size([1, 5, 64])\n",
      "torch.Size([1, 5, 64])\n",
      "torch.Size([1, 5, 64])\n",
      "torch.Size([1, 5, 64])\n",
      "torch.Size([1, 5, 64])\n",
      "torch.Size([1, 5, 64])\n",
      "torch.Size([1, 5, 64])\n",
      "torch.Size([1, 5, 64])\n",
      "torch.Size([1, 5, 64])\n",
      "torch.Size([1, 5, 64])\n",
      "torch.Size([1, 5, 64])\n",
      "torch.Size([1, 5, 64])\n",
      "torch.Size([1, 5, 64])\n"
     ]
    },
    {
     "name": "stderr",
     "output_type": "stream",
     "text": [
      "Epoch 3:  25%|██▌       | 24/96 [00:01<00:03, 20.30it/s]"
     ]
    },
    {
     "name": "stdout",
     "output_type": "stream",
     "text": [
      "torch.Size([1, 5, 64])\n",
      "torch.Size([1, 5, 64])\n",
      "torch.Size([1, 5, 64])\n",
      "torch.Size([1, 5, 64])\n",
      "torch.Size([1, 5, 64])\n",
      "torch.Size([1, 5, 64])\n",
      "torch.Size([1, 5, 64])\n",
      "torch.Size([1, 5, 64])\n",
      "torch.Size([1, 5, 64])\n",
      "torch.Size([1, 5, 64])\n",
      "torch.Size([1, 5, 64])\n",
      "torch.Size([1, 5, 64])\n"
     ]
    },
    {
     "name": "stderr",
     "output_type": "stream",
     "text": [
      "Epoch 3:  31%|███▏      | 30/96 [00:01<00:03, 21.68it/s]"
     ]
    },
    {
     "name": "stdout",
     "output_type": "stream",
     "text": [
      "torch.Size([1, 5, 64])\n",
      "torch.Size([1, 5, 64])\n",
      "torch.Size([1, 5, 64])\n",
      "torch.Size([1, 5, 64])\n",
      "torch.Size([1, 5, 64])\n",
      "torch.Size([1, 5, 64])\n",
      "torch.Size([1, 5, 64])\n",
      "torch.Size([1, 5, 64])\n",
      "torch.Size([1, 5, 64])\n",
      "torch.Size([1, 5, 64])\n",
      "torch.Size([1, 5, 64])\n",
      "torch.Size([1, 5, 64])\n",
      "torch.Size([1, 5, 64])\n",
      "torch.Size([1, 5, 64])\n",
      "torch.Size([1, 5, 64])\n"
     ]
    },
    {
     "name": "stderr",
     "output_type": "stream",
     "text": [
      "Epoch 3:  34%|███▍      | 33/96 [00:01<00:02, 21.64it/s]"
     ]
    },
    {
     "name": "stdout",
     "output_type": "stream",
     "text": [
      "torch.Size([1, 5, 64])\n",
      "torch.Size([1, 5, 64])\n",
      "torch.Size([1, 5, 64])\n",
      "torch.Size([1, 5, 64])\n",
      "torch.Size([1, 5, 64])\n",
      "torch.Size([1, 5, 64])\n",
      "torch.Size([1, 5, 64])\n",
      "torch.Size([1, 5, 64])\n",
      "torch.Size([1, 5, 64])\n",
      "torch.Size([1, 5, 64])\n",
      "torch.Size([1, 5, 64])\n",
      "torch.Size([1, 5, 64])\n"
     ]
    },
    {
     "name": "stderr",
     "output_type": "stream",
     "text": [
      "Epoch 3:  41%|████      | 39/96 [00:01<00:02, 22.40it/s]"
     ]
    },
    {
     "name": "stdout",
     "output_type": "stream",
     "text": [
      "torch.Size([1, 5, 64])\n",
      "torch.Size([1, 5, 64])\n",
      "torch.Size([1, 5, 64])\n",
      "torch.Size([1, 5, 64])\n",
      "torch.Size([1, 5, 64])\n",
      "torch.Size([1, 5, 64])\n",
      "torch.Size([1, 5, 64])\n",
      "torch.Size([1, 5, 64])\n",
      "torch.Size([1, 5, 64])\n",
      "torch.Size([1, 5, 64])\n",
      "torch.Size([1, 5, 64])\n",
      "torch.Size([1, 5, 64])\n",
      "torch.Size([1, 5, 64])\n",
      "torch.Size([1, 5, 64])\n",
      "torch.Size([1, 5, 64])\n"
     ]
    },
    {
     "name": "stderr",
     "output_type": "stream",
     "text": [
      "Epoch 3:  44%|████▍     | 42/96 [00:01<00:02, 22.52it/s]"
     ]
    },
    {
     "name": "stdout",
     "output_type": "stream",
     "text": [
      "torch.Size([1, 5, 64])\n",
      "torch.Size([1, 5, 64])\n",
      "torch.Size([1, 5, 64])\n",
      "torch.Size([1, 5, 64])\n",
      "torch.Size([1, 5, 64])\n",
      "torch.Size([1, 5, 64])\n",
      "torch.Size([1, 5, 64])\n",
      "torch.Size([1, 5, 64])\n",
      "torch.Size([1, 5, 64])\n",
      "torch.Size([1, 5, 64])\n",
      "torch.Size([1, 5, 64])\n",
      "torch.Size([1, 5, 64])\n"
     ]
    },
    {
     "name": "stderr",
     "output_type": "stream",
     "text": [
      "Epoch 3:  50%|█████     | 48/96 [00:02<00:02, 21.61it/s]"
     ]
    },
    {
     "name": "stdout",
     "output_type": "stream",
     "text": [
      "torch.Size([1, 5, 64])\n",
      "torch.Size([1, 5, 64])\n",
      "torch.Size([1, 5, 64])\n",
      "torch.Size([1, 5, 64])\n",
      "torch.Size([1, 5, 64])\n",
      "torch.Size([1, 5, 64])\n",
      "torch.Size([1, 5, 64])\n",
      "torch.Size([1, 5, 64])\n",
      "torch.Size([1, 5, 64])\n",
      "torch.Size([1, 5, 64])\n",
      "torch.Size([1, 5, 64])\n",
      "torch.Size([1, 5, 64])\n",
      "torch.Size([1, 5, 64])\n",
      "torch.Size([1, 5, 64])\n",
      "torch.Size([1, 5, 64])\n",
      "torch.Size([1, 5, 64])\n",
      "torch.Size([1, 5, 64])\n",
      "torch.Size([1, 5, 64])\n"
     ]
    },
    {
     "name": "stderr",
     "output_type": "stream",
     "text": [
      "Epoch 3:  56%|█████▋    | 54/96 [00:02<00:01, 21.98it/s]"
     ]
    },
    {
     "name": "stdout",
     "output_type": "stream",
     "text": [
      "torch.Size([1, 5, 64])\n",
      "torch.Size([1, 5, 64])\n",
      "torch.Size([1, 5, 64])\n",
      "torch.Size([1, 5, 64])\n",
      "torch.Size([1, 5, 64])\n",
      "torch.Size([1, 5, 64])\n",
      "torch.Size([1, 5, 64])\n",
      "torch.Size([1, 5, 64])\n",
      "torch.Size([1, 5, 64])\n",
      "torch.Size([1, 5, 64])\n",
      "torch.Size([1, 5, 64])\n",
      "torch.Size([1, 5, 64])\n",
      "torch.Size([1, 5, 64])\n",
      "torch.Size([1, 5, 64])\n",
      "torch.Size([1, 5, 64])\n"
     ]
    },
    {
     "name": "stderr",
     "output_type": "stream",
     "text": [
      "Epoch 3:  59%|█████▉    | 57/96 [00:02<00:01, 21.60it/s]"
     ]
    },
    {
     "name": "stdout",
     "output_type": "stream",
     "text": [
      "torch.Size([1, 5, 64])\n",
      "torch.Size([1, 5, 64])\n",
      "torch.Size([1, 5, 64])\n",
      "torch.Size([1, 5, 64])\n",
      "torch.Size([1, 5, 64])\n",
      "torch.Size([1, 5, 64])\n",
      "torch.Size([1, 5, 64])\n",
      "torch.Size([1, 5, 64])\n",
      "torch.Size([1, 5, 64])\n",
      "torch.Size([1, 5, 64])\n",
      "torch.Size([1, 5, 64])\n",
      "torch.Size([1, 5, 64])\n"
     ]
    },
    {
     "name": "stderr",
     "output_type": "stream",
     "text": [
      "Epoch 3:  66%|██████▌   | 63/96 [00:02<00:01, 21.48it/s]"
     ]
    },
    {
     "name": "stdout",
     "output_type": "stream",
     "text": [
      "torch.Size([1, 5, 64])\n",
      "torch.Size([1, 5, 64])\n",
      "torch.Size([1, 5, 64])\n",
      "torch.Size([1, 5, 64])\n",
      "torch.Size([1, 5, 64])\n",
      "torch.Size([1, 5, 64])\n",
      "torch.Size([1, 5, 64])\n",
      "torch.Size([1, 5, 64])\n",
      "torch.Size([1, 5, 64])\n",
      "torch.Size([1, 5, 64])\n",
      "torch.Size([1, 5, 64])\n",
      "torch.Size([1, 5, 64])\n",
      "torch.Size([1, 5, 64])\n",
      "torch.Size([1, 5, 64])\n",
      "torch.Size([1, 5, 64])\n"
     ]
    },
    {
     "name": "stderr",
     "output_type": "stream",
     "text": [
      "Epoch 3:  72%|███████▏  | 69/96 [00:03<00:01, 21.02it/s]"
     ]
    },
    {
     "name": "stdout",
     "output_type": "stream",
     "text": [
      "torch.Size([1, 5, 64])\n",
      "torch.Size([1, 5, 64])\n",
      "torch.Size([1, 5, 64])\n",
      "torch.Size([1, 5, 64])\n",
      "torch.Size([1, 5, 64])\n",
      "torch.Size([1, 5, 64])\n",
      "torch.Size([1, 5, 64])\n",
      "torch.Size([1, 5, 64])\n",
      "torch.Size([1, 5, 64])\n",
      "torch.Size([1, 5, 64])\n",
      "torch.Size([1, 5, 64])\n",
      "torch.Size([1, 5, 64])\n"
     ]
    },
    {
     "name": "stderr",
     "output_type": "stream",
     "text": [
      "Epoch 3:  75%|███████▌  | 72/96 [00:03<00:01, 20.94it/s]"
     ]
    },
    {
     "name": "stdout",
     "output_type": "stream",
     "text": [
      "torch.Size([1, 5, 64])\n",
      "torch.Size([1, 5, 64])\n",
      "torch.Size([1, 5, 64])\n",
      "torch.Size([1, 5, 64])\n",
      "torch.Size([1, 5, 64])\n",
      "torch.Size([1, 5, 64])\n",
      "torch.Size([1, 5, 64])\n",
      "torch.Size([1, 5, 64])\n",
      "torch.Size([1, 5, 64])\n",
      "torch.Size([1, 5, 64])\n",
      "torch.Size([1, 5, 64])\n",
      "torch.Size([1, 5, 64])\n",
      "torch.Size([1, 5, 64])\n",
      "torch.Size([1, 5, 64])\n",
      "torch.Size([1, 5, 64])\n"
     ]
    },
    {
     "name": "stderr",
     "output_type": "stream",
     "text": [
      "Epoch 3:  78%|███████▊  | 75/96 [00:03<00:01, 20.44it/s]"
     ]
    },
    {
     "name": "stdout",
     "output_type": "stream",
     "text": [
      "torch.Size([1, 5, 64])\n",
      "torch.Size([1, 5, 64])\n",
      "torch.Size([1, 5, 64])\n",
      "torch.Size([1, 5, 64])\n",
      "torch.Size([1, 5, 64])\n",
      "torch.Size([1, 5, 64])\n",
      "torch.Size([1, 5, 64])\n",
      "torch.Size([1, 5, 64])\n",
      "torch.Size([1, 5, 64])\n",
      "torch.Size([1, 5, 64])\n",
      "torch.Size([1, 5, 64])\n",
      "torch.Size([1, 5, 64])\n"
     ]
    },
    {
     "name": "stderr",
     "output_type": "stream",
     "text": [
      "Epoch 3:  83%|████████▎ | 80/96 [00:03<00:00, 18.51it/s]"
     ]
    },
    {
     "name": "stdout",
     "output_type": "stream",
     "text": [
      "torch.Size([1, 5, 64])\n",
      "torch.Size([1, 5, 64])\n",
      "torch.Size([1, 5, 64])\n",
      "torch.Size([1, 5, 64])\n",
      "torch.Size([1, 5, 64])\n",
      "torch.Size([1, 5, 64])\n",
      "torch.Size([1, 5, 64])\n",
      "torch.Size([1, 5, 64])\n",
      "torch.Size([1, 5, 64])\n",
      "torch.Size([1, 5, 64])\n",
      "torch.Size([1, 5, 64])\n",
      "torch.Size([1, 5, 64])\n"
     ]
    },
    {
     "name": "stderr",
     "output_type": "stream",
     "text": [
      "Epoch 3:  88%|████████▊ | 84/96 [00:04<00:00, 16.73it/s]"
     ]
    },
    {
     "name": "stdout",
     "output_type": "stream",
     "text": [
      "torch.Size([1, 5, 64])\n",
      "torch.Size([1, 5, 64])\n",
      "torch.Size([1, 5, 64])\n",
      "torch.Size([1, 5, 64])\n",
      "torch.Size([1, 5, 64])\n",
      "torch.Size([1, 5, 64])\n",
      "torch.Size([1, 5, 64])\n",
      "torch.Size([1, 5, 64])\n",
      "torch.Size([1, 5, 64])\n"
     ]
    },
    {
     "name": "stderr",
     "output_type": "stream",
     "text": [
      "Epoch 3:  90%|████████▉ | 86/96 [00:04<00:00, 16.18it/s]"
     ]
    },
    {
     "name": "stdout",
     "output_type": "stream",
     "text": [
      "torch.Size([1, 5, 64])\n",
      "torch.Size([1, 5, 64])\n",
      "torch.Size([1, 5, 64])\n",
      "torch.Size([1, 5, 64])\n",
      "torch.Size([1, 5, 64])\n",
      "torch.Size([1, 5, 64])\n",
      "torch.Size([1, 5, 64])\n",
      "torch.Size([1, 5, 64])\n",
      "torch.Size([1, 5, 64])\n"
     ]
    },
    {
     "name": "stderr",
     "output_type": "stream",
     "text": [
      "Epoch 3:  94%|█████████▍| 90/96 [00:04<00:00, 16.03it/s]"
     ]
    },
    {
     "name": "stdout",
     "output_type": "stream",
     "text": [
      "torch.Size([1, 5, 64])\n",
      "torch.Size([1, 5, 64])\n",
      "torch.Size([1, 5, 64])\n",
      "torch.Size([1, 5, 64])\n",
      "torch.Size([1, 5, 64])\n",
      "torch.Size([1, 5, 64])\n",
      "torch.Size([1, 5, 64])\n",
      "torch.Size([1, 5, 64])\n",
      "torch.Size([1, 5, 64])\n",
      "torch.Size([1, 5, 64])\n",
      "torch.Size([1, 5, 64])\n",
      "torch.Size([1, 5, 64])\n"
     ]
    },
    {
     "name": "stderr",
     "output_type": "stream",
     "text": [
      "Epoch 3:  98%|█████████▊| 94/96 [00:04<00:00, 16.45it/s]"
     ]
    },
    {
     "name": "stdout",
     "output_type": "stream",
     "text": [
      "torch.Size([1, 5, 64])\n",
      "torch.Size([1, 5, 64])\n",
      "torch.Size([1, 5, 64])\n",
      "torch.Size([1, 5, 64])\n",
      "torch.Size([1, 5, 64])\n",
      "torch.Size([1, 5, 64])\n",
      "torch.Size([1, 5, 64])\n",
      "torch.Size([1, 5, 64])\n",
      "torch.Size([1, 5, 64])\n",
      "torch.Size([1, 5, 64])\n",
      "torch.Size([1, 5, 64])\n",
      "torch.Size([1, 5, 64])\n"
     ]
    },
    {
     "name": "stderr",
     "output_type": "stream",
     "text": [
      "Epoch 4:   2%|▏         | 2/96 [00:00<00:05, 15.96it/s] "
     ]
    },
    {
     "name": "stdout",
     "output_type": "stream",
     "text": [
      "torch.Size([1, 5, 64])\n",
      "torch.Size([1, 5, 64])\n",
      "torch.Size([1, 5, 64])\n",
      "torch.Size([1, 5, 64])\n",
      "torch.Size([1, 5, 64])\n",
      "torch.Size([1, 5, 64])\n",
      "torch.Size([1, 5, 64])\n",
      "torch.Size([1, 5, 64])\n",
      "torch.Size([1, 5, 64])\n",
      "torch.Size([1, 5, 64])\n",
      "torch.Size([1, 5, 64])\n",
      "torch.Size([1, 5, 64])\n"
     ]
    },
    {
     "name": "stderr",
     "output_type": "stream",
     "text": [
      "Epoch 4:   6%|▋         | 6/96 [00:00<00:05, 17.13it/s]"
     ]
    },
    {
     "name": "stdout",
     "output_type": "stream",
     "text": [
      "torch.Size([1, 5, 64])\n",
      "torch.Size([1, 5, 64])\n",
      "torch.Size([1, 5, 64])\n",
      "torch.Size([1, 5, 64])\n",
      "torch.Size([1, 5, 64])\n",
      "torch.Size([1, 5, 64])\n",
      "torch.Size([1, 5, 64])\n",
      "torch.Size([1, 5, 64])\n",
      "torch.Size([1, 5, 64])\n",
      "torch.Size([1, 5, 64])\n",
      "torch.Size([1, 5, 64])\n",
      "torch.Size([1, 5, 64])\n"
     ]
    },
    {
     "name": "stderr",
     "output_type": "stream",
     "text": [
      "Epoch 4:  10%|█         | 10/96 [00:00<00:04, 18.09it/s]"
     ]
    },
    {
     "name": "stdout",
     "output_type": "stream",
     "text": [
      "torch.Size([1, 5, 64])\n",
      "torch.Size([1, 5, 64])\n",
      "torch.Size([1, 5, 64])\n",
      "torch.Size([1, 5, 64])\n",
      "torch.Size([1, 5, 64])\n",
      "torch.Size([1, 5, 64])\n",
      "torch.Size([1, 5, 64])\n",
      "torch.Size([1, 5, 64])\n",
      "torch.Size([1, 5, 64])\n",
      "torch.Size([1, 5, 64])\n",
      "torch.Size([1, 5, 64])\n",
      "torch.Size([1, 5, 64])\n"
     ]
    },
    {
     "name": "stderr",
     "output_type": "stream",
     "text": [
      "Epoch 4:  15%|█▍        | 14/96 [00:00<00:04, 18.40it/s]"
     ]
    },
    {
     "name": "stdout",
     "output_type": "stream",
     "text": [
      "torch.Size([1, 5, 64])\n",
      "torch.Size([1, 5, 64])\n",
      "torch.Size([1, 5, 64])\n",
      "torch.Size([1, 5, 64])\n",
      "torch.Size([1, 5, 64])\n",
      "torch.Size([1, 5, 64])\n",
      "torch.Size([1, 5, 64])\n",
      "torch.Size([1, 5, 64])\n",
      "torch.Size([1, 5, 64])\n",
      "torch.Size([1, 5, 64])\n",
      "torch.Size([1, 5, 64])\n",
      "torch.Size([1, 5, 64])\n"
     ]
    },
    {
     "name": "stderr",
     "output_type": "stream",
     "text": [
      "Epoch 4:  19%|█▉        | 18/96 [00:00<00:04, 18.41it/s]"
     ]
    },
    {
     "name": "stdout",
     "output_type": "stream",
     "text": [
      "torch.Size([1, 5, 64])\n",
      "torch.Size([1, 5, 64])\n",
      "torch.Size([1, 5, 64])\n",
      "torch.Size([1, 5, 64])\n",
      "torch.Size([1, 5, 64])\n",
      "torch.Size([1, 5, 64])\n",
      "torch.Size([1, 5, 64])\n",
      "torch.Size([1, 5, 64])\n",
      "torch.Size([1, 5, 64])\n",
      "torch.Size([1, 5, 64])\n",
      "torch.Size([1, 5, 64])\n",
      "torch.Size([1, 5, 64])\n"
     ]
    },
    {
     "name": "stderr",
     "output_type": "stream",
     "text": [
      "Epoch 4:  23%|██▎       | 22/96 [00:01<00:04, 17.15it/s]"
     ]
    },
    {
     "name": "stdout",
     "output_type": "stream",
     "text": [
      "torch.Size([1, 5, 64])\n",
      "torch.Size([1, 5, 64])\n",
      "torch.Size([1, 5, 64])\n",
      "torch.Size([1, 5, 64])\n",
      "torch.Size([1, 5, 64])\n",
      "torch.Size([1, 5, 64])\n",
      "torch.Size([1, 5, 64])\n",
      "torch.Size([1, 5, 64])\n",
      "torch.Size([1, 5, 64])\n",
      "torch.Size([1, 5, 64])\n",
      "torch.Size([1, 5, 64])\n",
      "torch.Size([1, 5, 64])\n"
     ]
    },
    {
     "name": "stderr",
     "output_type": "stream",
     "text": [
      "Epoch 4:  27%|██▋       | 26/96 [00:01<00:03, 17.62it/s]"
     ]
    },
    {
     "name": "stdout",
     "output_type": "stream",
     "text": [
      "torch.Size([1, 5, 64])\n",
      "torch.Size([1, 5, 64])\n",
      "torch.Size([1, 5, 64])\n",
      "torch.Size([1, 5, 64])\n",
      "torch.Size([1, 5, 64])\n",
      "torch.Size([1, 5, 64])\n",
      "torch.Size([1, 5, 64])\n",
      "torch.Size([1, 5, 64])\n",
      "torch.Size([1, 5, 64])\n",
      "torch.Size([1, 5, 64])\n",
      "torch.Size([1, 5, 64])\n",
      "torch.Size([1, 5, 64])\n"
     ]
    },
    {
     "name": "stderr",
     "output_type": "stream",
     "text": [
      "Epoch 4:  31%|███▏      | 30/96 [00:01<00:03, 17.14it/s]"
     ]
    },
    {
     "name": "stdout",
     "output_type": "stream",
     "text": [
      "torch.Size([1, 5, 64])\n",
      "torch.Size([1, 5, 64])\n",
      "torch.Size([1, 5, 64])\n",
      "torch.Size([1, 5, 64])\n",
      "torch.Size([1, 5, 64])\n",
      "torch.Size([1, 5, 64])\n",
      "torch.Size([1, 5, 64])\n",
      "torch.Size([1, 5, 64])\n",
      "torch.Size([1, 5, 64])\n",
      "torch.Size([1, 5, 64])\n",
      "torch.Size([1, 5, 64])\n",
      "torch.Size([1, 5, 64])\n"
     ]
    },
    {
     "name": "stderr",
     "output_type": "stream",
     "text": [
      "Epoch 4:  35%|███▌      | 34/96 [00:01<00:03, 17.11it/s]"
     ]
    },
    {
     "name": "stdout",
     "output_type": "stream",
     "text": [
      "torch.Size([1, 5, 64])\n",
      "torch.Size([1, 5, 64])\n",
      "torch.Size([1, 5, 64])\n",
      "torch.Size([1, 5, 64])\n",
      "torch.Size([1, 5, 64])\n",
      "torch.Size([1, 5, 64])\n",
      "torch.Size([1, 5, 64])\n",
      "torch.Size([1, 5, 64])\n",
      "torch.Size([1, 5, 64])\n",
      "torch.Size([1, 5, 64])\n",
      "torch.Size([1, 5, 64])\n",
      "torch.Size([1, 5, 64])\n"
     ]
    },
    {
     "name": "stderr",
     "output_type": "stream",
     "text": [
      "Epoch 4:  40%|███▉      | 38/96 [00:02<00:03, 17.65it/s]"
     ]
    },
    {
     "name": "stdout",
     "output_type": "stream",
     "text": [
      "torch.Size([1, 5, 64])\n",
      "torch.Size([1, 5, 64])\n",
      "torch.Size([1, 5, 64])\n",
      "torch.Size([1, 5, 64])\n",
      "torch.Size([1, 5, 64])\n",
      "torch.Size([1, 5, 64])\n",
      "torch.Size([1, 5, 64])\n",
      "torch.Size([1, 5, 64])\n",
      "torch.Size([1, 5, 64])\n",
      "torch.Size([1, 5, 64])\n",
      "torch.Size([1, 5, 64])\n",
      "torch.Size([1, 5, 64])\n"
     ]
    },
    {
     "name": "stderr",
     "output_type": "stream",
     "text": [
      "Epoch 4:  44%|████▍     | 42/96 [00:02<00:03, 16.77it/s]"
     ]
    },
    {
     "name": "stdout",
     "output_type": "stream",
     "text": [
      "torch.Size([1, 5, 64])\n",
      "torch.Size([1, 5, 64])\n",
      "torch.Size([1, 5, 64])\n",
      "torch.Size([1, 5, 64])\n",
      "torch.Size([1, 5, 64])\n",
      "torch.Size([1, 5, 64])\n",
      "torch.Size([1, 5, 64])\n",
      "torch.Size([1, 5, 64])\n",
      "torch.Size([1, 5, 64])\n",
      "torch.Size([1, 5, 64])\n",
      "torch.Size([1, 5, 64])\n",
      "torch.Size([1, 5, 64])\n"
     ]
    },
    {
     "name": "stderr",
     "output_type": "stream",
     "text": [
      "Epoch 4:  48%|████▊     | 46/96 [00:02<00:03, 13.80it/s]"
     ]
    },
    {
     "name": "stdout",
     "output_type": "stream",
     "text": [
      "torch.Size([1, 5, 64])\n",
      "torch.Size([1, 5, 64])\n",
      "torch.Size([1, 5, 64])\n",
      "torch.Size([1, 5, 64])\n",
      "torch.Size([1, 5, 64])\n",
      "torch.Size([1, 5, 64])\n"
     ]
    },
    {
     "name": "stderr",
     "output_type": "stream",
     "text": [
      "Epoch 4:  50%|█████     | 48/96 [00:02<00:03, 13.49it/s]"
     ]
    },
    {
     "name": "stdout",
     "output_type": "stream",
     "text": [
      "torch.Size([1, 5, 64])\n",
      "torch.Size([1, 5, 64])\n",
      "torch.Size([1, 5, 64])\n",
      "torch.Size([1, 5, 64])\n",
      "torch.Size([1, 5, 64])\n",
      "torch.Size([1, 5, 64])\n",
      "torch.Size([1, 5, 64])\n",
      "torch.Size([1, 5, 64])\n",
      "torch.Size([1, 5, 64])\n"
     ]
    },
    {
     "name": "stderr",
     "output_type": "stream",
     "text": [
      "Epoch 4:  52%|█████▏    | 50/96 [00:03<00:03, 13.35it/s]"
     ]
    },
    {
     "name": "stdout",
     "output_type": "stream",
     "text": [
      "torch.Size([1, 5, 64])\n",
      "torch.Size([1, 5, 64])\n",
      "torch.Size([1, 5, 64])\n",
      "torch.Size([1, 5, 64])\n",
      "torch.Size([1, 5, 64])\n",
      "torch.Size([1, 5, 64])\n",
      "torch.Size([1, 5, 64])\n",
      "torch.Size([1, 5, 64])\n",
      "torch.Size([1, 5, 64])\n"
     ]
    },
    {
     "name": "stderr",
     "output_type": "stream",
     "text": [
      "Epoch 4:  56%|█████▋    | 54/96 [00:03<00:03, 12.74it/s]"
     ]
    },
    {
     "name": "stdout",
     "output_type": "stream",
     "text": [
      "torch.Size([1, 5, 64])\n",
      "torch.Size([1, 5, 64])\n",
      "torch.Size([1, 5, 64])\n",
      "torch.Size([1, 5, 64])\n",
      "torch.Size([1, 5, 64])\n",
      "torch.Size([1, 5, 64])\n",
      "torch.Size([1, 5, 64])\n",
      "torch.Size([1, 5, 64])\n",
      "torch.Size([1, 5, 64])\n"
     ]
    },
    {
     "name": "stderr",
     "output_type": "stream",
     "text": [
      "Epoch 4:  58%|█████▊    | 56/96 [00:03<00:03, 12.87it/s]"
     ]
    },
    {
     "name": "stdout",
     "output_type": "stream",
     "text": [
      "torch.Size([1, 5, 64])\n",
      "torch.Size([1, 5, 64])\n",
      "torch.Size([1, 5, 64])\n",
      "torch.Size([1, 5, 64])\n",
      "torch.Size([1, 5, 64])\n",
      "torch.Size([1, 5, 64])\n",
      "torch.Size([1, 5, 64])\n",
      "torch.Size([1, 5, 64])\n",
      "torch.Size([1, 5, 64])\n"
     ]
    },
    {
     "name": "stderr",
     "output_type": "stream",
     "text": [
      "Epoch 4:  62%|██████▎   | 60/96 [00:03<00:02, 13.55it/s]"
     ]
    },
    {
     "name": "stdout",
     "output_type": "stream",
     "text": [
      "torch.Size([1, 5, 64])\n",
      "torch.Size([1, 5, 64])\n",
      "torch.Size([1, 5, 64])\n",
      "torch.Size([1, 5, 64])\n",
      "torch.Size([1, 5, 64])\n",
      "torch.Size([1, 5, 64])\n",
      "torch.Size([1, 5, 64])\n",
      "torch.Size([1, 5, 64])\n",
      "torch.Size([1, 5, 64])\n"
     ]
    },
    {
     "name": "stderr",
     "output_type": "stream",
     "text": [
      "Epoch 4:  65%|██████▍   | 62/96 [00:03<00:02, 13.65it/s]"
     ]
    },
    {
     "name": "stdout",
     "output_type": "stream",
     "text": [
      "torch.Size([1, 5, 64])\n",
      "torch.Size([1, 5, 64])\n",
      "torch.Size([1, 5, 64])\n",
      "torch.Size([1, 5, 64])\n",
      "torch.Size([1, 5, 64])\n",
      "torch.Size([1, 5, 64])\n",
      "torch.Size([1, 5, 64])\n",
      "torch.Size([1, 5, 64])\n",
      "torch.Size([1, 5, 64])\n"
     ]
    },
    {
     "name": "stderr",
     "output_type": "stream",
     "text": [
      "Epoch 4:  69%|██████▉   | 66/96 [00:04<00:02, 12.83it/s]"
     ]
    },
    {
     "name": "stdout",
     "output_type": "stream",
     "text": [
      "torch.Size([1, 5, 64])\n",
      "torch.Size([1, 5, 64])\n",
      "torch.Size([1, 5, 64])\n",
      "torch.Size([1, 5, 64])\n",
      "torch.Size([1, 5, 64])\n",
      "torch.Size([1, 5, 64])\n"
     ]
    },
    {
     "name": "stderr",
     "output_type": "stream",
     "text": [
      "Epoch 4:  71%|███████   | 68/96 [00:04<00:02, 12.59it/s]"
     ]
    },
    {
     "name": "stdout",
     "output_type": "stream",
     "text": [
      "torch.Size([1, 5, 64])\n",
      "torch.Size([1, 5, 64])\n",
      "torch.Size([1, 5, 64])\n",
      "torch.Size([1, 5, 64])\n",
      "torch.Size([1, 5, 64])\n",
      "torch.Size([1, 5, 64])\n",
      "torch.Size([1, 5, 64])\n",
      "torch.Size([1, 5, 64])\n",
      "torch.Size([1, 5, 64])\n"
     ]
    },
    {
     "name": "stderr",
     "output_type": "stream",
     "text": [
      "Epoch 4:  73%|███████▎  | 70/96 [00:04<00:01, 13.46it/s]"
     ]
    },
    {
     "name": "stdout",
     "output_type": "stream",
     "text": [
      "torch.Size([1, 5, 64])\n",
      "torch.Size([1, 5, 64])\n",
      "torch.Size([1, 5, 64])\n",
      "torch.Size([1, 5, 64])\n",
      "torch.Size([1, 5, 64])\n",
      "torch.Size([1, 5, 64])\n",
      "torch.Size([1, 5, 64])\n",
      "torch.Size([1, 5, 64])\n",
      "torch.Size([1, 5, 64])\n"
     ]
    },
    {
     "name": "stderr",
     "output_type": "stream",
     "text": [
      "Epoch 4:  77%|███████▋  | 74/96 [00:04<00:01, 14.28it/s]"
     ]
    },
    {
     "name": "stdout",
     "output_type": "stream",
     "text": [
      "torch.Size([1, 5, 64])\n",
      "torch.Size([1, 5, 64])\n",
      "torch.Size([1, 5, 64])\n",
      "torch.Size([1, 5, 64])\n",
      "torch.Size([1, 5, 64])\n",
      "torch.Size([1, 5, 64])\n",
      "torch.Size([1, 5, 64])\n",
      "torch.Size([1, 5, 64])\n",
      "torch.Size([1, 5, 64])\n",
      "torch.Size([1, 5, 64])\n",
      "torch.Size([1, 5, 64])\n",
      "torch.Size([1, 5, 64])\n"
     ]
    },
    {
     "name": "stderr",
     "output_type": "stream",
     "text": [
      "Epoch 4:  81%|████████▏ | 78/96 [00:05<00:01, 15.13it/s]"
     ]
    },
    {
     "name": "stdout",
     "output_type": "stream",
     "text": [
      "torch.Size([1, 5, 64])\n",
      "torch.Size([1, 5, 64])\n",
      "torch.Size([1, 5, 64])\n",
      "torch.Size([1, 5, 64])\n",
      "torch.Size([1, 5, 64])\n",
      "torch.Size([1, 5, 64])\n",
      "torch.Size([1, 5, 64])\n",
      "torch.Size([1, 5, 64])\n",
      "torch.Size([1, 5, 64])\n",
      "torch.Size([1, 5, 64])\n",
      "torch.Size([1, 5, 64])\n",
      "torch.Size([1, 5, 64])\n"
     ]
    },
    {
     "name": "stderr",
     "output_type": "stream",
     "text": [
      "Epoch 4:  85%|████████▌ | 82/96 [00:05<00:00, 16.19it/s]"
     ]
    },
    {
     "name": "stdout",
     "output_type": "stream",
     "text": [
      "torch.Size([1, 5, 64])\n",
      "torch.Size([1, 5, 64])\n",
      "torch.Size([1, 5, 64])\n",
      "torch.Size([1, 5, 64])\n",
      "torch.Size([1, 5, 64])\n",
      "torch.Size([1, 5, 64])\n",
      "torch.Size([1, 5, 64])\n",
      "torch.Size([1, 5, 64])\n",
      "torch.Size([1, 5, 64])\n",
      "torch.Size([1, 5, 64])\n",
      "torch.Size([1, 5, 64])\n",
      "torch.Size([1, 5, 64])\n"
     ]
    },
    {
     "name": "stderr",
     "output_type": "stream",
     "text": [
      "Epoch 4:  90%|████████▉ | 86/96 [00:05<00:00, 16.82it/s]"
     ]
    },
    {
     "name": "stdout",
     "output_type": "stream",
     "text": [
      "torch.Size([1, 5, 64])\n",
      "torch.Size([1, 5, 64])\n",
      "torch.Size([1, 5, 64])\n",
      "torch.Size([1, 5, 64])\n",
      "torch.Size([1, 5, 64])\n",
      "torch.Size([1, 5, 64])\n",
      "torch.Size([1, 5, 64])\n",
      "torch.Size([1, 5, 64])\n",
      "torch.Size([1, 5, 64])\n",
      "torch.Size([1, 5, 64])\n",
      "torch.Size([1, 5, 64])\n",
      "torch.Size([1, 5, 64])\n"
     ]
    },
    {
     "name": "stderr",
     "output_type": "stream",
     "text": [
      "Epoch 4:  94%|█████████▍| 90/96 [00:05<00:00, 16.94it/s]"
     ]
    },
    {
     "name": "stdout",
     "output_type": "stream",
     "text": [
      "torch.Size([1, 5, 64])\n",
      "torch.Size([1, 5, 64])\n",
      "torch.Size([1, 5, 64])\n",
      "torch.Size([1, 5, 64])\n",
      "torch.Size([1, 5, 64])\n",
      "torch.Size([1, 5, 64])\n",
      "torch.Size([1, 5, 64])\n",
      "torch.Size([1, 5, 64])\n",
      "torch.Size([1, 5, 64])\n",
      "torch.Size([1, 5, 64])\n",
      "torch.Size([1, 5, 64])\n",
      "torch.Size([1, 5, 64])\n"
     ]
    },
    {
     "name": "stderr",
     "output_type": "stream",
     "text": [
      "Epoch 4:  98%|█████████▊| 94/96 [00:06<00:00, 16.79it/s]"
     ]
    },
    {
     "name": "stdout",
     "output_type": "stream",
     "text": [
      "torch.Size([1, 5, 64])\n",
      "torch.Size([1, 5, 64])\n",
      "torch.Size([1, 5, 64])\n",
      "torch.Size([1, 5, 64])\n",
      "torch.Size([1, 5, 64])\n",
      "torch.Size([1, 5, 64])\n",
      "torch.Size([1, 5, 64])\n",
      "torch.Size([1, 5, 64])\n",
      "torch.Size([1, 5, 64])\n",
      "torch.Size([1, 5, 64])\n",
      "torch.Size([1, 5, 64])\n",
      "torch.Size([1, 5, 64])\n"
     ]
    },
    {
     "name": "stderr",
     "output_type": "stream",
     "text": [
      "Epoch 5:   2%|▏         | 2/96 [00:00<00:06, 15.11it/s] "
     ]
    },
    {
     "name": "stdout",
     "output_type": "stream",
     "text": [
      "torch.Size([1, 5, 64])\n",
      "torch.Size([1, 5, 64])\n",
      "torch.Size([1, 5, 64])\n",
      "torch.Size([1, 5, 64])\n",
      "torch.Size([1, 5, 64])\n",
      "torch.Size([1, 5, 64])\n",
      "torch.Size([1, 5, 64])\n",
      "torch.Size([1, 5, 64])\n",
      "torch.Size([1, 5, 64])\n",
      "torch.Size([1, 5, 64])\n",
      "torch.Size([1, 5, 64])\n",
      "torch.Size([1, 5, 64])\n"
     ]
    },
    {
     "name": "stderr",
     "output_type": "stream",
     "text": [
      "Epoch 5:   6%|▋         | 6/96 [00:00<00:05, 16.22it/s]"
     ]
    },
    {
     "name": "stdout",
     "output_type": "stream",
     "text": [
      "torch.Size([1, 5, 64])\n",
      "torch.Size([1, 5, 64])\n",
      "torch.Size([1, 5, 64])\n",
      "torch.Size([1, 5, 64])\n",
      "torch.Size([1, 5, 64])\n",
      "torch.Size([1, 5, 64])\n",
      "torch.Size([1, 5, 64])\n",
      "torch.Size([1, 5, 64])\n",
      "torch.Size([1, 5, 64])\n",
      "torch.Size([1, 5, 64])\n",
      "torch.Size([1, 5, 64])\n",
      "torch.Size([1, 5, 64])\n"
     ]
    },
    {
     "name": "stderr",
     "output_type": "stream",
     "text": [
      "Epoch 5:  10%|█         | 10/96 [00:00<00:05, 17.03it/s]"
     ]
    },
    {
     "name": "stdout",
     "output_type": "stream",
     "text": [
      "torch.Size([1, 5, 64])\n",
      "torch.Size([1, 5, 64])\n",
      "torch.Size([1, 5, 64])\n",
      "torch.Size([1, 5, 64])\n",
      "torch.Size([1, 5, 64])\n",
      "torch.Size([1, 5, 64])\n",
      "torch.Size([1, 5, 64])\n",
      "torch.Size([1, 5, 64])\n",
      "torch.Size([1, 5, 64])\n",
      "torch.Size([1, 5, 64])\n",
      "torch.Size([1, 5, 64])\n",
      "torch.Size([1, 5, 64])\n"
     ]
    },
    {
     "name": "stderr",
     "output_type": "stream",
     "text": [
      "Epoch 5:  15%|█▍        | 14/96 [00:00<00:04, 17.56it/s]"
     ]
    },
    {
     "name": "stdout",
     "output_type": "stream",
     "text": [
      "torch.Size([1, 5, 64])\n",
      "torch.Size([1, 5, 64])\n",
      "torch.Size([1, 5, 64])\n",
      "torch.Size([1, 5, 64])\n",
      "torch.Size([1, 5, 64])\n",
      "torch.Size([1, 5, 64])\n",
      "torch.Size([1, 5, 64])\n",
      "torch.Size([1, 5, 64])\n",
      "torch.Size([1, 5, 64])\n",
      "torch.Size([1, 5, 64])\n",
      "torch.Size([1, 5, 64])\n",
      "torch.Size([1, 5, 64])\n"
     ]
    },
    {
     "name": "stderr",
     "output_type": "stream",
     "text": [
      "Epoch 5:  19%|█▉        | 18/96 [00:01<00:04, 17.19it/s]"
     ]
    },
    {
     "name": "stdout",
     "output_type": "stream",
     "text": [
      "torch.Size([1, 5, 64])\n",
      "torch.Size([1, 5, 64])\n",
      "torch.Size([1, 5, 64])\n",
      "torch.Size([1, 5, 64])\n",
      "torch.Size([1, 5, 64])\n",
      "torch.Size([1, 5, 64])\n",
      "torch.Size([1, 5, 64])\n",
      "torch.Size([1, 5, 64])\n",
      "torch.Size([1, 5, 64])\n",
      "torch.Size([1, 5, 64])\n",
      "torch.Size([1, 5, 64])\n",
      "torch.Size([1, 5, 64])\n"
     ]
    },
    {
     "name": "stderr",
     "output_type": "stream",
     "text": [
      "Epoch 5:  21%|██        | 20/96 [00:01<00:04, 16.41it/s]"
     ]
    },
    {
     "name": "stdout",
     "output_type": "stream",
     "text": [
      "torch.Size([1, 5, 64])\n",
      "torch.Size([1, 5, 64])\n",
      "torch.Size([1, 5, 64])\n",
      "torch.Size([1, 5, 64])\n",
      "torch.Size([1, 5, 64])\n",
      "torch.Size([1, 5, 64])\n"
     ]
    },
    {
     "name": "stderr",
     "output_type": "stream",
     "text": [
      "Epoch 5:  23%|██▎       | 22/96 [00:01<00:05, 12.91it/s]"
     ]
    },
    {
     "name": "stdout",
     "output_type": "stream",
     "text": [
      "torch.Size([1, 5, 64])\n",
      "torch.Size([1, 5, 64])\n",
      "torch.Size([1, 5, 64])\n",
      "torch.Size([1, 5, 64])\n",
      "torch.Size([1, 5, 64])\n",
      "torch.Size([1, 5, 64])\n"
     ]
    },
    {
     "name": "stderr",
     "output_type": "stream",
     "text": [
      "Epoch 5:  25%|██▌       | 24/96 [00:01<00:06, 10.52it/s]"
     ]
    },
    {
     "name": "stdout",
     "output_type": "stream",
     "text": [
      "torch.Size([1, 5, 64])\n",
      "torch.Size([1, 5, 64])\n",
      "torch.Size([1, 5, 64])\n",
      "torch.Size([1, 5, 64])\n",
      "torch.Size([1, 5, 64])\n",
      "torch.Size([1, 5, 64])\n"
     ]
    },
    {
     "name": "stderr",
     "output_type": "stream",
     "text": [
      "Epoch 5:  27%|██▋       | 26/96 [00:01<00:07,  9.01it/s]"
     ]
    },
    {
     "name": "stdout",
     "output_type": "stream",
     "text": [
      "torch.Size([1, 5, 64])\n",
      "torch.Size([1, 5, 64])\n",
      "torch.Size([1, 5, 64])\n",
      "torch.Size([1, 5, 64])\n",
      "torch.Size([1, 5, 64])\n",
      "torch.Size([1, 5, 64])\n"
     ]
    },
    {
     "name": "stderr",
     "output_type": "stream",
     "text": [
      "Epoch 5:  30%|███       | 29/96 [00:02<00:08,  7.68it/s]"
     ]
    },
    {
     "name": "stdout",
     "output_type": "stream",
     "text": [
      "torch.Size([1, 5, 64])\n",
      "torch.Size([1, 5, 64])\n",
      "torch.Size([1, 5, 64])\n",
      "torch.Size([1, 5, 64])\n",
      "torch.Size([1, 5, 64])\n",
      "torch.Size([1, 5, 64])\n"
     ]
    },
    {
     "name": "stderr",
     "output_type": "stream",
     "text": [
      "Epoch 5:  32%|███▏      | 31/96 [00:02<00:09,  6.69it/s]"
     ]
    },
    {
     "name": "stdout",
     "output_type": "stream",
     "text": [
      "torch.Size([1, 5, 64])\n",
      "torch.Size([1, 5, 64])\n",
      "torch.Size([1, 5, 64])\n",
      "torch.Size([1, 5, 64])\n",
      "torch.Size([1, 5, 64])\n",
      "torch.Size([1, 5, 64])\n"
     ]
    },
    {
     "name": "stderr",
     "output_type": "stream",
     "text": [
      "Epoch 5:  34%|███▍      | 33/96 [00:03<00:09,  6.41it/s]"
     ]
    },
    {
     "name": "stdout",
     "output_type": "stream",
     "text": [
      "torch.Size([1, 5, 64])\n",
      "torch.Size([1, 5, 64])\n",
      "torch.Size([1, 5, 64])\n",
      "torch.Size([1, 5, 64])\n",
      "torch.Size([1, 5, 64])\n",
      "torch.Size([1, 5, 64])\n"
     ]
    },
    {
     "name": "stderr",
     "output_type": "stream",
     "text": [
      "Epoch 5:  36%|███▋      | 35/96 [00:03<00:08,  7.23it/s]"
     ]
    },
    {
     "name": "stdout",
     "output_type": "stream",
     "text": [
      "torch.Size([1, 5, 64])\n",
      "torch.Size([1, 5, 64])\n",
      "torch.Size([1, 5, 64])\n",
      "torch.Size([1, 5, 64])\n",
      "torch.Size([1, 5, 64])\n",
      "torch.Size([1, 5, 64])\n"
     ]
    },
    {
     "name": "stderr",
     "output_type": "stream",
     "text": [
      "Epoch 5:  39%|███▊      | 37/96 [00:03<00:07,  7.65it/s]"
     ]
    },
    {
     "name": "stdout",
     "output_type": "stream",
     "text": [
      "torch.Size([1, 5, 64])\n",
      "torch.Size([1, 5, 64])\n",
      "torch.Size([1, 5, 64])\n",
      "torch.Size([1, 5, 64])\n",
      "torch.Size([1, 5, 64])\n",
      "torch.Size([1, 5, 64])\n"
     ]
    },
    {
     "name": "stderr",
     "output_type": "stream",
     "text": [
      "Epoch 5:  41%|████      | 39/96 [00:03<00:06,  8.17it/s]"
     ]
    },
    {
     "name": "stdout",
     "output_type": "stream",
     "text": [
      "torch.Size([1, 5, 64])\n",
      "torch.Size([1, 5, 64])\n",
      "torch.Size([1, 5, 64])\n",
      "torch.Size([1, 5, 64])\n",
      "torch.Size([1, 5, 64])\n",
      "torch.Size([1, 5, 64])\n"
     ]
    },
    {
     "name": "stderr",
     "output_type": "stream",
     "text": [
      "Epoch 5:  43%|████▎     | 41/96 [00:04<00:06,  8.37it/s]"
     ]
    },
    {
     "name": "stdout",
     "output_type": "stream",
     "text": [
      "torch.Size([1, 5, 64])\n",
      "torch.Size([1, 5, 64])\n",
      "torch.Size([1, 5, 64])\n",
      "torch.Size([1, 5, 64])\n",
      "torch.Size([1, 5, 64])\n",
      "torch.Size([1, 5, 64])\n"
     ]
    },
    {
     "name": "stderr",
     "output_type": "stream",
     "text": [
      "Epoch 5:  45%|████▍     | 43/96 [00:04<00:06,  8.58it/s]"
     ]
    },
    {
     "name": "stdout",
     "output_type": "stream",
     "text": [
      "torch.Size([1, 5, 64])\n",
      "torch.Size([1, 5, 64])\n",
      "torch.Size([1, 5, 64])\n",
      "torch.Size([1, 5, 64])\n",
      "torch.Size([1, 5, 64])\n",
      "torch.Size([1, 5, 64])\n"
     ]
    },
    {
     "name": "stderr",
     "output_type": "stream",
     "text": [
      "Epoch 5:  47%|████▋     | 45/96 [00:04<00:06,  8.20it/s]"
     ]
    },
    {
     "name": "stdout",
     "output_type": "stream",
     "text": [
      "torch.Size([1, 5, 64])\n",
      "torch.Size([1, 5, 64])\n",
      "torch.Size([1, 5, 64])\n",
      "torch.Size([1, 5, 64])\n",
      "torch.Size([1, 5, 64])\n",
      "torch.Size([1, 5, 64])\n"
     ]
    },
    {
     "name": "stderr",
     "output_type": "stream",
     "text": [
      "Epoch 5:  49%|████▉     | 47/96 [00:04<00:05,  8.51it/s]"
     ]
    },
    {
     "name": "stdout",
     "output_type": "stream",
     "text": [
      "torch.Size([1, 5, 64])\n",
      "torch.Size([1, 5, 64])\n",
      "torch.Size([1, 5, 64])\n",
      "torch.Size([1, 5, 64])\n",
      "torch.Size([1, 5, 64])\n",
      "torch.Size([1, 5, 64])\n"
     ]
    },
    {
     "name": "stderr",
     "output_type": "stream",
     "text": [
      "Epoch 5:  52%|█████▏    | 50/96 [00:05<00:04,  9.24it/s]"
     ]
    },
    {
     "name": "stdout",
     "output_type": "stream",
     "text": [
      "torch.Size([1, 5, 64])\n",
      "torch.Size([1, 5, 64])\n",
      "torch.Size([1, 5, 64])\n",
      "torch.Size([1, 5, 64])\n",
      "torch.Size([1, 5, 64])\n",
      "torch.Size([1, 5, 64])\n"
     ]
    },
    {
     "name": "stderr",
     "output_type": "stream",
     "text": [
      "Epoch 5:  53%|█████▎    | 51/96 [00:05<00:05,  8.92it/s]"
     ]
    },
    {
     "name": "stdout",
     "output_type": "stream",
     "text": [
      "torch.Size([1, 5, 64])\n",
      "torch.Size([1, 5, 64])\n",
      "torch.Size([1, 5, 64])\n",
      "torch.Size([1, 5, 64])\n",
      "torch.Size([1, 5, 64])\n",
      "torch.Size([1, 5, 64])\n"
     ]
    },
    {
     "name": "stderr",
     "output_type": "stream",
     "text": [
      "Epoch 5:  55%|█████▌    | 53/96 [00:05<00:05,  7.97it/s]"
     ]
    },
    {
     "name": "stdout",
     "output_type": "stream",
     "text": [
      "torch.Size([1, 5, 64])\n",
      "torch.Size([1, 5, 64])\n",
      "torch.Size([1, 5, 64])\n",
      "torch.Size([1, 5, 64])\n",
      "torch.Size([1, 5, 64])\n",
      "torch.Size([1, 5, 64])\n"
     ]
    },
    {
     "name": "stderr",
     "output_type": "stream",
     "text": [
      "Epoch 5:  57%|█████▋    | 55/96 [00:05<00:05,  7.05it/s]"
     ]
    },
    {
     "name": "stdout",
     "output_type": "stream",
     "text": [
      "torch.Size([1, 5, 64])\n",
      "torch.Size([1, 5, 64])\n",
      "torch.Size([1, 5, 64])\n",
      "torch.Size([1, 5, 64])\n",
      "torch.Size([1, 5, 64])\n",
      "torch.Size([1, 5, 64])\n"
     ]
    },
    {
     "name": "stderr",
     "output_type": "stream",
     "text": [
      "Epoch 5:  59%|█████▉    | 57/96 [00:06<00:05,  7.26it/s]"
     ]
    },
    {
     "name": "stdout",
     "output_type": "stream",
     "text": [
      "torch.Size([1, 5, 64])\n",
      "torch.Size([1, 5, 64])\n",
      "torch.Size([1, 5, 64])\n",
      "torch.Size([1, 5, 64])\n",
      "torch.Size([1, 5, 64])\n",
      "torch.Size([1, 5, 64])\n"
     ]
    },
    {
     "name": "stderr",
     "output_type": "stream",
     "text": [
      "Epoch 5:  61%|██████▏   | 59/96 [00:06<00:05,  7.39it/s]"
     ]
    },
    {
     "name": "stdout",
     "output_type": "stream",
     "text": [
      "torch.Size([1, 5, 64])\n",
      "torch.Size([1, 5, 64])\n",
      "torch.Size([1, 5, 64])\n",
      "torch.Size([1, 5, 64])\n",
      "torch.Size([1, 5, 64])\n",
      "torch.Size([1, 5, 64])\n"
     ]
    },
    {
     "name": "stderr",
     "output_type": "stream",
     "text": [
      "Epoch 5:  64%|██████▎   | 61/96 [00:06<00:04,  7.20it/s]"
     ]
    },
    {
     "name": "stdout",
     "output_type": "stream",
     "text": [
      "torch.Size([1, 5, 64])\n",
      "torch.Size([1, 5, 64])\n",
      "torch.Size([1, 5, 64])\n",
      "torch.Size([1, 5, 64])\n",
      "torch.Size([1, 5, 64])\n",
      "torch.Size([1, 5, 64])\n"
     ]
    },
    {
     "name": "stderr",
     "output_type": "stream",
     "text": [
      "Epoch 5:  66%|██████▌   | 63/96 [00:06<00:04,  6.85it/s]"
     ]
    },
    {
     "name": "stdout",
     "output_type": "stream",
     "text": [
      "torch.Size([1, 5, 64])\n",
      "torch.Size([1, 5, 64])\n",
      "torch.Size([1, 5, 64])\n",
      "torch.Size([1, 5, 64])\n",
      "torch.Size([1, 5, 64])\n",
      "torch.Size([1, 5, 64])\n"
     ]
    },
    {
     "name": "stderr",
     "output_type": "stream",
     "text": [
      "Epoch 5:  68%|██████▊   | 65/96 [00:07<00:04,  7.14it/s]"
     ]
    },
    {
     "name": "stdout",
     "output_type": "stream",
     "text": [
      "torch.Size([1, 5, 64])\n",
      "torch.Size([1, 5, 64])\n",
      "torch.Size([1, 5, 64])\n",
      "torch.Size([1, 5, 64])\n",
      "torch.Size([1, 5, 64])\n",
      "torch.Size([1, 5, 64])\n"
     ]
    },
    {
     "name": "stderr",
     "output_type": "stream",
     "text": [
      "Epoch 5:  70%|██████▉   | 67/96 [00:07<00:04,  7.07it/s]"
     ]
    },
    {
     "name": "stdout",
     "output_type": "stream",
     "text": [
      "torch.Size([1, 5, 64])\n",
      "torch.Size([1, 5, 64])\n",
      "torch.Size([1, 5, 64])\n",
      "torch.Size([1, 5, 64])\n",
      "torch.Size([1, 5, 64])\n",
      "torch.Size([1, 5, 64])\n"
     ]
    },
    {
     "name": "stderr",
     "output_type": "stream",
     "text": [
      "Epoch 5:  72%|███████▏  | 69/96 [00:07<00:04,  6.35it/s]"
     ]
    },
    {
     "name": "stdout",
     "output_type": "stream",
     "text": [
      "torch.Size([1, 5, 64])\n",
      "torch.Size([1, 5, 64])\n",
      "torch.Size([1, 5, 64])\n"
     ]
    },
    {
     "name": "stderr",
     "output_type": "stream",
     "text": [
      "Epoch 5:  73%|███████▎  | 70/96 [00:08<00:04,  6.14it/s]"
     ]
    },
    {
     "name": "stdout",
     "output_type": "stream",
     "text": [
      "torch.Size([1, 5, 64])\n",
      "torch.Size([1, 5, 64])\n",
      "torch.Size([1, 5, 64])\n",
      "torch.Size([1, 5, 64])\n",
      "torch.Size([1, 5, 64])\n",
      "torch.Size([1, 5, 64])\n"
     ]
    },
    {
     "name": "stderr",
     "output_type": "stream",
     "text": [
      "Epoch 5:  75%|███████▌  | 72/96 [00:08<00:04,  5.82it/s]"
     ]
    },
    {
     "name": "stdout",
     "output_type": "stream",
     "text": [
      "torch.Size([1, 5, 64])\n",
      "torch.Size([1, 5, 64])\n",
      "torch.Size([1, 5, 64])\n",
      "torch.Size([1, 5, 64])\n",
      "torch.Size([1, 5, 64])\n",
      "torch.Size([1, 5, 64])\n"
     ]
    },
    {
     "name": "stderr",
     "output_type": "stream",
     "text": [
      "Epoch 5:  77%|███████▋  | 74/96 [00:08<00:03,  5.68it/s]"
     ]
    },
    {
     "name": "stdout",
     "output_type": "stream",
     "text": [
      "torch.Size([1, 5, 64])\n",
      "torch.Size([1, 5, 64])\n",
      "torch.Size([1, 5, 64])\n",
      "torch.Size([1, 5, 64])\n",
      "torch.Size([1, 5, 64])\n",
      "torch.Size([1, 5, 64])\n"
     ]
    },
    {
     "name": "stderr",
     "output_type": "stream",
     "text": [
      "Epoch 5:  79%|███████▉  | 76/96 [00:09<00:03,  5.69it/s]"
     ]
    },
    {
     "name": "stdout",
     "output_type": "stream",
     "text": [
      "torch.Size([1, 5, 64])\n",
      "torch.Size([1, 5, 64])\n",
      "torch.Size([1, 5, 64])\n",
      "torch.Size([1, 5, 64])\n",
      "torch.Size([1, 5, 64])\n",
      "torch.Size([1, 5, 64])\n"
     ]
    },
    {
     "name": "stderr",
     "output_type": "stream",
     "text": [
      "Epoch 5:  81%|████████▏ | 78/96 [00:09<00:02,  6.07it/s]"
     ]
    },
    {
     "name": "stdout",
     "output_type": "stream",
     "text": [
      "torch.Size([1, 5, 64])\n",
      "torch.Size([1, 5, 64])\n",
      "torch.Size([1, 5, 64])\n",
      "torch.Size([1, 5, 64])\n",
      "torch.Size([1, 5, 64])\n",
      "torch.Size([1, 5, 64])\n"
     ]
    },
    {
     "name": "stderr",
     "output_type": "stream",
     "text": [
      "Epoch 5:  83%|████████▎ | 80/96 [00:09<00:02,  6.76it/s]"
     ]
    },
    {
     "name": "stdout",
     "output_type": "stream",
     "text": [
      "torch.Size([1, 5, 64])\n",
      "torch.Size([1, 5, 64])\n",
      "torch.Size([1, 5, 64])\n",
      "torch.Size([1, 5, 64])\n",
      "torch.Size([1, 5, 64])\n",
      "torch.Size([1, 5, 64])\n"
     ]
    },
    {
     "name": "stderr",
     "output_type": "stream",
     "text": [
      "Epoch 5:  85%|████████▌ | 82/96 [00:09<00:01,  7.52it/s]"
     ]
    },
    {
     "name": "stdout",
     "output_type": "stream",
     "text": [
      "torch.Size([1, 5, 64])\n",
      "torch.Size([1, 5, 64])\n",
      "torch.Size([1, 5, 64])\n",
      "torch.Size([1, 5, 64])\n",
      "torch.Size([1, 5, 64])\n",
      "torch.Size([1, 5, 64])\n"
     ]
    },
    {
     "name": "stderr",
     "output_type": "stream",
     "text": [
      "Epoch 5:  88%|████████▊ | 84/96 [00:10<00:01,  7.91it/s]"
     ]
    },
    {
     "name": "stdout",
     "output_type": "stream",
     "text": [
      "torch.Size([1, 5, 64])\n",
      "torch.Size([1, 5, 64])\n",
      "torch.Size([1, 5, 64])\n",
      "torch.Size([1, 5, 64])\n",
      "torch.Size([1, 5, 64])\n",
      "torch.Size([1, 5, 64])\n"
     ]
    },
    {
     "name": "stderr",
     "output_type": "stream",
     "text": [
      "Epoch 5:  90%|████████▉ | 86/96 [00:10<00:01,  8.12it/s]"
     ]
    },
    {
     "name": "stdout",
     "output_type": "stream",
     "text": [
      "torch.Size([1, 5, 64])\n",
      "torch.Size([1, 5, 64])\n",
      "torch.Size([1, 5, 64])\n",
      "torch.Size([1, 5, 64])\n",
      "torch.Size([1, 5, 64])\n",
      "torch.Size([1, 5, 64])\n"
     ]
    },
    {
     "name": "stderr",
     "output_type": "stream",
     "text": [
      "Epoch 5:  92%|█████████▏| 88/96 [00:10<00:00,  8.48it/s]"
     ]
    },
    {
     "name": "stdout",
     "output_type": "stream",
     "text": [
      "torch.Size([1, 5, 64])\n",
      "torch.Size([1, 5, 64])\n",
      "torch.Size([1, 5, 64])\n",
      "torch.Size([1, 5, 64])\n",
      "torch.Size([1, 5, 64])\n",
      "torch.Size([1, 5, 64])\n"
     ]
    },
    {
     "name": "stderr",
     "output_type": "stream",
     "text": [
      "Epoch 5:  94%|█████████▍| 90/96 [00:10<00:00,  8.60it/s]"
     ]
    },
    {
     "name": "stdout",
     "output_type": "stream",
     "text": [
      "torch.Size([1, 5, 64])\n",
      "torch.Size([1, 5, 64])\n",
      "torch.Size([1, 5, 64])\n",
      "torch.Size([1, 5, 64])\n",
      "torch.Size([1, 5, 64])\n",
      "torch.Size([1, 5, 64])\n"
     ]
    },
    {
     "name": "stderr",
     "output_type": "stream",
     "text": [
      "Epoch 5:  96%|█████████▌| 92/96 [00:11<00:00,  8.44it/s]"
     ]
    },
    {
     "name": "stdout",
     "output_type": "stream",
     "text": [
      "torch.Size([1, 5, 64])\n",
      "torch.Size([1, 5, 64])\n",
      "torch.Size([1, 5, 64])\n",
      "torch.Size([1, 5, 64])\n",
      "torch.Size([1, 5, 64])\n",
      "torch.Size([1, 5, 64])\n"
     ]
    },
    {
     "name": "stderr",
     "output_type": "stream",
     "text": [
      "Epoch 5:  98%|█████████▊| 94/96 [00:11<00:00,  8.40it/s]"
     ]
    },
    {
     "name": "stdout",
     "output_type": "stream",
     "text": [
      "torch.Size([1, 5, 64])\n",
      "torch.Size([1, 5, 64])\n",
      "torch.Size([1, 5, 64])\n",
      "torch.Size([1, 5, 64])\n",
      "torch.Size([1, 5, 64])\n",
      "torch.Size([1, 5, 64])\n"
     ]
    },
    {
     "name": "stderr",
     "output_type": "stream",
     "text": [
      "                                                        \r"
     ]
    },
    {
     "name": "stdout",
     "output_type": "stream",
     "text": [
      "torch.Size([1, 5, 64])\n",
      "torch.Size([1, 5, 64])\n",
      "torch.Size([1, 5, 64])\n"
     ]
    },
    {
     "name": "stderr",
     "output_type": "stream",
     "text": [
      "Epoch 6:   0%|          | 0/96 [00:00<?, ?it/s]"
     ]
    },
    {
     "name": "stdout",
     "output_type": "stream",
     "text": [
      "torch.Size([1, 5, 64])\n",
      "torch.Size([1, 5, 64])\n",
      "torch.Size([1, 5, 64])\n"
     ]
    },
    {
     "name": "stderr",
     "output_type": "stream",
     "text": [
      "Epoch 6:   1%|          | 1/96 [00:00<00:10,  8.88it/s]"
     ]
    },
    {
     "name": "stdout",
     "output_type": "stream",
     "text": [
      "torch.Size([1, 5, 64])\n",
      "torch.Size([1, 5, 64])\n",
      "torch.Size([1, 5, 64])\n"
     ]
    },
    {
     "name": "stderr",
     "output_type": "stream",
     "text": [
      "Epoch 6:   2%|▏         | 2/96 [00:00<00:10,  8.78it/s]"
     ]
    },
    {
     "name": "stdout",
     "output_type": "stream",
     "text": [
      "torch.Size([1, 5, 64])\n",
      "torch.Size([1, 5, 64])\n",
      "torch.Size([1, 5, 64])\n"
     ]
    },
    {
     "name": "stderr",
     "output_type": "stream",
     "text": [
      "Epoch 6:   3%|▎         | 3/96 [00:00<00:11,  8.42it/s]"
     ]
    },
    {
     "name": "stdout",
     "output_type": "stream",
     "text": [
      "torch.Size([1, 5, 64])\n",
      "torch.Size([1, 5, 64])\n",
      "torch.Size([1, 5, 64])\n"
     ]
    },
    {
     "name": "stderr",
     "output_type": "stream",
     "text": [
      "Epoch 6:   4%|▍         | 4/96 [00:00<00:10,  8.46it/s]"
     ]
    },
    {
     "name": "stdout",
     "output_type": "stream",
     "text": [
      "torch.Size([1, 5, 64])\n",
      "torch.Size([1, 5, 64])\n",
      "torch.Size([1, 5, 64])\n"
     ]
    },
    {
     "name": "stderr",
     "output_type": "stream",
     "text": [
      "Epoch 6:   5%|▌         | 5/96 [00:00<00:10,  8.35it/s]"
     ]
    },
    {
     "name": "stdout",
     "output_type": "stream",
     "text": [
      "torch.Size([1, 5, 64])\n",
      "torch.Size([1, 5, 64])\n",
      "torch.Size([1, 5, 64])\n"
     ]
    },
    {
     "name": "stderr",
     "output_type": "stream",
     "text": [
      "Epoch 6:   6%|▋         | 6/96 [00:00<00:10,  8.39it/s]"
     ]
    },
    {
     "name": "stdout",
     "output_type": "stream",
     "text": [
      "torch.Size([1, 5, 64])\n",
      "torch.Size([1, 5, 64])\n",
      "torch.Size([1, 5, 64])\n"
     ]
    },
    {
     "name": "stderr",
     "output_type": "stream",
     "text": [
      "Epoch 6:   7%|▋         | 7/96 [00:00<00:10,  8.48it/s]"
     ]
    },
    {
     "name": "stdout",
     "output_type": "stream",
     "text": [
      "torch.Size([1, 5, 64])\n",
      "torch.Size([1, 5, 64])\n",
      "torch.Size([1, 5, 64])\n"
     ]
    },
    {
     "name": "stderr",
     "output_type": "stream",
     "text": [
      "Epoch 6:   8%|▊         | 8/96 [00:00<00:10,  8.08it/s]"
     ]
    },
    {
     "name": "stdout",
     "output_type": "stream",
     "text": [
      "torch.Size([1, 5, 64])\n",
      "torch.Size([1, 5, 64])\n",
      "torch.Size([1, 5, 64])\n"
     ]
    },
    {
     "name": "stderr",
     "output_type": "stream",
     "text": [
      "Epoch 6:   9%|▉         | 9/96 [00:01<00:10,  8.31it/s]"
     ]
    },
    {
     "name": "stdout",
     "output_type": "stream",
     "text": [
      "torch.Size([1, 5, 64])\n",
      "torch.Size([1, 5, 64])\n",
      "torch.Size([1, 5, 64])\n"
     ]
    },
    {
     "name": "stderr",
     "output_type": "stream",
     "text": [
      "Epoch 6:  10%|█         | 10/96 [00:01<00:10,  8.48it/s]"
     ]
    },
    {
     "name": "stdout",
     "output_type": "stream",
     "text": [
      "torch.Size([1, 5, 64])\n",
      "torch.Size([1, 5, 64])\n",
      "torch.Size([1, 5, 64])\n"
     ]
    },
    {
     "name": "stderr",
     "output_type": "stream",
     "text": [
      "Epoch 6:  11%|█▏        | 11/96 [00:01<00:10,  8.48it/s]"
     ]
    },
    {
     "name": "stdout",
     "output_type": "stream",
     "text": [
      "torch.Size([1, 5, 64])\n",
      "torch.Size([1, 5, 64])\n",
      "torch.Size([1, 5, 64])\n"
     ]
    },
    {
     "name": "stderr",
     "output_type": "stream",
     "text": [
      "Epoch 6:  12%|█▎        | 12/96 [00:01<00:09,  8.76it/s]"
     ]
    },
    {
     "name": "stdout",
     "output_type": "stream",
     "text": [
      "torch.Size([1, 5, 64])\n",
      "torch.Size([1, 5, 64])\n",
      "torch.Size([1, 5, 64])\n"
     ]
    },
    {
     "name": "stderr",
     "output_type": "stream",
     "text": [
      "Epoch 6:  14%|█▎        | 13/96 [00:01<00:09,  8.77it/s]"
     ]
    },
    {
     "name": "stdout",
     "output_type": "stream",
     "text": [
      "torch.Size([1, 5, 64])\n",
      "torch.Size([1, 5, 64])\n",
      "torch.Size([1, 5, 64])\n"
     ]
    },
    {
     "name": "stderr",
     "output_type": "stream",
     "text": [
      "Epoch 6:  15%|█▍        | 14/96 [00:01<00:09,  8.58it/s]"
     ]
    },
    {
     "name": "stdout",
     "output_type": "stream",
     "text": [
      "torch.Size([1, 5, 64])\n",
      "torch.Size([1, 5, 64])\n",
      "torch.Size([1, 5, 64])\n"
     ]
    },
    {
     "name": "stderr",
     "output_type": "stream",
     "text": [
      "Epoch 6:  16%|█▌        | 15/96 [00:01<00:09,  8.26it/s]"
     ]
    },
    {
     "name": "stdout",
     "output_type": "stream",
     "text": [
      "torch.Size([1, 5, 64])\n",
      "torch.Size([1, 5, 64])\n",
      "torch.Size([1, 5, 64])\n"
     ]
    },
    {
     "name": "stderr",
     "output_type": "stream",
     "text": [
      "Epoch 6:  17%|█▋        | 16/96 [00:01<00:09,  8.50it/s]"
     ]
    },
    {
     "name": "stdout",
     "output_type": "stream",
     "text": [
      "torch.Size([1, 5, 64])\n",
      "torch.Size([1, 5, 64])\n",
      "torch.Size([1, 5, 64])\n"
     ]
    },
    {
     "name": "stderr",
     "output_type": "stream",
     "text": [
      "Epoch 6:  18%|█▊        | 17/96 [00:02<00:09,  8.41it/s]"
     ]
    },
    {
     "name": "stdout",
     "output_type": "stream",
     "text": [
      "torch.Size([1, 5, 64])\n",
      "torch.Size([1, 5, 64])\n",
      "torch.Size([1, 5, 64])\n"
     ]
    },
    {
     "name": "stderr",
     "output_type": "stream",
     "text": [
      "Epoch 6:  19%|█▉        | 18/96 [00:02<00:09,  8.33it/s]"
     ]
    },
    {
     "name": "stdout",
     "output_type": "stream",
     "text": [
      "torch.Size([1, 5, 64])\n",
      "torch.Size([1, 5, 64])\n",
      "torch.Size([1, 5, 64])\n"
     ]
    },
    {
     "name": "stderr",
     "output_type": "stream",
     "text": [
      "Epoch 6:  20%|█▉        | 19/96 [00:02<00:09,  8.54it/s]"
     ]
    },
    {
     "name": "stdout",
     "output_type": "stream",
     "text": [
      "torch.Size([1, 5, 64])\n",
      "torch.Size([1, 5, 64])\n",
      "torch.Size([1, 5, 64])\n"
     ]
    },
    {
     "name": "stderr",
     "output_type": "stream",
     "text": [
      "Epoch 6:  21%|██        | 20/96 [00:02<00:08,  8.68it/s]"
     ]
    },
    {
     "name": "stdout",
     "output_type": "stream",
     "text": [
      "torch.Size([1, 5, 64])\n",
      "torch.Size([1, 5, 64])\n",
      "torch.Size([1, 5, 64])\n"
     ]
    },
    {
     "name": "stderr",
     "output_type": "stream",
     "text": [
      "Epoch 6:  22%|██▏       | 21/96 [00:02<00:08,  8.66it/s]"
     ]
    },
    {
     "name": "stdout",
     "output_type": "stream",
     "text": [
      "torch.Size([1, 5, 64])\n",
      "torch.Size([1, 5, 64])\n",
      "torch.Size([1, 5, 64])\n"
     ]
    },
    {
     "name": "stderr",
     "output_type": "stream",
     "text": [
      "Epoch 6:  23%|██▎       | 22/96 [00:02<00:09,  7.83it/s]"
     ]
    },
    {
     "name": "stdout",
     "output_type": "stream",
     "text": [
      "torch.Size([1, 5, 64])\n",
      "torch.Size([1, 5, 64])\n",
      "torch.Size([1, 5, 64])\n"
     ]
    },
    {
     "name": "stderr",
     "output_type": "stream",
     "text": [
      "Epoch 6:  24%|██▍       | 23/96 [00:02<00:08,  8.11it/s]"
     ]
    },
    {
     "name": "stdout",
     "output_type": "stream",
     "text": [
      "torch.Size([1, 5, 64])\n",
      "torch.Size([1, 5, 64])\n",
      "torch.Size([1, 5, 64])\n"
     ]
    },
    {
     "name": "stderr",
     "output_type": "stream",
     "text": [
      "Epoch 6:  25%|██▌       | 24/96 [00:02<00:08,  8.13it/s]"
     ]
    },
    {
     "name": "stdout",
     "output_type": "stream",
     "text": [
      "torch.Size([1, 5, 64])\n",
      "torch.Size([1, 5, 64])\n",
      "torch.Size([1, 5, 64])\n"
     ]
    },
    {
     "name": "stderr",
     "output_type": "stream",
     "text": [
      "Epoch 6:  26%|██▌       | 25/96 [00:02<00:08,  8.22it/s]"
     ]
    },
    {
     "name": "stdout",
     "output_type": "stream",
     "text": [
      "torch.Size([1, 5, 64])\n",
      "torch.Size([1, 5, 64])\n",
      "torch.Size([1, 5, 64])\n"
     ]
    },
    {
     "name": "stderr",
     "output_type": "stream",
     "text": [
      "Epoch 6:  27%|██▋       | 26/96 [00:03<00:08,  8.28it/s]"
     ]
    },
    {
     "name": "stdout",
     "output_type": "stream",
     "text": [
      "torch.Size([1, 5, 64])\n",
      "torch.Size([1, 5, 64])\n",
      "torch.Size([1, 5, 64])\n"
     ]
    },
    {
     "name": "stderr",
     "output_type": "stream",
     "text": [
      "Epoch 6:  28%|██▊       | 27/96 [00:03<00:08,  8.39it/s]"
     ]
    },
    {
     "name": "stdout",
     "output_type": "stream",
     "text": [
      "torch.Size([1, 5, 64])\n",
      "torch.Size([1, 5, 64])\n",
      "torch.Size([1, 5, 64])\n"
     ]
    },
    {
     "name": "stderr",
     "output_type": "stream",
     "text": [
      "Epoch 6:  29%|██▉       | 28/96 [00:03<00:08,  8.41it/s]"
     ]
    },
    {
     "name": "stdout",
     "output_type": "stream",
     "text": [
      "torch.Size([1, 5, 64])\n",
      "torch.Size([1, 5, 64])\n",
      "torch.Size([1, 5, 64])\n"
     ]
    },
    {
     "name": "stderr",
     "output_type": "stream",
     "text": [
      "Epoch 6:  30%|███       | 29/96 [00:03<00:07,  8.49it/s]"
     ]
    },
    {
     "name": "stdout",
     "output_type": "stream",
     "text": [
      "torch.Size([1, 5, 64])\n",
      "torch.Size([1, 5, 64])\n",
      "torch.Size([1, 5, 64])\n"
     ]
    },
    {
     "name": "stderr",
     "output_type": "stream",
     "text": [
      "Epoch 6:  31%|███▏      | 30/96 [00:03<00:07,  8.57it/s]"
     ]
    },
    {
     "name": "stdout",
     "output_type": "stream",
     "text": [
      "torch.Size([1, 5, 64])\n",
      "torch.Size([1, 5, 64])\n",
      "torch.Size([1, 5, 64])\n"
     ]
    },
    {
     "name": "stderr",
     "output_type": "stream",
     "text": [
      "Epoch 6:  32%|███▏      | 31/96 [00:03<00:07,  8.56it/s]"
     ]
    },
    {
     "name": "stdout",
     "output_type": "stream",
     "text": [
      "torch.Size([1, 5, 64])\n",
      "torch.Size([1, 5, 64])\n",
      "torch.Size([1, 5, 64])\n"
     ]
    },
    {
     "name": "stderr",
     "output_type": "stream",
     "text": [
      "Epoch 6:  33%|███▎      | 32/96 [00:03<00:07,  8.46it/s]"
     ]
    },
    {
     "name": "stdout",
     "output_type": "stream",
     "text": [
      "torch.Size([1, 5, 64])\n",
      "torch.Size([1, 5, 64])\n",
      "torch.Size([1, 5, 64])\n"
     ]
    },
    {
     "name": "stderr",
     "output_type": "stream",
     "text": [
      "Epoch 6:  34%|███▍      | 33/96 [00:03<00:07,  8.62it/s]"
     ]
    },
    {
     "name": "stdout",
     "output_type": "stream",
     "text": [
      "torch.Size([1, 5, 64])\n",
      "torch.Size([1, 5, 64])\n",
      "torch.Size([1, 5, 64])\n"
     ]
    },
    {
     "name": "stderr",
     "output_type": "stream",
     "text": [
      "Epoch 6:  35%|███▌      | 34/96 [00:04<00:07,  8.72it/s]"
     ]
    },
    {
     "name": "stdout",
     "output_type": "stream",
     "text": [
      "torch.Size([1, 5, 64])\n",
      "torch.Size([1, 5, 64])\n",
      "torch.Size([1, 5, 64])\n"
     ]
    },
    {
     "name": "stderr",
     "output_type": "stream",
     "text": [
      "Epoch 6:  36%|███▋      | 35/96 [00:04<00:07,  8.68it/s]"
     ]
    },
    {
     "name": "stdout",
     "output_type": "stream",
     "text": [
      "torch.Size([1, 5, 64])\n",
      "torch.Size([1, 5, 64])\n",
      "torch.Size([1, 5, 64])\n"
     ]
    },
    {
     "name": "stderr",
     "output_type": "stream",
     "text": [
      "Epoch 6:  38%|███▊      | 36/96 [00:04<00:06,  8.63it/s]"
     ]
    },
    {
     "name": "stdout",
     "output_type": "stream",
     "text": [
      "torch.Size([1, 5, 64])\n",
      "torch.Size([1, 5, 64])\n",
      "torch.Size([1, 5, 64])\n"
     ]
    },
    {
     "name": "stderr",
     "output_type": "stream",
     "text": [
      "Epoch 6:  39%|███▊      | 37/96 [00:04<00:06,  8.48it/s]"
     ]
    },
    {
     "name": "stdout",
     "output_type": "stream",
     "text": [
      "torch.Size([1, 5, 64])\n",
      "torch.Size([1, 5, 64])\n",
      "torch.Size([1, 5, 64])\n"
     ]
    },
    {
     "name": "stderr",
     "output_type": "stream",
     "text": [
      "Epoch 6:  40%|███▉      | 38/96 [00:04<00:06,  8.59it/s]"
     ]
    },
    {
     "name": "stdout",
     "output_type": "stream",
     "text": [
      "torch.Size([1, 5, 64])\n",
      "torch.Size([1, 5, 64])\n",
      "torch.Size([1, 5, 64])\n"
     ]
    },
    {
     "name": "stderr",
     "output_type": "stream",
     "text": [
      "Epoch 6:  41%|████      | 39/96 [00:04<00:06,  8.64it/s]"
     ]
    },
    {
     "name": "stdout",
     "output_type": "stream",
     "text": [
      "torch.Size([1, 5, 64])\n",
      "torch.Size([1, 5, 64])\n",
      "torch.Size([1, 5, 64])\n"
     ]
    },
    {
     "name": "stderr",
     "output_type": "stream",
     "text": [
      "Epoch 6:  42%|████▏     | 40/96 [00:04<00:06,  8.27it/s]"
     ]
    },
    {
     "name": "stdout",
     "output_type": "stream",
     "text": [
      "torch.Size([1, 5, 64])\n",
      "torch.Size([1, 5, 64])\n",
      "torch.Size([1, 5, 64])\n"
     ]
    },
    {
     "name": "stderr",
     "output_type": "stream",
     "text": [
      "Epoch 6:  43%|████▎     | 41/96 [00:04<00:06,  8.20it/s]"
     ]
    },
    {
     "name": "stdout",
     "output_type": "stream",
     "text": [
      "torch.Size([1, 5, 64])\n",
      "torch.Size([1, 5, 64])\n",
      "torch.Size([1, 5, 64])\n"
     ]
    },
    {
     "name": "stderr",
     "output_type": "stream",
     "text": [
      "Epoch 6:  44%|████▍     | 42/96 [00:04<00:06,  8.28it/s]"
     ]
    },
    {
     "name": "stdout",
     "output_type": "stream",
     "text": [
      "torch.Size([1, 5, 64])\n",
      "torch.Size([1, 5, 64])\n",
      "torch.Size([1, 5, 64])\n"
     ]
    },
    {
     "name": "stderr",
     "output_type": "stream",
     "text": [
      "Epoch 6:  45%|████▍     | 43/96 [00:05<00:06,  8.45it/s]"
     ]
    },
    {
     "name": "stdout",
     "output_type": "stream",
     "text": [
      "torch.Size([1, 5, 64])\n",
      "torch.Size([1, 5, 64])\n",
      "torch.Size([1, 5, 64])\n"
     ]
    },
    {
     "name": "stderr",
     "output_type": "stream",
     "text": [
      "Epoch 6:  46%|████▌     | 44/96 [00:05<00:06,  8.34it/s]"
     ]
    },
    {
     "name": "stdout",
     "output_type": "stream",
     "text": [
      "torch.Size([1, 5, 64])\n",
      "torch.Size([1, 5, 64])\n",
      "torch.Size([1, 5, 64])\n"
     ]
    },
    {
     "name": "stderr",
     "output_type": "stream",
     "text": [
      "Epoch 6:  47%|████▋     | 45/96 [00:05<00:06,  8.43it/s]"
     ]
    },
    {
     "name": "stdout",
     "output_type": "stream",
     "text": [
      "torch.Size([1, 5, 64])\n",
      "torch.Size([1, 5, 64])\n",
      "torch.Size([1, 5, 64])\n"
     ]
    },
    {
     "name": "stderr",
     "output_type": "stream",
     "text": [
      "Epoch 6:  48%|████▊     | 46/96 [00:05<00:05,  8.48it/s]"
     ]
    },
    {
     "name": "stdout",
     "output_type": "stream",
     "text": [
      "torch.Size([1, 5, 64])\n",
      "torch.Size([1, 5, 64])\n",
      "torch.Size([1, 5, 64])\n"
     ]
    },
    {
     "name": "stderr",
     "output_type": "stream",
     "text": [
      "Epoch 6:  49%|████▉     | 47/96 [00:05<00:05,  8.46it/s]"
     ]
    },
    {
     "name": "stdout",
     "output_type": "stream",
     "text": [
      "torch.Size([1, 5, 64])\n",
      "torch.Size([1, 5, 64])\n",
      "torch.Size([1, 5, 64])\n"
     ]
    },
    {
     "name": "stderr",
     "output_type": "stream",
     "text": [
      "Epoch 6:  50%|█████     | 48/96 [00:05<00:05,  8.53it/s]"
     ]
    },
    {
     "name": "stdout",
     "output_type": "stream",
     "text": [
      "torch.Size([1, 5, 64])\n",
      "torch.Size([1, 5, 64])\n",
      "torch.Size([1, 5, 64])\n"
     ]
    },
    {
     "name": "stderr",
     "output_type": "stream",
     "text": [
      "Epoch 6:  51%|█████     | 49/96 [00:05<00:05,  8.40it/s]"
     ]
    },
    {
     "name": "stdout",
     "output_type": "stream",
     "text": [
      "torch.Size([1, 5, 64])\n",
      "torch.Size([1, 5, 64])\n",
      "torch.Size([1, 5, 64])\n"
     ]
    },
    {
     "name": "stderr",
     "output_type": "stream",
     "text": [
      "Epoch 6:  52%|█████▏    | 50/96 [00:05<00:05,  8.44it/s]"
     ]
    },
    {
     "name": "stdout",
     "output_type": "stream",
     "text": [
      "torch.Size([1, 5, 64])\n",
      "torch.Size([1, 5, 64])\n",
      "torch.Size([1, 5, 64])\n"
     ]
    },
    {
     "name": "stderr",
     "output_type": "stream",
     "text": [
      "Epoch 6:  53%|█████▎    | 51/96 [00:06<00:05,  8.38it/s]"
     ]
    },
    {
     "name": "stdout",
     "output_type": "stream",
     "text": [
      "torch.Size([1, 5, 64])\n",
      "torch.Size([1, 5, 64])\n",
      "torch.Size([1, 5, 64])\n"
     ]
    },
    {
     "name": "stderr",
     "output_type": "stream",
     "text": [
      "Epoch 6:  54%|█████▍    | 52/96 [00:06<00:05,  8.41it/s]"
     ]
    },
    {
     "name": "stdout",
     "output_type": "stream",
     "text": [
      "torch.Size([1, 5, 64])\n",
      "torch.Size([1, 5, 64])\n",
      "torch.Size([1, 5, 64])\n"
     ]
    },
    {
     "name": "stderr",
     "output_type": "stream",
     "text": [
      "Epoch 6:  55%|█████▌    | 53/96 [00:06<00:04,  8.62it/s]"
     ]
    },
    {
     "name": "stdout",
     "output_type": "stream",
     "text": [
      "torch.Size([1, 5, 64])\n",
      "torch.Size([1, 5, 64])\n",
      "torch.Size([1, 5, 64])\n"
     ]
    },
    {
     "name": "stderr",
     "output_type": "stream",
     "text": [
      "Epoch 6:  56%|█████▋    | 54/96 [00:06<00:04,  8.69it/s]"
     ]
    },
    {
     "name": "stdout",
     "output_type": "stream",
     "text": [
      "torch.Size([1, 5, 64])\n",
      "torch.Size([1, 5, 64])\n",
      "torch.Size([1, 5, 64])\n"
     ]
    },
    {
     "name": "stderr",
     "output_type": "stream",
     "text": [
      "Epoch 6:  57%|█████▋    | 55/96 [00:06<00:04,  8.40it/s]"
     ]
    },
    {
     "name": "stdout",
     "output_type": "stream",
     "text": [
      "torch.Size([1, 5, 64])\n",
      "torch.Size([1, 5, 64])\n",
      "torch.Size([1, 5, 64])\n"
     ]
    },
    {
     "name": "stderr",
     "output_type": "stream",
     "text": [
      "Epoch 6:  58%|█████▊    | 56/96 [00:06<00:04,  8.45it/s]"
     ]
    },
    {
     "name": "stdout",
     "output_type": "stream",
     "text": [
      "torch.Size([1, 5, 64])\n",
      "torch.Size([1, 5, 64])\n",
      "torch.Size([1, 5, 64])\n"
     ]
    },
    {
     "name": "stderr",
     "output_type": "stream",
     "text": [
      "Epoch 6:  59%|█████▉    | 57/96 [00:06<00:04,  8.52it/s]"
     ]
    },
    {
     "name": "stdout",
     "output_type": "stream",
     "text": [
      "torch.Size([1, 5, 64])\n",
      "torch.Size([1, 5, 64])\n",
      "torch.Size([1, 5, 64])\n"
     ]
    },
    {
     "name": "stderr",
     "output_type": "stream",
     "text": [
      "Epoch 6:  60%|██████    | 58/96 [00:06<00:04,  8.65it/s]"
     ]
    },
    {
     "name": "stdout",
     "output_type": "stream",
     "text": [
      "torch.Size([1, 5, 64])\n",
      "torch.Size([1, 5, 64])\n",
      "torch.Size([1, 5, 64])\n"
     ]
    },
    {
     "name": "stderr",
     "output_type": "stream",
     "text": [
      "Epoch 6:  61%|██████▏   | 59/96 [00:06<00:04,  8.79it/s]"
     ]
    },
    {
     "name": "stdout",
     "output_type": "stream",
     "text": [
      "torch.Size([1, 5, 64])\n",
      "torch.Size([1, 5, 64])\n",
      "torch.Size([1, 5, 64])\n"
     ]
    },
    {
     "name": "stderr",
     "output_type": "stream",
     "text": [
      "Epoch 6:  62%|██████▎   | 60/96 [00:07<00:04,  8.34it/s]"
     ]
    },
    {
     "name": "stdout",
     "output_type": "stream",
     "text": [
      "torch.Size([1, 5, 64])\n",
      "torch.Size([1, 5, 64])\n",
      "torch.Size([1, 5, 64])\n"
     ]
    },
    {
     "name": "stderr",
     "output_type": "stream",
     "text": [
      "Epoch 6:  64%|██████▎   | 61/96 [00:07<00:04,  8.36it/s]"
     ]
    },
    {
     "name": "stdout",
     "output_type": "stream",
     "text": [
      "torch.Size([1, 5, 64])\n",
      "torch.Size([1, 5, 64])\n",
      "torch.Size([1, 5, 64])\n"
     ]
    },
    {
     "name": "stderr",
     "output_type": "stream",
     "text": [
      "Epoch 6:  65%|██████▍   | 62/96 [00:07<00:04,  8.02it/s]"
     ]
    },
    {
     "name": "stdout",
     "output_type": "stream",
     "text": [
      "torch.Size([1, 5, 64])\n",
      "torch.Size([1, 5, 64])\n",
      "torch.Size([1, 5, 64])\n"
     ]
    },
    {
     "name": "stderr",
     "output_type": "stream",
     "text": [
      "Epoch 6:  66%|██████▌   | 63/96 [00:07<00:04,  8.01it/s]"
     ]
    },
    {
     "name": "stdout",
     "output_type": "stream",
     "text": [
      "torch.Size([1, 5, 64])\n",
      "torch.Size([1, 5, 64])\n",
      "torch.Size([1, 5, 64])\n"
     ]
    },
    {
     "name": "stderr",
     "output_type": "stream",
     "text": [
      "Epoch 6:  67%|██████▋   | 64/96 [00:07<00:03,  8.08it/s]"
     ]
    },
    {
     "name": "stdout",
     "output_type": "stream",
     "text": [
      "torch.Size([1, 5, 64])\n",
      "torch.Size([1, 5, 64])\n",
      "torch.Size([1, 5, 64])\n"
     ]
    },
    {
     "name": "stderr",
     "output_type": "stream",
     "text": [
      "Epoch 6:  68%|██████▊   | 65/96 [00:07<00:03,  8.05it/s]"
     ]
    },
    {
     "name": "stdout",
     "output_type": "stream",
     "text": [
      "torch.Size([1, 5, 64])\n",
      "torch.Size([1, 5, 64])\n",
      "torch.Size([1, 5, 64])\n"
     ]
    },
    {
     "name": "stderr",
     "output_type": "stream",
     "text": [
      "Epoch 6:  69%|██████▉   | 66/96 [00:07<00:03,  8.32it/s]"
     ]
    },
    {
     "name": "stdout",
     "output_type": "stream",
     "text": [
      "torch.Size([1, 5, 64])\n",
      "torch.Size([1, 5, 64])\n",
      "torch.Size([1, 5, 64])\n"
     ]
    },
    {
     "name": "stderr",
     "output_type": "stream",
     "text": [
      "Epoch 6:  70%|██████▉   | 67/96 [00:07<00:03,  8.47it/s]"
     ]
    },
    {
     "name": "stdout",
     "output_type": "stream",
     "text": [
      "torch.Size([1, 5, 64])\n",
      "torch.Size([1, 5, 64])\n",
      "torch.Size([1, 5, 64])\n"
     ]
    },
    {
     "name": "stderr",
     "output_type": "stream",
     "text": [
      "Epoch 6:  71%|███████   | 68/96 [00:08<00:03,  8.47it/s]"
     ]
    },
    {
     "name": "stdout",
     "output_type": "stream",
     "text": [
      "torch.Size([1, 5, 64])\n",
      "torch.Size([1, 5, 64])\n",
      "torch.Size([1, 5, 64])\n"
     ]
    },
    {
     "name": "stderr",
     "output_type": "stream",
     "text": [
      "Epoch 6:  72%|███████▏  | 69/96 [00:08<00:03,  8.40it/s]"
     ]
    },
    {
     "name": "stdout",
     "output_type": "stream",
     "text": [
      "torch.Size([1, 5, 64])\n",
      "torch.Size([1, 5, 64])\n",
      "torch.Size([1, 5, 64])\n"
     ]
    },
    {
     "name": "stderr",
     "output_type": "stream",
     "text": [
      "Epoch 6:  73%|███████▎  | 70/96 [00:08<00:03,  8.42it/s]"
     ]
    },
    {
     "name": "stdout",
     "output_type": "stream",
     "text": [
      "torch.Size([1, 5, 64])\n",
      "torch.Size([1, 5, 64])\n",
      "torch.Size([1, 5, 64])\n"
     ]
    },
    {
     "name": "stderr",
     "output_type": "stream",
     "text": [
      "Epoch 6:  74%|███████▍  | 71/96 [00:08<00:03,  8.32it/s]"
     ]
    },
    {
     "name": "stdout",
     "output_type": "stream",
     "text": [
      "torch.Size([1, 5, 64])\n",
      "torch.Size([1, 5, 64])\n",
      "torch.Size([1, 5, 64])\n"
     ]
    },
    {
     "name": "stderr",
     "output_type": "stream",
     "text": [
      "Epoch 6:  75%|███████▌  | 72/96 [00:08<00:02,  8.27it/s]"
     ]
    },
    {
     "name": "stdout",
     "output_type": "stream",
     "text": [
      "torch.Size([1, 5, 64])\n",
      "torch.Size([1, 5, 64])\n",
      "torch.Size([1, 5, 64])\n"
     ]
    },
    {
     "name": "stderr",
     "output_type": "stream",
     "text": [
      "Epoch 6:  76%|███████▌  | 73/96 [00:08<00:02,  8.27it/s]"
     ]
    },
    {
     "name": "stdout",
     "output_type": "stream",
     "text": [
      "torch.Size([1, 5, 64])\n",
      "torch.Size([1, 5, 64])\n",
      "torch.Size([1, 5, 64])\n"
     ]
    },
    {
     "name": "stderr",
     "output_type": "stream",
     "text": [
      "Epoch 6:  77%|███████▋  | 74/96 [00:08<00:02,  8.52it/s]"
     ]
    },
    {
     "name": "stdout",
     "output_type": "stream",
     "text": [
      "torch.Size([1, 5, 64])\n",
      "torch.Size([1, 5, 64])\n",
      "torch.Size([1, 5, 64])\n"
     ]
    },
    {
     "name": "stderr",
     "output_type": "stream",
     "text": [
      "Epoch 6:  78%|███████▊  | 75/96 [00:08<00:02,  8.54it/s]"
     ]
    },
    {
     "name": "stdout",
     "output_type": "stream",
     "text": [
      "torch.Size([1, 5, 64])\n",
      "torch.Size([1, 5, 64])\n",
      "torch.Size([1, 5, 64])\n"
     ]
    },
    {
     "name": "stderr",
     "output_type": "stream",
     "text": [
      "Epoch 6:  79%|███████▉  | 76/96 [00:09<00:02,  8.64it/s]"
     ]
    },
    {
     "name": "stdout",
     "output_type": "stream",
     "text": [
      "torch.Size([1, 5, 64])\n",
      "torch.Size([1, 5, 64])\n",
      "torch.Size([1, 5, 64])\n"
     ]
    },
    {
     "name": "stderr",
     "output_type": "stream",
     "text": [
      "Epoch 6:  80%|████████  | 77/96 [00:09<00:02,  8.81it/s]"
     ]
    },
    {
     "name": "stdout",
     "output_type": "stream",
     "text": [
      "torch.Size([1, 5, 64])\n",
      "torch.Size([1, 5, 64])\n",
      "torch.Size([1, 5, 64])\n"
     ]
    },
    {
     "name": "stderr",
     "output_type": "stream",
     "text": [
      "Epoch 6:  81%|████████▏ | 78/96 [00:09<00:02,  8.82it/s]"
     ]
    },
    {
     "name": "stdout",
     "output_type": "stream",
     "text": [
      "torch.Size([1, 5, 64])\n",
      "torch.Size([1, 5, 64])\n",
      "torch.Size([1, 5, 64])\n"
     ]
    },
    {
     "name": "stderr",
     "output_type": "stream",
     "text": [
      "Epoch 6:  82%|████████▏ | 79/96 [00:09<00:01,  8.80it/s]"
     ]
    },
    {
     "name": "stdout",
     "output_type": "stream",
     "text": [
      "torch.Size([1, 5, 64])\n",
      "torch.Size([1, 5, 64])\n",
      "torch.Size([1, 5, 64])\n"
     ]
    },
    {
     "name": "stderr",
     "output_type": "stream",
     "text": [
      "Epoch 6:  83%|████████▎ | 80/96 [00:09<00:01,  8.49it/s]"
     ]
    },
    {
     "name": "stdout",
     "output_type": "stream",
     "text": [
      "torch.Size([1, 5, 64])\n",
      "torch.Size([1, 5, 64])\n",
      "torch.Size([1, 5, 64])\n"
     ]
    },
    {
     "name": "stderr",
     "output_type": "stream",
     "text": [
      "Epoch 6:  84%|████████▍ | 81/96 [00:09<00:01,  8.37it/s]"
     ]
    },
    {
     "name": "stdout",
     "output_type": "stream",
     "text": [
      "torch.Size([1, 5, 64])\n",
      "torch.Size([1, 5, 64])\n",
      "torch.Size([1, 5, 64])\n"
     ]
    },
    {
     "name": "stderr",
     "output_type": "stream",
     "text": [
      "Epoch 6:  85%|████████▌ | 82/96 [00:09<00:01,  8.38it/s]"
     ]
    },
    {
     "name": "stdout",
     "output_type": "stream",
     "text": [
      "torch.Size([1, 5, 64])\n",
      "torch.Size([1, 5, 64])\n",
      "torch.Size([1, 5, 64])\n"
     ]
    },
    {
     "name": "stderr",
     "output_type": "stream",
     "text": [
      "Epoch 6:  86%|████████▋ | 83/96 [00:09<00:01,  8.36it/s]"
     ]
    },
    {
     "name": "stdout",
     "output_type": "stream",
     "text": [
      "torch.Size([1, 5, 64])\n",
      "torch.Size([1, 5, 64])\n",
      "torch.Size([1, 5, 64])\n"
     ]
    },
    {
     "name": "stderr",
     "output_type": "stream",
     "text": [
      "Epoch 6:  88%|████████▊ | 84/96 [00:09<00:01,  8.43it/s]"
     ]
    },
    {
     "name": "stdout",
     "output_type": "stream",
     "text": [
      "torch.Size([1, 5, 64])\n",
      "torch.Size([1, 5, 64])\n",
      "torch.Size([1, 5, 64])\n"
     ]
    },
    {
     "name": "stderr",
     "output_type": "stream",
     "text": [
      "Epoch 6:  89%|████████▊ | 85/96 [00:10<00:01,  8.50it/s]"
     ]
    },
    {
     "name": "stdout",
     "output_type": "stream",
     "text": [
      "torch.Size([1, 5, 64])\n",
      "torch.Size([1, 5, 64])\n",
      "torch.Size([1, 5, 64])\n"
     ]
    },
    {
     "name": "stderr",
     "output_type": "stream",
     "text": [
      "Epoch 6:  90%|████████▉ | 86/96 [00:10<00:01,  8.46it/s]"
     ]
    },
    {
     "name": "stdout",
     "output_type": "stream",
     "text": [
      "torch.Size([1, 5, 64])\n",
      "torch.Size([1, 5, 64])\n",
      "torch.Size([1, 5, 64])\n"
     ]
    },
    {
     "name": "stderr",
     "output_type": "stream",
     "text": [
      "Epoch 6:  91%|█████████ | 87/96 [00:10<00:01,  8.53it/s]"
     ]
    },
    {
     "name": "stdout",
     "output_type": "stream",
     "text": [
      "torch.Size([1, 5, 64])\n",
      "torch.Size([1, 5, 64])\n",
      "torch.Size([1, 5, 64])\n"
     ]
    },
    {
     "name": "stderr",
     "output_type": "stream",
     "text": [
      "Epoch 6:  92%|█████████▏| 88/96 [00:10<00:00,  8.55it/s]"
     ]
    },
    {
     "name": "stdout",
     "output_type": "stream",
     "text": [
      "torch.Size([1, 5, 64])\n",
      "torch.Size([1, 5, 64])\n",
      "torch.Size([1, 5, 64])\n"
     ]
    },
    {
     "name": "stderr",
     "output_type": "stream",
     "text": [
      "Epoch 6:  93%|█████████▎| 89/96 [00:10<00:00,  8.39it/s]"
     ]
    },
    {
     "name": "stdout",
     "output_type": "stream",
     "text": [
      "torch.Size([1, 5, 64])\n",
      "torch.Size([1, 5, 64])\n",
      "torch.Size([1, 5, 64])\n"
     ]
    },
    {
     "name": "stderr",
     "output_type": "stream",
     "text": [
      "Epoch 6:  94%|█████████▍| 90/96 [00:10<00:00,  8.04it/s]"
     ]
    },
    {
     "name": "stdout",
     "output_type": "stream",
     "text": [
      "torch.Size([1, 5, 64])\n",
      "torch.Size([1, 5, 64])\n",
      "torch.Size([1, 5, 64])\n"
     ]
    },
    {
     "name": "stderr",
     "output_type": "stream",
     "text": [
      "Epoch 6:  95%|█████████▍| 91/96 [00:10<00:00,  7.93it/s]"
     ]
    },
    {
     "name": "stdout",
     "output_type": "stream",
     "text": [
      "torch.Size([1, 5, 64])\n",
      "torch.Size([1, 5, 64])\n",
      "torch.Size([1, 5, 64])\n"
     ]
    },
    {
     "name": "stderr",
     "output_type": "stream",
     "text": [
      "Epoch 6:  96%|█████████▌| 92/96 [00:10<00:00,  8.19it/s]"
     ]
    },
    {
     "name": "stdout",
     "output_type": "stream",
     "text": [
      "torch.Size([1, 5, 64])\n",
      "torch.Size([1, 5, 64])\n",
      "torch.Size([1, 5, 64])\n"
     ]
    },
    {
     "name": "stderr",
     "output_type": "stream",
     "text": [
      "Epoch 6:  97%|█████████▋| 93/96 [00:11<00:00,  8.31it/s]"
     ]
    },
    {
     "name": "stdout",
     "output_type": "stream",
     "text": [
      "torch.Size([1, 5, 64])\n",
      "torch.Size([1, 5, 64])\n",
      "torch.Size([1, 5, 64])\n"
     ]
    },
    {
     "name": "stderr",
     "output_type": "stream",
     "text": [
      "Epoch 6:  98%|█████████▊| 94/96 [00:11<00:00,  8.26it/s]"
     ]
    },
    {
     "name": "stdout",
     "output_type": "stream",
     "text": [
      "torch.Size([1, 5, 64])\n",
      "torch.Size([1, 5, 64])\n",
      "torch.Size([1, 5, 64])\n"
     ]
    },
    {
     "name": "stderr",
     "output_type": "stream",
     "text": [
      "Epoch 6:  99%|█████████▉| 95/96 [00:11<00:00,  8.25it/s]"
     ]
    },
    {
     "name": "stdout",
     "output_type": "stream",
     "text": [
      "torch.Size([1, 5, 64])\n",
      "torch.Size([1, 5, 64])\n",
      "torch.Size([1, 5, 64])\n"
     ]
    },
    {
     "name": "stderr",
     "output_type": "stream",
     "text": [
      "Epoch 7:   0%|          | 0/96 [00:00<?, ?it/s]         "
     ]
    },
    {
     "name": "stdout",
     "output_type": "stream",
     "text": [
      "torch.Size([1, 5, 64])\n",
      "torch.Size([1, 5, 64])\n",
      "torch.Size([1, 5, 64])\n"
     ]
    },
    {
     "name": "stderr",
     "output_type": "stream",
     "text": [
      "Epoch 7:   1%|          | 1/96 [00:00<00:10,  8.67it/s]"
     ]
    },
    {
     "name": "stdout",
     "output_type": "stream",
     "text": [
      "torch.Size([1, 5, 64])\n",
      "torch.Size([1, 5, 64])\n",
      "torch.Size([1, 5, 64])\n"
     ]
    },
    {
     "name": "stderr",
     "output_type": "stream",
     "text": [
      "Epoch 7:   2%|▏         | 2/96 [00:00<00:10,  8.63it/s]"
     ]
    },
    {
     "name": "stdout",
     "output_type": "stream",
     "text": [
      "torch.Size([1, 5, 64])\n",
      "torch.Size([1, 5, 64])\n",
      "torch.Size([1, 5, 64])\n"
     ]
    },
    {
     "name": "stderr",
     "output_type": "stream",
     "text": [
      "Epoch 7:   3%|▎         | 3/96 [00:00<00:10,  8.61it/s]"
     ]
    },
    {
     "name": "stdout",
     "output_type": "stream",
     "text": [
      "torch.Size([1, 5, 64])\n",
      "torch.Size([1, 5, 64])\n",
      "torch.Size([1, 5, 64])\n"
     ]
    },
    {
     "name": "stderr",
     "output_type": "stream",
     "text": [
      "Epoch 7:   4%|▍         | 4/96 [00:00<00:10,  8.59it/s]"
     ]
    },
    {
     "name": "stdout",
     "output_type": "stream",
     "text": [
      "torch.Size([1, 5, 64])\n",
      "torch.Size([1, 5, 64])\n",
      "torch.Size([1, 5, 64])\n"
     ]
    },
    {
     "name": "stderr",
     "output_type": "stream",
     "text": [
      "Epoch 7:   5%|▌         | 5/96 [00:00<00:10,  8.49it/s]"
     ]
    },
    {
     "name": "stdout",
     "output_type": "stream",
     "text": [
      "torch.Size([1, 5, 64])\n",
      "torch.Size([1, 5, 64])\n",
      "torch.Size([1, 5, 64])\n"
     ]
    },
    {
     "name": "stderr",
     "output_type": "stream",
     "text": [
      "Epoch 7:   6%|▋         | 6/96 [00:00<00:10,  8.41it/s]"
     ]
    },
    {
     "name": "stdout",
     "output_type": "stream",
     "text": [
      "torch.Size([1, 5, 64])\n",
      "torch.Size([1, 5, 64])\n",
      "torch.Size([1, 5, 64])\n"
     ]
    },
    {
     "name": "stderr",
     "output_type": "stream",
     "text": [
      "Epoch 7:   7%|▋         | 7/96 [00:00<00:10,  8.43it/s]"
     ]
    },
    {
     "name": "stdout",
     "output_type": "stream",
     "text": [
      "torch.Size([1, 5, 64])\n",
      "torch.Size([1, 5, 64])\n",
      "torch.Size([1, 5, 64])\n"
     ]
    },
    {
     "name": "stderr",
     "output_type": "stream",
     "text": [
      "Epoch 7:   8%|▊         | 8/96 [00:00<00:10,  8.18it/s]"
     ]
    },
    {
     "name": "stdout",
     "output_type": "stream",
     "text": [
      "torch.Size([1, 5, 64])\n",
      "torch.Size([1, 5, 64])\n",
      "torch.Size([1, 5, 64])\n"
     ]
    },
    {
     "name": "stderr",
     "output_type": "stream",
     "text": [
      "Epoch 7:   9%|▉         | 9/96 [00:01<00:10,  8.11it/s]"
     ]
    },
    {
     "name": "stdout",
     "output_type": "stream",
     "text": [
      "torch.Size([1, 5, 64])\n",
      "torch.Size([1, 5, 64])\n",
      "torch.Size([1, 5, 64])\n"
     ]
    },
    {
     "name": "stderr",
     "output_type": "stream",
     "text": [
      "Epoch 7:  10%|█         | 10/96 [00:01<00:10,  7.89it/s]"
     ]
    },
    {
     "name": "stdout",
     "output_type": "stream",
     "text": [
      "torch.Size([1, 5, 64])\n",
      "torch.Size([1, 5, 64])\n",
      "torch.Size([1, 5, 64])\n"
     ]
    },
    {
     "name": "stderr",
     "output_type": "stream",
     "text": [
      "Epoch 7:  11%|█▏        | 11/96 [00:01<00:10,  7.96it/s]"
     ]
    },
    {
     "name": "stdout",
     "output_type": "stream",
     "text": [
      "torch.Size([1, 5, 64])\n",
      "torch.Size([1, 5, 64])\n",
      "torch.Size([1, 5, 64])\n"
     ]
    },
    {
     "name": "stderr",
     "output_type": "stream",
     "text": [
      "Epoch 7:  12%|█▎        | 12/96 [00:01<00:10,  8.06it/s]"
     ]
    },
    {
     "name": "stdout",
     "output_type": "stream",
     "text": [
      "torch.Size([1, 5, 64])\n",
      "torch.Size([1, 5, 64])\n",
      "torch.Size([1, 5, 64])\n"
     ]
    },
    {
     "name": "stderr",
     "output_type": "stream",
     "text": [
      "Epoch 7:  14%|█▎        | 13/96 [00:01<00:10,  8.07it/s]"
     ]
    },
    {
     "name": "stdout",
     "output_type": "stream",
     "text": [
      "torch.Size([1, 5, 64])\n",
      "torch.Size([1, 5, 64])\n",
      "torch.Size([1, 5, 64])\n"
     ]
    },
    {
     "name": "stderr",
     "output_type": "stream",
     "text": [
      "Epoch 7:  15%|█▍        | 14/96 [00:01<00:10,  8.13it/s]"
     ]
    },
    {
     "name": "stdout",
     "output_type": "stream",
     "text": [
      "torch.Size([1, 5, 64])\n",
      "torch.Size([1, 5, 64])\n",
      "torch.Size([1, 5, 64])\n"
     ]
    },
    {
     "name": "stderr",
     "output_type": "stream",
     "text": [
      "Epoch 7:  16%|█▌        | 15/96 [00:01<00:10,  7.81it/s]"
     ]
    },
    {
     "name": "stdout",
     "output_type": "stream",
     "text": [
      "torch.Size([1, 5, 64])\n",
      "torch.Size([1, 5, 64])\n",
      "torch.Size([1, 5, 64])\n"
     ]
    },
    {
     "name": "stderr",
     "output_type": "stream",
     "text": [
      "Epoch 7:  17%|█▋        | 16/96 [00:01<00:10,  7.96it/s]"
     ]
    },
    {
     "name": "stdout",
     "output_type": "stream",
     "text": [
      "torch.Size([1, 5, 64])\n",
      "torch.Size([1, 5, 64])\n",
      "torch.Size([1, 5, 64])\n"
     ]
    },
    {
     "name": "stderr",
     "output_type": "stream",
     "text": [
      "Epoch 7:  18%|█▊        | 17/96 [00:02<00:09,  8.16it/s]"
     ]
    },
    {
     "name": "stdout",
     "output_type": "stream",
     "text": [
      "torch.Size([1, 5, 64])\n",
      "torch.Size([1, 5, 64])\n",
      "torch.Size([1, 5, 64])\n"
     ]
    },
    {
     "name": "stderr",
     "output_type": "stream",
     "text": [
      "Epoch 7:  19%|█▉        | 18/96 [00:02<00:09,  8.20it/s]"
     ]
    },
    {
     "name": "stdout",
     "output_type": "stream",
     "text": [
      "torch.Size([1, 5, 64])\n",
      "torch.Size([1, 5, 64])\n",
      "torch.Size([1, 5, 64])\n"
     ]
    },
    {
     "name": "stderr",
     "output_type": "stream",
     "text": [
      "Epoch 7:  20%|█▉        | 19/96 [00:02<00:09,  8.02it/s]"
     ]
    },
    {
     "name": "stdout",
     "output_type": "stream",
     "text": [
      "torch.Size([1, 5, 64])\n",
      "torch.Size([1, 5, 64])\n",
      "torch.Size([1, 5, 64])\n"
     ]
    },
    {
     "name": "stderr",
     "output_type": "stream",
     "text": [
      "Epoch 7:  21%|██        | 20/96 [00:02<00:09,  8.24it/s]"
     ]
    },
    {
     "name": "stdout",
     "output_type": "stream",
     "text": [
      "torch.Size([1, 5, 64])\n",
      "torch.Size([1, 5, 64])\n",
      "torch.Size([1, 5, 64])\n"
     ]
    },
    {
     "name": "stderr",
     "output_type": "stream",
     "text": [
      "Epoch 7:  22%|██▏       | 21/96 [00:02<00:08,  8.39it/s]"
     ]
    },
    {
     "name": "stdout",
     "output_type": "stream",
     "text": [
      "torch.Size([1, 5, 64])\n",
      "torch.Size([1, 5, 64])\n",
      "torch.Size([1, 5, 64])\n"
     ]
    },
    {
     "name": "stderr",
     "output_type": "stream",
     "text": [
      "Epoch 7:  23%|██▎       | 22/96 [00:02<00:09,  8.01it/s]"
     ]
    },
    {
     "name": "stdout",
     "output_type": "stream",
     "text": [
      "torch.Size([1, 5, 64])\n",
      "torch.Size([1, 5, 64])\n",
      "torch.Size([1, 5, 64])\n"
     ]
    },
    {
     "name": "stderr",
     "output_type": "stream",
     "text": [
      "Epoch 7:  24%|██▍       | 23/96 [00:02<00:08,  8.13it/s]"
     ]
    },
    {
     "name": "stdout",
     "output_type": "stream",
     "text": [
      "torch.Size([1, 5, 64])\n",
      "torch.Size([1, 5, 64])\n",
      "torch.Size([1, 5, 64])\n"
     ]
    },
    {
     "name": "stderr",
     "output_type": "stream",
     "text": [
      "Epoch 7:  25%|██▌       | 24/96 [00:02<00:08,  8.08it/s]"
     ]
    },
    {
     "name": "stdout",
     "output_type": "stream",
     "text": [
      "torch.Size([1, 5, 64])\n",
      "torch.Size([1, 5, 64])\n",
      "torch.Size([1, 5, 64])\n"
     ]
    },
    {
     "name": "stderr",
     "output_type": "stream",
     "text": [
      "Epoch 7:  26%|██▌       | 25/96 [00:03<00:08,  8.03it/s]"
     ]
    },
    {
     "name": "stdout",
     "output_type": "stream",
     "text": [
      "torch.Size([1, 5, 64])\n",
      "torch.Size([1, 5, 64])\n",
      "torch.Size([1, 5, 64])\n"
     ]
    },
    {
     "name": "stderr",
     "output_type": "stream",
     "text": [
      "Epoch 7:  27%|██▋       | 26/96 [00:03<00:08,  7.92it/s]"
     ]
    },
    {
     "name": "stdout",
     "output_type": "stream",
     "text": [
      "torch.Size([1, 5, 64])\n",
      "torch.Size([1, 5, 64])\n",
      "torch.Size([1, 5, 64])\n"
     ]
    },
    {
     "name": "stderr",
     "output_type": "stream",
     "text": [
      "Epoch 7:  28%|██▊       | 27/96 [00:03<00:08,  8.09it/s]"
     ]
    },
    {
     "name": "stdout",
     "output_type": "stream",
     "text": [
      "torch.Size([1, 5, 64])\n",
      "torch.Size([1, 5, 64])\n",
      "torch.Size([1, 5, 64])\n"
     ]
    },
    {
     "name": "stderr",
     "output_type": "stream",
     "text": [
      "Epoch 7:  29%|██▉       | 28/96 [00:03<00:08,  7.84it/s]"
     ]
    },
    {
     "name": "stdout",
     "output_type": "stream",
     "text": [
      "torch.Size([1, 5, 64])\n",
      "torch.Size([1, 5, 64])\n",
      "torch.Size([1, 5, 64])\n"
     ]
    },
    {
     "name": "stderr",
     "output_type": "stream",
     "text": [
      "Epoch 7:  30%|███       | 29/96 [00:03<00:08,  8.09it/s]"
     ]
    },
    {
     "name": "stdout",
     "output_type": "stream",
     "text": [
      "torch.Size([1, 5, 64])\n",
      "torch.Size([1, 5, 64])\n",
      "torch.Size([1, 5, 64])\n"
     ]
    },
    {
     "name": "stderr",
     "output_type": "stream",
     "text": [
      "Epoch 7:  31%|███▏      | 30/96 [00:03<00:07,  8.33it/s]"
     ]
    },
    {
     "name": "stdout",
     "output_type": "stream",
     "text": [
      "torch.Size([1, 5, 64])\n",
      "torch.Size([1, 5, 64])\n",
      "torch.Size([1, 5, 64])\n"
     ]
    },
    {
     "name": "stderr",
     "output_type": "stream",
     "text": [
      "Epoch 7:  32%|███▏      | 31/96 [00:03<00:07,  8.34it/s]"
     ]
    },
    {
     "name": "stdout",
     "output_type": "stream",
     "text": [
      "torch.Size([1, 5, 64])\n",
      "torch.Size([1, 5, 64])\n",
      "torch.Size([1, 5, 64])\n"
     ]
    },
    {
     "name": "stderr",
     "output_type": "stream",
     "text": [
      "Epoch 7:  33%|███▎      | 32/96 [00:03<00:07,  8.41it/s]"
     ]
    },
    {
     "name": "stdout",
     "output_type": "stream",
     "text": [
      "torch.Size([1, 5, 64])\n",
      "torch.Size([1, 5, 64])\n",
      "torch.Size([1, 5, 64])\n"
     ]
    },
    {
     "name": "stderr",
     "output_type": "stream",
     "text": [
      "Epoch 7:  34%|███▍      | 33/96 [00:04<00:07,  8.41it/s]"
     ]
    },
    {
     "name": "stdout",
     "output_type": "stream",
     "text": [
      "torch.Size([1, 5, 64])\n",
      "torch.Size([1, 5, 64])\n",
      "torch.Size([1, 5, 64])\n"
     ]
    },
    {
     "name": "stderr",
     "output_type": "stream",
     "text": [
      "Epoch 7:  35%|███▌      | 34/96 [00:04<00:07,  8.42it/s]"
     ]
    },
    {
     "name": "stdout",
     "output_type": "stream",
     "text": [
      "torch.Size([1, 5, 64])\n",
      "torch.Size([1, 5, 64])\n",
      "torch.Size([1, 5, 64])\n"
     ]
    },
    {
     "name": "stderr",
     "output_type": "stream",
     "text": [
      "Epoch 7:  36%|███▋      | 35/96 [00:04<00:07,  8.63it/s]"
     ]
    },
    {
     "name": "stdout",
     "output_type": "stream",
     "text": [
      "torch.Size([1, 5, 64])\n",
      "torch.Size([1, 5, 64])\n",
      "torch.Size([1, 5, 64])\n"
     ]
    },
    {
     "name": "stderr",
     "output_type": "stream",
     "text": [
      "Epoch 7:  38%|███▊      | 36/96 [00:04<00:06,  8.66it/s]"
     ]
    },
    {
     "name": "stdout",
     "output_type": "stream",
     "text": [
      "torch.Size([1, 5, 64])\n",
      "torch.Size([1, 5, 64])\n",
      "torch.Size([1, 5, 64])\n"
     ]
    },
    {
     "name": "stderr",
     "output_type": "stream",
     "text": [
      "Epoch 7:  39%|███▊      | 37/96 [00:04<00:06,  8.62it/s]"
     ]
    },
    {
     "name": "stdout",
     "output_type": "stream",
     "text": [
      "torch.Size([1, 5, 64])\n",
      "torch.Size([1, 5, 64])\n",
      "torch.Size([1, 5, 64])\n"
     ]
    },
    {
     "name": "stderr",
     "output_type": "stream",
     "text": [
      "Epoch 7:  40%|███▉      | 38/96 [00:04<00:06,  8.38it/s]"
     ]
    },
    {
     "name": "stdout",
     "output_type": "stream",
     "text": [
      "torch.Size([1, 5, 64])\n",
      "torch.Size([1, 5, 64])\n",
      "torch.Size([1, 5, 64])\n"
     ]
    },
    {
     "name": "stderr",
     "output_type": "stream",
     "text": [
      "Epoch 7:  41%|████      | 39/96 [00:04<00:06,  8.52it/s]"
     ]
    },
    {
     "name": "stdout",
     "output_type": "stream",
     "text": [
      "torch.Size([1, 5, 64])\n",
      "torch.Size([1, 5, 64])\n",
      "torch.Size([1, 5, 64])\n"
     ]
    },
    {
     "name": "stderr",
     "output_type": "stream",
     "text": [
      "Epoch 7:  42%|████▏     | 40/96 [00:04<00:06,  8.48it/s]"
     ]
    },
    {
     "name": "stdout",
     "output_type": "stream",
     "text": [
      "torch.Size([1, 5, 64])\n",
      "torch.Size([1, 5, 64])\n",
      "torch.Size([1, 5, 64])\n"
     ]
    },
    {
     "name": "stderr",
     "output_type": "stream",
     "text": [
      "Epoch 7:  43%|████▎     | 41/96 [00:04<00:06,  8.41it/s]"
     ]
    },
    {
     "name": "stdout",
     "output_type": "stream",
     "text": [
      "torch.Size([1, 5, 64])\n",
      "torch.Size([1, 5, 64])\n",
      "torch.Size([1, 5, 64])\n"
     ]
    },
    {
     "name": "stderr",
     "output_type": "stream",
     "text": [
      "Epoch 7:  44%|████▍     | 42/96 [00:05<00:06,  8.18it/s]"
     ]
    },
    {
     "name": "stdout",
     "output_type": "stream",
     "text": [
      "torch.Size([1, 5, 64])\n",
      "torch.Size([1, 5, 64])\n",
      "torch.Size([1, 5, 64])\n"
     ]
    },
    {
     "name": "stderr",
     "output_type": "stream",
     "text": [
      "Epoch 7:  45%|████▍     | 43/96 [00:05<00:06,  8.23it/s]"
     ]
    },
    {
     "name": "stdout",
     "output_type": "stream",
     "text": [
      "torch.Size([1, 5, 64])\n",
      "torch.Size([1, 5, 64])\n",
      "torch.Size([1, 5, 64])\n"
     ]
    },
    {
     "name": "stderr",
     "output_type": "stream",
     "text": [
      "Epoch 7:  46%|████▌     | 44/96 [00:05<00:06,  8.01it/s]"
     ]
    },
    {
     "name": "stdout",
     "output_type": "stream",
     "text": [
      "torch.Size([1, 5, 64])\n",
      "torch.Size([1, 5, 64])\n",
      "torch.Size([1, 5, 64])\n"
     ]
    },
    {
     "name": "stderr",
     "output_type": "stream",
     "text": [
      "Epoch 7:  47%|████▋     | 45/96 [00:05<00:06,  8.24it/s]"
     ]
    },
    {
     "name": "stdout",
     "output_type": "stream",
     "text": [
      "torch.Size([1, 5, 64])\n",
      "torch.Size([1, 5, 64])\n",
      "torch.Size([1, 5, 64])\n"
     ]
    },
    {
     "name": "stderr",
     "output_type": "stream",
     "text": [
      "Epoch 7:  48%|████▊     | 46/96 [00:05<00:05,  8.39it/s]"
     ]
    },
    {
     "name": "stdout",
     "output_type": "stream",
     "text": [
      "torch.Size([1, 5, 64])\n",
      "torch.Size([1, 5, 64])\n",
      "torch.Size([1, 5, 64])\n"
     ]
    },
    {
     "name": "stderr",
     "output_type": "stream",
     "text": [
      "Epoch 7:  49%|████▉     | 47/96 [00:05<00:05,  8.39it/s]"
     ]
    },
    {
     "name": "stdout",
     "output_type": "stream",
     "text": [
      "torch.Size([1, 5, 64])\n",
      "torch.Size([1, 5, 64])\n",
      "torch.Size([1, 5, 64])\n"
     ]
    },
    {
     "name": "stderr",
     "output_type": "stream",
     "text": [
      "Epoch 7:  50%|█████     | 48/96 [00:05<00:05,  8.51it/s]"
     ]
    },
    {
     "name": "stdout",
     "output_type": "stream",
     "text": [
      "torch.Size([1, 5, 64])\n",
      "torch.Size([1, 5, 64])\n",
      "torch.Size([1, 5, 64])\n"
     ]
    },
    {
     "name": "stderr",
     "output_type": "stream",
     "text": [
      "Epoch 7:  51%|█████     | 49/96 [00:05<00:05,  7.84it/s]"
     ]
    },
    {
     "name": "stdout",
     "output_type": "stream",
     "text": [
      "torch.Size([1, 5, 64])\n",
      "torch.Size([1, 5, 64])\n",
      "torch.Size([1, 5, 64])\n"
     ]
    },
    {
     "name": "stderr",
     "output_type": "stream",
     "text": [
      "Epoch 7:  52%|█████▏    | 50/96 [00:06<00:05,  7.90it/s]"
     ]
    },
    {
     "name": "stdout",
     "output_type": "stream",
     "text": [
      "torch.Size([1, 5, 64])\n",
      "torch.Size([1, 5, 64])\n",
      "torch.Size([1, 5, 64])\n"
     ]
    },
    {
     "name": "stderr",
     "output_type": "stream",
     "text": [
      "Epoch 7:  53%|█████▎    | 51/96 [00:06<00:05,  8.07it/s]"
     ]
    },
    {
     "name": "stdout",
     "output_type": "stream",
     "text": [
      "torch.Size([1, 5, 64])\n",
      "torch.Size([1, 5, 64])\n",
      "torch.Size([1, 5, 64])\n"
     ]
    },
    {
     "name": "stderr",
     "output_type": "stream",
     "text": [
      "Epoch 7:  54%|█████▍    | 52/96 [00:06<00:05,  8.09it/s]"
     ]
    },
    {
     "name": "stdout",
     "output_type": "stream",
     "text": [
      "torch.Size([1, 5, 64])\n",
      "torch.Size([1, 5, 64])\n",
      "torch.Size([1, 5, 64])\n"
     ]
    },
    {
     "name": "stderr",
     "output_type": "stream",
     "text": [
      "Epoch 7:  55%|█████▌    | 53/96 [00:06<00:05,  7.75it/s]"
     ]
    },
    {
     "name": "stdout",
     "output_type": "stream",
     "text": [
      "torch.Size([1, 5, 64])\n",
      "torch.Size([1, 5, 64])\n",
      "torch.Size([1, 5, 64])\n"
     ]
    },
    {
     "name": "stderr",
     "output_type": "stream",
     "text": [
      "Epoch 7:  56%|█████▋    | 54/96 [00:06<00:05,  7.98it/s]"
     ]
    },
    {
     "name": "stdout",
     "output_type": "stream",
     "text": [
      "torch.Size([1, 5, 64])\n",
      "torch.Size([1, 5, 64])\n",
      "torch.Size([1, 5, 64])\n"
     ]
    },
    {
     "name": "stderr",
     "output_type": "stream",
     "text": [
      "Epoch 7:  57%|█████▋    | 55/96 [00:06<00:04,  8.20it/s]"
     ]
    },
    {
     "name": "stdout",
     "output_type": "stream",
     "text": [
      "torch.Size([1, 5, 64])\n",
      "torch.Size([1, 5, 64])\n",
      "torch.Size([1, 5, 64])\n"
     ]
    },
    {
     "name": "stderr",
     "output_type": "stream",
     "text": [
      "Epoch 7:  58%|█████▊    | 56/96 [00:06<00:04,  8.33it/s]"
     ]
    },
    {
     "name": "stdout",
     "output_type": "stream",
     "text": [
      "torch.Size([1, 5, 64])\n",
      "torch.Size([1, 5, 64])\n",
      "torch.Size([1, 5, 64])\n"
     ]
    },
    {
     "name": "stderr",
     "output_type": "stream",
     "text": [
      "Epoch 7:  59%|█████▉    | 57/96 [00:06<00:04,  8.54it/s]"
     ]
    },
    {
     "name": "stdout",
     "output_type": "stream",
     "text": [
      "torch.Size([1, 5, 64])\n",
      "torch.Size([1, 5, 64])\n",
      "torch.Size([1, 5, 64])\n"
     ]
    },
    {
     "name": "stderr",
     "output_type": "stream",
     "text": [
      "Epoch 7:  60%|██████    | 58/96 [00:07<00:04,  8.57it/s]"
     ]
    },
    {
     "name": "stdout",
     "output_type": "stream",
     "text": [
      "torch.Size([1, 5, 64])\n",
      "torch.Size([1, 5, 64])\n",
      "torch.Size([1, 5, 64])\n"
     ]
    },
    {
     "name": "stderr",
     "output_type": "stream",
     "text": [
      "Epoch 7:  61%|██████▏   | 59/96 [00:07<00:04,  8.42it/s]"
     ]
    },
    {
     "name": "stdout",
     "output_type": "stream",
     "text": [
      "torch.Size([1, 5, 64])\n",
      "torch.Size([1, 5, 64])\n",
      "torch.Size([1, 5, 64])\n"
     ]
    },
    {
     "name": "stderr",
     "output_type": "stream",
     "text": [
      "Epoch 7:  62%|██████▎   | 60/96 [00:07<00:04,  8.15it/s]"
     ]
    },
    {
     "name": "stdout",
     "output_type": "stream",
     "text": [
      "torch.Size([1, 5, 64])\n",
      "torch.Size([1, 5, 64])\n",
      "torch.Size([1, 5, 64])\n"
     ]
    },
    {
     "name": "stderr",
     "output_type": "stream",
     "text": [
      "Epoch 7:  64%|██████▎   | 61/96 [00:07<00:04,  8.34it/s]"
     ]
    },
    {
     "name": "stdout",
     "output_type": "stream",
     "text": [
      "torch.Size([1, 5, 64])\n",
      "torch.Size([1, 5, 64])\n",
      "torch.Size([1, 5, 64])\n"
     ]
    },
    {
     "name": "stderr",
     "output_type": "stream",
     "text": [
      "Epoch 7:  65%|██████▍   | 62/96 [00:07<00:04,  7.86it/s]"
     ]
    },
    {
     "name": "stdout",
     "output_type": "stream",
     "text": [
      "torch.Size([1, 5, 64])\n",
      "torch.Size([1, 5, 64])\n",
      "torch.Size([1, 5, 64])\n"
     ]
    },
    {
     "name": "stderr",
     "output_type": "stream",
     "text": [
      "Epoch 7:  66%|██████▌   | 63/96 [00:07<00:04,  7.73it/s]"
     ]
    },
    {
     "name": "stdout",
     "output_type": "stream",
     "text": [
      "torch.Size([1, 5, 64])\n",
      "torch.Size([1, 5, 64])\n",
      "torch.Size([1, 5, 64])\n"
     ]
    },
    {
     "name": "stderr",
     "output_type": "stream",
     "text": [
      "Epoch 7:  67%|██████▋   | 64/96 [00:07<00:03,  8.02it/s]"
     ]
    },
    {
     "name": "stdout",
     "output_type": "stream",
     "text": [
      "torch.Size([1, 5, 64])\n",
      "torch.Size([1, 5, 64])\n",
      "torch.Size([1, 5, 64])\n"
     ]
    },
    {
     "name": "stderr",
     "output_type": "stream",
     "text": [
      "Epoch 7:  68%|██████▊   | 65/96 [00:07<00:03,  8.10it/s]"
     ]
    },
    {
     "name": "stdout",
     "output_type": "stream",
     "text": [
      "torch.Size([1, 5, 64])\n",
      "torch.Size([1, 5, 64])\n",
      "torch.Size([1, 5, 64])\n"
     ]
    },
    {
     "name": "stderr",
     "output_type": "stream",
     "text": [
      "Epoch 7:  69%|██████▉   | 66/96 [00:08<00:03,  8.00it/s]"
     ]
    },
    {
     "name": "stdout",
     "output_type": "stream",
     "text": [
      "torch.Size([1, 5, 64])\n",
      "torch.Size([1, 5, 64])\n",
      "torch.Size([1, 5, 64])\n"
     ]
    },
    {
     "name": "stderr",
     "output_type": "stream",
     "text": [
      "Epoch 7:  70%|██████▉   | 67/96 [00:08<00:03,  8.10it/s]"
     ]
    },
    {
     "name": "stdout",
     "output_type": "stream",
     "text": [
      "torch.Size([1, 5, 64])\n",
      "torch.Size([1, 5, 64])\n",
      "torch.Size([1, 5, 64])\n"
     ]
    },
    {
     "name": "stderr",
     "output_type": "stream",
     "text": [
      "Epoch 7:  71%|███████   | 68/96 [00:08<00:03,  8.10it/s]"
     ]
    },
    {
     "name": "stdout",
     "output_type": "stream",
     "text": [
      "torch.Size([1, 5, 64])\n",
      "torch.Size([1, 5, 64])\n",
      "torch.Size([1, 5, 64])\n"
     ]
    },
    {
     "name": "stderr",
     "output_type": "stream",
     "text": [
      "Epoch 7:  72%|███████▏  | 69/96 [00:08<00:03,  7.55it/s]"
     ]
    },
    {
     "name": "stdout",
     "output_type": "stream",
     "text": [
      "torch.Size([1, 5, 64])\n",
      "torch.Size([1, 5, 64])\n",
      "torch.Size([1, 5, 64])\n"
     ]
    },
    {
     "name": "stderr",
     "output_type": "stream",
     "text": [
      "Epoch 7:  73%|███████▎  | 70/96 [00:08<00:03,  7.65it/s]"
     ]
    },
    {
     "name": "stdout",
     "output_type": "stream",
     "text": [
      "torch.Size([1, 5, 64])\n",
      "torch.Size([1, 5, 64])\n",
      "torch.Size([1, 5, 64])\n"
     ]
    },
    {
     "name": "stderr",
     "output_type": "stream",
     "text": [
      "Epoch 7:  74%|███████▍  | 71/96 [00:08<00:03,  7.19it/s]"
     ]
    },
    {
     "name": "stdout",
     "output_type": "stream",
     "text": [
      "torch.Size([1, 5, 64])\n",
      "torch.Size([1, 5, 64])\n",
      "torch.Size([1, 5, 64])\n"
     ]
    },
    {
     "name": "stderr",
     "output_type": "stream",
     "text": [
      "Epoch 7:  75%|███████▌  | 72/96 [00:08<00:03,  6.61it/s]"
     ]
    },
    {
     "name": "stdout",
     "output_type": "stream",
     "text": [
      "torch.Size([1, 5, 64])\n",
      "torch.Size([1, 5, 64])\n",
      "torch.Size([1, 5, 64])\n"
     ]
    },
    {
     "name": "stderr",
     "output_type": "stream",
     "text": [
      "Epoch 7:  76%|███████▌  | 73/96 [00:09<00:04,  5.72it/s]"
     ]
    },
    {
     "name": "stdout",
     "output_type": "stream",
     "text": [
      "torch.Size([1, 5, 64])\n",
      "torch.Size([1, 5, 64])\n",
      "torch.Size([1, 5, 64])\n"
     ]
    },
    {
     "name": "stderr",
     "output_type": "stream",
     "text": [
      "Epoch 7:  78%|███████▊  | 75/96 [00:09<00:04,  5.22it/s]"
     ]
    },
    {
     "name": "stdout",
     "output_type": "stream",
     "text": [
      "torch.Size([1, 5, 64])\n",
      "torch.Size([1, 5, 64])\n",
      "torch.Size([1, 5, 64])\n"
     ]
    },
    {
     "name": "stderr",
     "output_type": "stream",
     "text": [
      "Epoch 7:  79%|███████▉  | 76/96 [00:09<00:03,  5.24it/s]"
     ]
    },
    {
     "name": "stdout",
     "output_type": "stream",
     "text": [
      "torch.Size([1, 5, 64])\n",
      "torch.Size([1, 5, 64])\n",
      "torch.Size([1, 5, 64])\n",
      "torch.Size([1, 5, 64])\n",
      "torch.Size([1, 5, 64])\n",
      "torch.Size([1, 5, 64])\n"
     ]
    },
    {
     "name": "stderr",
     "output_type": "stream",
     "text": [
      "Epoch 7:  81%|████████▏ | 78/96 [00:10<00:03,  5.50it/s]"
     ]
    },
    {
     "name": "stdout",
     "output_type": "stream",
     "text": [
      "torch.Size([1, 5, 64])\n",
      "torch.Size([1, 5, 64])\n",
      "torch.Size([1, 5, 64])\n",
      "torch.Size([1, 5, 64])\n",
      "torch.Size([1, 5, 64])\n",
      "torch.Size([1, 5, 64])\n"
     ]
    },
    {
     "name": "stderr",
     "output_type": "stream",
     "text": [
      "Epoch 7:  83%|████████▎ | 80/96 [00:10<00:02,  5.71it/s]"
     ]
    },
    {
     "name": "stdout",
     "output_type": "stream",
     "text": [
      "torch.Size([1, 5, 64])\n",
      "torch.Size([1, 5, 64])\n",
      "torch.Size([1, 5, 64])\n"
     ]
    },
    {
     "name": "stderr",
     "output_type": "stream",
     "text": [
      "Epoch 7:  84%|████████▍ | 81/96 [00:10<00:02,  5.65it/s]"
     ]
    },
    {
     "name": "stdout",
     "output_type": "stream",
     "text": [
      "torch.Size([1, 5, 64])\n",
      "torch.Size([1, 5, 64])\n",
      "torch.Size([1, 5, 64])\n",
      "torch.Size([1, 5, 64])\n",
      "torch.Size([1, 5, 64])\n",
      "torch.Size([1, 5, 64])\n"
     ]
    },
    {
     "name": "stderr",
     "output_type": "stream",
     "text": [
      "Epoch 7:  86%|████████▋ | 83/96 [00:10<00:02,  5.40it/s]"
     ]
    },
    {
     "name": "stdout",
     "output_type": "stream",
     "text": [
      "torch.Size([1, 5, 64])\n",
      "torch.Size([1, 5, 64])\n",
      "torch.Size([1, 5, 64])\n"
     ]
    },
    {
     "name": "stderr",
     "output_type": "stream",
     "text": [
      "Epoch 7:  88%|████████▊ | 84/96 [00:11<00:02,  5.70it/s]"
     ]
    },
    {
     "name": "stdout",
     "output_type": "stream",
     "text": [
      "torch.Size([1, 5, 64])\n",
      "torch.Size([1, 5, 64])\n",
      "torch.Size([1, 5, 64])\n",
      "torch.Size([1, 5, 64])\n",
      "torch.Size([1, 5, 64])\n",
      "torch.Size([1, 5, 64])\n"
     ]
    },
    {
     "name": "stderr",
     "output_type": "stream",
     "text": [
      "Epoch 7:  90%|████████▉ | 86/96 [00:11<00:01,  5.53it/s]"
     ]
    },
    {
     "name": "stdout",
     "output_type": "stream",
     "text": [
      "torch.Size([1, 5, 64])\n",
      "torch.Size([1, 5, 64])\n",
      "torch.Size([1, 5, 64])\n",
      "torch.Size([1, 5, 64])\n",
      "torch.Size([1, 5, 64])\n",
      "torch.Size([1, 5, 64])\n"
     ]
    },
    {
     "name": "stderr",
     "output_type": "stream",
     "text": [
      "Epoch 7:  91%|█████████ | 87/96 [00:11<00:01,  5.38it/s]"
     ]
    },
    {
     "name": "stdout",
     "output_type": "stream",
     "text": [
      "torch.Size([1, 5, 64])\n",
      "torch.Size([1, 5, 64])\n",
      "torch.Size([1, 5, 64])\n"
     ]
    },
    {
     "name": "stderr",
     "output_type": "stream",
     "text": [
      "Epoch 7:  93%|█████████▎| 89/96 [00:12<00:01,  5.44it/s]"
     ]
    },
    {
     "name": "stdout",
     "output_type": "stream",
     "text": [
      "torch.Size([1, 5, 64])\n",
      "torch.Size([1, 5, 64])\n",
      "torch.Size([1, 5, 64])\n",
      "torch.Size([1, 5, 64])\n",
      "torch.Size([1, 5, 64])\n",
      "torch.Size([1, 5, 64])\n"
     ]
    },
    {
     "name": "stderr",
     "output_type": "stream",
     "text": [
      "Epoch 7:  95%|█████████▍| 91/96 [00:12<00:00,  5.51it/s]"
     ]
    },
    {
     "name": "stdout",
     "output_type": "stream",
     "text": [
      "torch.Size([1, 5, 64])\n",
      "torch.Size([1, 5, 64])\n",
      "torch.Size([1, 5, 64])\n"
     ]
    },
    {
     "name": "stderr",
     "output_type": "stream",
     "text": [
      "Epoch 7:  96%|█████████▌| 92/96 [00:12<00:00,  5.66it/s]"
     ]
    },
    {
     "name": "stdout",
     "output_type": "stream",
     "text": [
      "torch.Size([1, 5, 64])\n",
      "torch.Size([1, 5, 64])\n",
      "torch.Size([1, 5, 64])\n",
      "torch.Size([1, 5, 64])\n",
      "torch.Size([1, 5, 64])\n",
      "torch.Size([1, 5, 64])\n"
     ]
    },
    {
     "name": "stderr",
     "output_type": "stream",
     "text": [
      "Epoch 7:  98%|█████████▊| 94/96 [00:13<00:00,  5.36it/s]"
     ]
    },
    {
     "name": "stdout",
     "output_type": "stream",
     "text": [
      "torch.Size([1, 5, 64])\n",
      "torch.Size([1, 5, 64])\n",
      "torch.Size([1, 5, 64])\n",
      "torch.Size([1, 5, 64])\n",
      "torch.Size([1, 5, 64])\n",
      "torch.Size([1, 5, 64])\n"
     ]
    },
    {
     "name": "stderr",
     "output_type": "stream",
     "text": [
      "                                                        \r"
     ]
    },
    {
     "name": "stdout",
     "output_type": "stream",
     "text": [
      "torch.Size([1, 5, 64])\n",
      "torch.Size([1, 5, 64])\n",
      "torch.Size([1, 5, 64])\n"
     ]
    },
    {
     "name": "stderr",
     "output_type": "stream",
     "text": [
      "Epoch 8:   0%|          | 0/96 [00:00<?, ?it/s]"
     ]
    },
    {
     "name": "stdout",
     "output_type": "stream",
     "text": [
      "torch.Size([1, 5, 64])"
     ]
    },
    {
     "name": "stderr",
     "output_type": "stream",
     "text": [
      "Epoch 8:   1%|          | 1/96 [00:00<00:16,  5.60it/s]"
     ]
    },
    {
     "name": "stdout",
     "output_type": "stream",
     "text": [
      "\n",
      "torch.Size([1, 5, 64])\n",
      "torch.Size([1, 5, 64])\n",
      "torch.Size([1, 5, 64])\n",
      "torch.Size([1, 5, 64])\n",
      "torch.Size([1, 5, 64])\n"
     ]
    },
    {
     "name": "stderr",
     "output_type": "stream",
     "text": [
      "Epoch 8:   3%|▎         | 3/96 [00:00<00:16,  5.73it/s]"
     ]
    },
    {
     "name": "stdout",
     "output_type": "stream",
     "text": [
      "torch.Size([1, 5, 64])\n",
      "torch.Size([1, 5, 64])\n",
      "torch.Size([1, 5, 64])\n",
      "torch.Size([1, 5, 64])\n",
      "torch.Size([1, 5, 64])\n",
      "torch.Size([1, 5, 64])\n"
     ]
    },
    {
     "name": "stderr",
     "output_type": "stream",
     "text": [
      "Epoch 8:   5%|▌         | 5/96 [00:00<00:16,  5.42it/s]"
     ]
    },
    {
     "name": "stdout",
     "output_type": "stream",
     "text": [
      "torch.Size([1, 5, 64])\n",
      "torch.Size([1, 5, 64])\n",
      "torch.Size([1, 5, 64])\n"
     ]
    },
    {
     "name": "stderr",
     "output_type": "stream",
     "text": [
      "Epoch 8:   6%|▋         | 6/96 [00:01<00:16,  5.43it/s]"
     ]
    },
    {
     "name": "stdout",
     "output_type": "stream",
     "text": [
      "torch.Size([1, 5, 64])\n",
      "torch.Size([1, 5, 64])\n",
      "torch.Size([1, 5, 64])\n"
     ]
    },
    {
     "name": "stderr",
     "output_type": "stream",
     "text": [
      "Epoch 8:   7%|▋         | 7/96 [00:01<00:16,  5.33it/s]"
     ]
    },
    {
     "name": "stdout",
     "output_type": "stream",
     "text": [
      "torch.Size([1, 5, 64])\n",
      "torch.Size([1, 5, 64])\n",
      "torch.Size([1, 5, 64])\n"
     ]
    },
    {
     "name": "stderr",
     "output_type": "stream",
     "text": [
      "Epoch 8:   8%|▊         | 8/96 [00:01<00:15,  5.56it/s]"
     ]
    },
    {
     "name": "stdout",
     "output_type": "stream",
     "text": [
      "torch.Size([1, 5, 64])\n",
      "torch.Size([1, 5, 64])\n",
      "torch.Size([1, 5, 64])\n",
      "torch.Size([1, 5, 64])\n",
      "torch.Size([1, 5, 64])\n",
      "torch.Size([1, 5, 64])\n"
     ]
    },
    {
     "name": "stderr",
     "output_type": "stream",
     "text": [
      "Epoch 8:  10%|█         | 10/96 [00:01<00:15,  5.59it/s]"
     ]
    },
    {
     "name": "stdout",
     "output_type": "stream",
     "text": [
      "torch.Size([1, 5, 64])\n",
      "torch.Size([1, 5, 64])\n",
      "torch.Size([1, 5, 64])\n",
      "torch.Size([1, 5, 64])\n",
      "torch.Size([1, 5, 64])\n",
      "torch.Size([1, 5, 64])\n"
     ]
    },
    {
     "name": "stderr",
     "output_type": "stream",
     "text": [
      "Epoch 8:  12%|█▎        | 12/96 [00:02<00:15,  5.41it/s]"
     ]
    },
    {
     "name": "stdout",
     "output_type": "stream",
     "text": [
      "torch.Size([1, 5, 64])\n",
      "torch.Size([1, 5, 64])\n",
      "torch.Size([1, 5, 64])\n",
      "torch.Size([1, 5, 64])\n",
      "torch.Size([1, 5, 64])\n",
      "torch.Size([1, 5, 64])\n"
     ]
    },
    {
     "name": "stderr",
     "output_type": "stream",
     "text": [
      "Epoch 8:  15%|█▍        | 14/96 [00:02<00:14,  5.75it/s]"
     ]
    },
    {
     "name": "stdout",
     "output_type": "stream",
     "text": [
      "torch.Size([1, 5, 64])\n",
      "torch.Size([1, 5, 64])\n",
      "torch.Size([1, 5, 64])\n",
      "torch.Size([1, 5, 64])\n",
      "torch.Size([1, 5, 64])\n",
      "torch.Size([1, 5, 64])\n"
     ]
    },
    {
     "name": "stderr",
     "output_type": "stream",
     "text": [
      "Epoch 8:  17%|█▋        | 16/96 [00:02<00:14,  5.40it/s]"
     ]
    },
    {
     "name": "stdout",
     "output_type": "stream",
     "text": [
      "torch.Size([1, 5, 64])\n",
      "torch.Size([1, 5, 64])\n",
      "torch.Size([1, 5, 64])\n"
     ]
    },
    {
     "name": "stderr",
     "output_type": "stream",
     "text": [
      "Epoch 8:  18%|█▊        | 17/96 [00:03<00:14,  5.41it/s]"
     ]
    },
    {
     "name": "stdout",
     "output_type": "stream",
     "text": [
      "torch.Size([1, 5, 64])\n",
      "torch.Size([1, 5, 64])\n",
      "torch.Size([1, 5, 64])\n",
      "torch.Size([1, 5, 64])\n",
      "torch.Size([1, 5, 64])\n",
      "torch.Size([1, 5, 64])\n"
     ]
    },
    {
     "name": "stderr",
     "output_type": "stream",
     "text": [
      "Epoch 8:  20%|█▉        | 19/96 [00:03<00:14,  5.38it/s]"
     ]
    },
    {
     "name": "stdout",
     "output_type": "stream",
     "text": [
      "torch.Size([1, 5, 64])\n",
      "torch.Size([1, 5, 64])\n",
      "torch.Size([1, 5, 64])\n"
     ]
    },
    {
     "name": "stderr",
     "output_type": "stream",
     "text": [
      "Epoch 8:  21%|██        | 20/96 [00:03<00:13,  5.44it/s]"
     ]
    },
    {
     "name": "stdout",
     "output_type": "stream",
     "text": [
      "torch.Size([1, 5, 64])\n",
      "torch.Size([1, 5, 64])\n",
      "torch.Size([1, 5, 64])\n",
      "torch.Size([1, 5, 64])\n",
      "torch.Size([1, 5, 64])\n",
      "torch.Size([1, 5, 64])\n"
     ]
    },
    {
     "name": "stderr",
     "output_type": "stream",
     "text": [
      "Epoch 8:  23%|██▎       | 22/96 [00:03<00:12,  5.86it/s]"
     ]
    },
    {
     "name": "stdout",
     "output_type": "stream",
     "text": [
      "torch.Size([1, 5, 64])\n",
      "torch.Size([1, 5, 64])\n",
      "torch.Size([1, 5, 64])\n",
      "torch.Size([1, 5, 64])\n",
      "torch.Size([1, 5, 64])\n",
      "torch.Size([1, 5, 64])\n"
     ]
    },
    {
     "name": "stderr",
     "output_type": "stream",
     "text": [
      "Epoch 8:  24%|██▍       | 23/96 [00:04<00:13,  5.31it/s]"
     ]
    },
    {
     "name": "stdout",
     "output_type": "stream",
     "text": [
      "torch.Size([1, 5, 64])\n",
      "torch.Size([1, 5, 64])\n",
      "torch.Size([1, 5, 64])\n"
     ]
    },
    {
     "name": "stderr",
     "output_type": "stream",
     "text": [
      "Epoch 8:  26%|██▌       | 25/96 [00:04<00:13,  5.18it/s]"
     ]
    },
    {
     "name": "stdout",
     "output_type": "stream",
     "text": [
      "torch.Size([1, 5, 64])\n",
      "torch.Size([1, 5, 64])\n",
      "torch.Size([1, 5, 64])\n",
      "torch.Size([1, 5, 64])\n",
      "torch.Size([1, 5, 64])\n",
      "torch.Size([1, 5, 64])\n"
     ]
    },
    {
     "name": "stderr",
     "output_type": "stream",
     "text": [
      "Epoch 8:  28%|██▊       | 27/96 [00:05<00:13,  4.97it/s]"
     ]
    },
    {
     "name": "stdout",
     "output_type": "stream",
     "text": [
      "torch.Size([1, 5, 64])\n",
      "torch.Size([1, 5, 64])\n",
      "torch.Size([1, 5, 64])\n"
     ]
    },
    {
     "name": "stderr",
     "output_type": "stream",
     "text": [
      "Epoch 8:  29%|██▉       | 28/96 [00:05<00:13,  5.04it/s]"
     ]
    },
    {
     "name": "stdout",
     "output_type": "stream",
     "text": [
      "torch.Size([1, 5, 64])\n",
      "torch.Size([1, 5, 64])\n",
      "torch.Size([1, 5, 64])\n"
     ]
    },
    {
     "name": "stderr",
     "output_type": "stream",
     "text": [
      "Epoch 8:  30%|███       | 29/96 [00:05<00:13,  5.13it/s]"
     ]
    },
    {
     "name": "stdout",
     "output_type": "stream",
     "text": [
      "torch.Size([1, 5, 64])\n",
      "torch.Size([1, 5, 64])\n",
      "torch.Size([1, 5, 64])\n"
     ]
    },
    {
     "name": "stderr",
     "output_type": "stream",
     "text": [
      "Epoch 8:  31%|███▏      | 30/96 [00:05<00:12,  5.17it/s]"
     ]
    },
    {
     "name": "stdout",
     "output_type": "stream",
     "text": [
      "torch.Size([1, 5, 64])\n",
      "torch.Size([1, 5, 64])\n",
      "torch.Size([1, 5, 64])\n"
     ]
    },
    {
     "name": "stderr",
     "output_type": "stream",
     "text": [
      "Epoch 8:  32%|███▏      | 31/96 [00:05<00:12,  5.15it/s]"
     ]
    },
    {
     "name": "stdout",
     "output_type": "stream",
     "text": [
      "torch.Size([1, 5, 64])\n",
      "torch.Size([1, 5, 64])\n",
      "torch.Size([1, 5, 64])\n"
     ]
    },
    {
     "name": "stderr",
     "output_type": "stream",
     "text": [
      "Epoch 8:  33%|███▎      | 32/96 [00:05<00:12,  5.14it/s]"
     ]
    },
    {
     "name": "stdout",
     "output_type": "stream",
     "text": [
      "torch.Size([1, 5, 64])\n",
      "torch.Size([1, 5, 64])\n",
      "torch.Size([1, 5, 64])\n"
     ]
    },
    {
     "name": "stderr",
     "output_type": "stream",
     "text": [
      "Epoch 8:  34%|███▍      | 33/96 [00:06<00:12,  4.98it/s]"
     ]
    },
    {
     "name": "stdout",
     "output_type": "stream",
     "text": [
      "torch.Size([1, 5, 64])\n",
      "torch.Size([1, 5, 64])\n",
      "torch.Size([1, 5, 64])\n"
     ]
    },
    {
     "name": "stderr",
     "output_type": "stream",
     "text": [
      "Epoch 8:  35%|███▌      | 34/96 [00:06<00:12,  4.90it/s]"
     ]
    },
    {
     "name": "stdout",
     "output_type": "stream",
     "text": [
      "torch.Size([1, 5, 64])\n",
      "torch.Size([1, 5, 64])\n",
      "torch.Size([1, 5, 64])\n"
     ]
    },
    {
     "name": "stderr",
     "output_type": "stream",
     "text": [
      "Epoch 8:  36%|███▋      | 35/96 [00:06<00:11,  5.14it/s]"
     ]
    },
    {
     "name": "stdout",
     "output_type": "stream",
     "text": [
      "torch.Size([1, 5, 64])\n",
      "torch.Size([1, 5, 64])\n",
      "torch.Size([1, 5, 64])\n",
      "torch.Size([1, 5, 64])\n",
      "torch.Size([1, 5, 64])\n",
      "torch.Size([1, 5, 64])\n"
     ]
    },
    {
     "name": "stderr",
     "output_type": "stream",
     "text": [
      "Epoch 8:  39%|███▊      | 37/96 [00:06<00:11,  5.33it/s]"
     ]
    },
    {
     "name": "stdout",
     "output_type": "stream",
     "text": [
      "torch.Size([1, 5, 64])\n",
      "torch.Size([1, 5, 64])\n",
      "torch.Size([1, 5, 64])\n",
      "torch.Size([1, 5, 64])\n",
      "torch.Size([1, 5, 64])\n",
      "torch.Size([1, 5, 64])\n"
     ]
    },
    {
     "name": "stderr",
     "output_type": "stream",
     "text": [
      "Epoch 8:  41%|████      | 39/96 [00:07<00:10,  5.39it/s]"
     ]
    },
    {
     "name": "stdout",
     "output_type": "stream",
     "text": [
      "torch.Size([1, 5, 64])\n",
      "torch.Size([1, 5, 64])\n",
      "torch.Size([1, 5, 64])\n"
     ]
    },
    {
     "name": "stderr",
     "output_type": "stream",
     "text": [
      "Epoch 8:  42%|████▏     | 40/96 [00:07<00:10,  5.33it/s]"
     ]
    },
    {
     "name": "stdout",
     "output_type": "stream",
     "text": [
      "torch.Size([1, 5, 64])\n",
      "torch.Size([1, 5, 64])\n",
      "torch.Size([1, 5, 64])\n",
      "torch.Size([1, 5, 64])\n",
      "torch.Size([1, 5, 64])\n",
      "torch.Size([1, 5, 64])\n"
     ]
    },
    {
     "name": "stderr",
     "output_type": "stream",
     "text": [
      "Epoch 8:  43%|████▎     | 41/96 [00:07<00:10,  5.33it/s]"
     ]
    },
    {
     "name": "stdout",
     "output_type": "stream",
     "text": [
      "torch.Size([1, 5, 64])\n",
      "torch.Size([1, 5, 64])\n",
      "torch.Size([1, 5, 64])\n"
     ]
    },
    {
     "name": "stderr",
     "output_type": "stream",
     "text": [
      "Epoch 8:  44%|████▍     | 42/96 [00:07<00:11,  4.83it/s]"
     ]
    },
    {
     "name": "stdout",
     "output_type": "stream",
     "text": [
      "torch.Size([1, 5, 64])\n",
      "torch.Size([1, 5, 64])\n",
      "torch.Size([1, 5, 64])\n"
     ]
    },
    {
     "name": "stderr",
     "output_type": "stream",
     "text": [
      "Epoch 8:  46%|████▌     | 44/96 [00:08<00:10,  4.79it/s]"
     ]
    },
    {
     "name": "stdout",
     "output_type": "stream",
     "text": [
      "torch.Size([1, 5, 64])\n",
      "torch.Size([1, 5, 64])\n",
      "torch.Size([1, 5, 64])\n",
      "torch.Size([1, 5, 64])\n",
      "torch.Size([1, 5, 64])\n",
      "torch.Size([1, 5, 64])\n"
     ]
    },
    {
     "name": "stderr",
     "output_type": "stream",
     "text": [
      "Epoch 8:  48%|████▊     | 46/96 [00:08<00:09,  5.25it/s]"
     ]
    },
    {
     "name": "stdout",
     "output_type": "stream",
     "text": [
      "torch.Size([1, 5, 64])\n",
      "torch.Size([1, 5, 64])\n",
      "torch.Size([1, 5, 64])\n",
      "torch.Size([1, 5, 64])\n",
      "torch.Size([1, 5, 64])\n",
      "torch.Size([1, 5, 64])\n"
     ]
    },
    {
     "name": "stderr",
     "output_type": "stream",
     "text": [
      "Epoch 8:  50%|█████     | 48/96 [00:09<00:09,  5.23it/s]"
     ]
    },
    {
     "name": "stdout",
     "output_type": "stream",
     "text": [
      "torch.Size([1, 5, 64])\n",
      "torch.Size([1, 5, 64])\n",
      "torch.Size([1, 5, 64])\n"
     ]
    },
    {
     "name": "stderr",
     "output_type": "stream",
     "text": [
      "Epoch 8:  51%|█████     | 49/96 [00:09<00:08,  5.34it/s]"
     ]
    },
    {
     "name": "stdout",
     "output_type": "stream",
     "text": [
      "torch.Size([1, 5, 64])\n",
      "torch.Size([1, 5, 64])\n",
      "torch.Size([1, 5, 64])\n",
      "torch.Size([1, 5, 64])\n",
      "torch.Size([1, 5, 64])\n",
      "torch.Size([1, 5, 64])\n"
     ]
    },
    {
     "name": "stderr",
     "output_type": "stream",
     "text": [
      "Epoch 8:  53%|█████▎    | 51/96 [00:09<00:08,  5.23it/s]"
     ]
    },
    {
     "name": "stdout",
     "output_type": "stream",
     "text": [
      "torch.Size([1, 5, 64])\n",
      "torch.Size([1, 5, 64])\n",
      "torch.Size([1, 5, 64])\n",
      "torch.Size([1, 5, 64])\n",
      "torch.Size([1, 5, 64])\n",
      "torch.Size([1, 5, 64])\n"
     ]
    },
    {
     "name": "stderr",
     "output_type": "stream",
     "text": [
      "Epoch 8:  55%|█████▌    | 53/96 [00:10<00:08,  5.34it/s]"
     ]
    },
    {
     "name": "stdout",
     "output_type": "stream",
     "text": [
      "torch.Size([1, 5, 64])\n",
      "torch.Size([1, 5, 64])\n",
      "torch.Size([1, 5, 64])\n",
      "torch.Size([1, 5, 64])\n",
      "torch.Size([1, 5, 64])\n",
      "torch.Size([1, 5, 64])\n"
     ]
    },
    {
     "name": "stderr",
     "output_type": "stream",
     "text": [
      "Epoch 8:  57%|█████▋    | 55/96 [00:10<00:07,  5.15it/s]"
     ]
    },
    {
     "name": "stdout",
     "output_type": "stream",
     "text": [
      "torch.Size([1, 5, 64])\n",
      "torch.Size([1, 5, 64])\n",
      "torch.Size([1, 5, 64])\n",
      "torch.Size([1, 5, 64])\n",
      "torch.Size([1, 5, 64])\n",
      "torch.Size([1, 5, 64])\n"
     ]
    },
    {
     "name": "stderr",
     "output_type": "stream",
     "text": [
      "Epoch 8:  59%|█████▉    | 57/96 [00:10<00:07,  5.01it/s]"
     ]
    },
    {
     "name": "stdout",
     "output_type": "stream",
     "text": [
      "torch.Size([1, 5, 64])\n",
      "torch.Size([1, 5, 64])\n",
      "torch.Size([1, 5, 64])\n"
     ]
    },
    {
     "name": "stderr",
     "output_type": "stream",
     "text": [
      "Epoch 8:  60%|██████    | 58/96 [00:11<00:07,  5.14it/s]"
     ]
    },
    {
     "name": "stdout",
     "output_type": "stream",
     "text": [
      "torch.Size([1, 5, 64])\n",
      "torch.Size([1, 5, 64])\n",
      "torch.Size([1, 5, 64])\n",
      "torch.Size([1, 5, 64])\n",
      "torch.Size([1, 5, 64])\n",
      "torch.Size([1, 5, 64])\n"
     ]
    },
    {
     "name": "stderr",
     "output_type": "stream",
     "text": [
      "Epoch 8:  62%|██████▎   | 60/96 [00:11<00:06,  5.66it/s]"
     ]
    },
    {
     "name": "stdout",
     "output_type": "stream",
     "text": [
      "torch.Size([1, 5, 64])\n",
      "torch.Size([1, 5, 64])\n",
      "torch.Size([1, 5, 64])\n",
      "torch.Size([1, 5, 64])\n",
      "torch.Size([1, 5, 64])\n",
      "torch.Size([1, 5, 64])\n"
     ]
    },
    {
     "name": "stderr",
     "output_type": "stream",
     "text": [
      "Epoch 8:  65%|██████▍   | 62/96 [00:11<00:05,  6.42it/s]"
     ]
    },
    {
     "name": "stdout",
     "output_type": "stream",
     "text": [
      "torch.Size([1, 5, 64])\n",
      "torch.Size([1, 5, 64])\n",
      "torch.Size([1, 5, 64])\n",
      "torch.Size([1, 5, 64])\n",
      "torch.Size([1, 5, 64])\n",
      "torch.Size([1, 5, 64])\n"
     ]
    },
    {
     "name": "stderr",
     "output_type": "stream",
     "text": [
      "Epoch 8:  67%|██████▋   | 64/96 [00:11<00:04,  7.11it/s]"
     ]
    },
    {
     "name": "stdout",
     "output_type": "stream",
     "text": [
      "torch.Size([1, 5, 64])\n",
      "torch.Size([1, 5, 64])\n",
      "torch.Size([1, 5, 64])\n",
      "torch.Size([1, 5, 64])\n",
      "torch.Size([1, 5, 64])\n",
      "torch.Size([1, 5, 64])\n"
     ]
    },
    {
     "name": "stderr",
     "output_type": "stream",
     "text": [
      "Epoch 8:  69%|██████▉   | 66/96 [00:12<00:03,  7.53it/s]"
     ]
    },
    {
     "name": "stdout",
     "output_type": "stream",
     "text": [
      "torch.Size([1, 5, 64])\n",
      "torch.Size([1, 5, 64])\n",
      "torch.Size([1, 5, 64])\n",
      "torch.Size([1, 5, 64])\n",
      "torch.Size([1, 5, 64])\n",
      "torch.Size([1, 5, 64])\n"
     ]
    },
    {
     "name": "stderr",
     "output_type": "stream",
     "text": [
      "Epoch 8:  71%|███████   | 68/96 [00:12<00:03,  7.05it/s]"
     ]
    },
    {
     "name": "stdout",
     "output_type": "stream",
     "text": [
      "torch.Size([1, 5, 64])\n",
      "torch.Size([1, 5, 64])\n",
      "torch.Size([1, 5, 64])\n",
      "torch.Size([1, 5, 64])\n",
      "torch.Size([1, 5, 64])\n",
      "torch.Size([1, 5, 64])\n"
     ]
    },
    {
     "name": "stderr",
     "output_type": "stream",
     "text": [
      "Epoch 8:  73%|███████▎  | 70/96 [00:12<00:03,  6.58it/s]"
     ]
    },
    {
     "name": "stdout",
     "output_type": "stream",
     "text": [
      "torch.Size([1, 5, 64])\n",
      "torch.Size([1, 5, 64])\n",
      "torch.Size([1, 5, 64])\n",
      "torch.Size([1, 5, 64])\n",
      "torch.Size([1, 5, 64])\n",
      "torch.Size([1, 5, 64])\n"
     ]
    },
    {
     "name": "stderr",
     "output_type": "stream",
     "text": [
      "Epoch 8:  75%|███████▌  | 72/96 [00:13<00:03,  7.15it/s]"
     ]
    },
    {
     "name": "stdout",
     "output_type": "stream",
     "text": [
      "torch.Size([1, 5, 64])\n",
      "torch.Size([1, 5, 64])\n",
      "torch.Size([1, 5, 64])\n",
      "torch.Size([1, 5, 64])\n",
      "torch.Size([1, 5, 64])\n",
      "torch.Size([1, 5, 64])\n"
     ]
    },
    {
     "name": "stderr",
     "output_type": "stream",
     "text": [
      "Epoch 8:  77%|███████▋  | 74/96 [00:13<00:03,  7.29it/s]"
     ]
    },
    {
     "name": "stdout",
     "output_type": "stream",
     "text": [
      "torch.Size([1, 5, 64])\n",
      "torch.Size([1, 5, 64])\n",
      "torch.Size([1, 5, 64])\n",
      "torch.Size([1, 5, 64])\n",
      "torch.Size([1, 5, 64])\n",
      "torch.Size([1, 5, 64])\n"
     ]
    },
    {
     "name": "stderr",
     "output_type": "stream",
     "text": [
      "Epoch 8:  79%|███████▉  | 76/96 [00:13<00:02,  7.57it/s]"
     ]
    },
    {
     "name": "stdout",
     "output_type": "stream",
     "text": [
      "torch.Size([1, 5, 64])\n",
      "torch.Size([1, 5, 64])\n",
      "torch.Size([1, 5, 64])\n",
      "torch.Size([1, 5, 64])\n",
      "torch.Size([1, 5, 64])\n",
      "torch.Size([1, 5, 64])\n"
     ]
    },
    {
     "name": "stderr",
     "output_type": "stream",
     "text": [
      "Epoch 8:  81%|████████▏ | 78/96 [00:13<00:02,  6.60it/s]"
     ]
    },
    {
     "name": "stdout",
     "output_type": "stream",
     "text": [
      "torch.Size([1, 5, 64])\n",
      "torch.Size([1, 5, 64])\n",
      "torch.Size([1, 5, 64])\n"
     ]
    },
    {
     "name": "stderr",
     "output_type": "stream",
     "text": [
      "Epoch 8:  82%|████████▏ | 79/96 [00:14<00:02,  6.28it/s]"
     ]
    },
    {
     "name": "stdout",
     "output_type": "stream",
     "text": [
      "torch.Size([1, 5, 64])\n",
      "torch.Size([1, 5, 64])\n",
      "torch.Size([1, 5, 64])\n",
      "torch.Size([1, 5, 64])\n",
      "torch.Size([1, 5, 64])\n",
      "torch.Size([1, 5, 64])\n"
     ]
    },
    {
     "name": "stderr",
     "output_type": "stream",
     "text": [
      "Epoch 8:  84%|████████▍ | 81/96 [00:14<00:02,  6.27it/s]"
     ]
    },
    {
     "name": "stdout",
     "output_type": "stream",
     "text": [
      "torch.Size([1, 5, 64])\n",
      "torch.Size([1, 5, 64])\n",
      "torch.Size([1, 5, 64])\n",
      "torch.Size([1, 5, 64])\n",
      "torch.Size([1, 5, 64])\n",
      "torch.Size([1, 5, 64])\n"
     ]
    },
    {
     "name": "stderr",
     "output_type": "stream",
     "text": [
      "Epoch 8:  85%|████████▌ | 82/96 [00:14<00:02,  6.15it/s]"
     ]
    },
    {
     "name": "stdout",
     "output_type": "stream",
     "text": [
      "torch.Size([1, 5, 64])\n",
      "torch.Size([1, 5, 64])\n",
      "torch.Size([1, 5, 64])\n"
     ]
    },
    {
     "name": "stderr",
     "output_type": "stream",
     "text": [
      "Epoch 8:  88%|████████▊ | 84/96 [00:14<00:02,  5.38it/s]"
     ]
    },
    {
     "name": "stdout",
     "output_type": "stream",
     "text": [
      "torch.Size([1, 5, 64])\n",
      "torch.Size([1, 5, 64])\n",
      "torch.Size([1, 5, 64])\n"
     ]
    },
    {
     "name": "stderr",
     "output_type": "stream",
     "text": [
      "Epoch 8:  89%|████████▊ | 85/96 [00:15<00:01,  5.76it/s]"
     ]
    },
    {
     "name": "stdout",
     "output_type": "stream",
     "text": [
      "torch.Size([1, 5, 64])\n",
      "torch.Size([1, 5, 64])\n",
      "torch.Size([1, 5, 64])\n",
      "torch.Size([1, 5, 64])\n",
      "torch.Size([1, 5, 64])\n",
      "torch.Size([1, 5, 64])\n"
     ]
    },
    {
     "name": "stderr",
     "output_type": "stream",
     "text": [
      "Epoch 8:  91%|█████████ | 87/96 [00:15<00:01,  6.06it/s]"
     ]
    },
    {
     "name": "stdout",
     "output_type": "stream",
     "text": [
      "torch.Size([1, 5, 64])\n",
      "torch.Size([1, 5, 64])\n",
      "torch.Size([1, 5, 64])\n",
      "torch.Size([1, 5, 64])\n",
      "torch.Size([1, 5, 64])\n",
      "torch.Size([1, 5, 64])\n"
     ]
    },
    {
     "name": "stderr",
     "output_type": "stream",
     "text": [
      "Epoch 8:  93%|█████████▎| 89/96 [00:15<00:01,  5.94it/s]"
     ]
    },
    {
     "name": "stdout",
     "output_type": "stream",
     "text": [
      "torch.Size([1, 5, 64])\n",
      "torch.Size([1, 5, 64])\n",
      "torch.Size([1, 5, 64])\n",
      "torch.Size([1, 5, 64])\n",
      "torch.Size([1, 5, 64])\n",
      "torch.Size([1, 5, 64])\n"
     ]
    },
    {
     "name": "stderr",
     "output_type": "stream",
     "text": [
      "Epoch 8:  95%|█████████▍| 91/96 [00:16<00:00,  5.62it/s]"
     ]
    },
    {
     "name": "stdout",
     "output_type": "stream",
     "text": [
      "torch.Size([1, 5, 64])\n",
      "torch.Size([1, 5, 64])\n",
      "torch.Size([1, 5, 64])\n",
      "torch.Size([1, 5, 64])\n",
      "torch.Size([1, 5, 64])\n",
      "torch.Size([1, 5, 64])\n"
     ]
    },
    {
     "name": "stderr",
     "output_type": "stream",
     "text": [
      "Epoch 8:  97%|█████████▋| 93/96 [00:16<00:00,  5.25it/s]"
     ]
    },
    {
     "name": "stdout",
     "output_type": "stream",
     "text": [
      "torch.Size([1, 5, 64])\n",
      "torch.Size([1, 5, 64])\n",
      "torch.Size([1, 5, 64])\n",
      "torch.Size([1, 5, 64])\n",
      "torch.Size([1, 5, 64])\n",
      "torch.Size([1, 5, 64])\n"
     ]
    },
    {
     "name": "stderr",
     "output_type": "stream",
     "text": [
      "Epoch 8:  99%|█████████▉| 95/96 [00:16<00:00,  5.11it/s]"
     ]
    },
    {
     "name": "stdout",
     "output_type": "stream",
     "text": [
      "torch.Size([1, 5, 64])\n",
      "torch.Size([1, 5, 64])\n",
      "torch.Size([1, 5, 64])\n"
     ]
    },
    {
     "name": "stderr",
     "output_type": "stream",
     "text": [
      "                                                        \r"
     ]
    },
    {
     "name": "stdout",
     "output_type": "stream",
     "text": [
      "torch.Size([1, 5, 64])\n",
      "torch.Size([1, 5, 64])\n",
      "torch.Size([1, 5, 64])\n"
     ]
    },
    {
     "name": "stderr",
     "output_type": "stream",
     "text": [
      "Epoch 9:   1%|          | 1/96 [00:00<00:17,  5.57it/s]"
     ]
    },
    {
     "name": "stdout",
     "output_type": "stream",
     "text": [
      "torch.Size([1, 5, 64])\n",
      "torch.Size([1, 5, 64])\n",
      "torch.Size([1, 5, 64])\n",
      "torch.Size([1, 5, 64])\n",
      "torch.Size([1, 5, 64])\n",
      "torch.Size([1, 5, 64])\n"
     ]
    },
    {
     "name": "stderr",
     "output_type": "stream",
     "text": [
      "Epoch 9:   3%|▎         | 3/96 [00:00<00:19,  4.88it/s]"
     ]
    },
    {
     "name": "stdout",
     "output_type": "stream",
     "text": [
      "torch.Size([1, 5, 64])\n",
      "torch.Size([1, 5, 64])\n",
      "torch.Size([1, 5, 64])\n"
     ]
    },
    {
     "name": "stderr",
     "output_type": "stream",
     "text": [
      "Epoch 9:   4%|▍         | 4/96 [00:00<00:17,  5.19it/s]"
     ]
    },
    {
     "name": "stdout",
     "output_type": "stream",
     "text": [
      "torch.Size([1, 5, 64])\n",
      "torch.Size([1, 5, 64])\n",
      "torch.Size([1, 5, 64])\n",
      "torch.Size([1, 5, 64])\n",
      "torch.Size([1, 5, 64])\n",
      "torch.Size([1, 5, 64])\n"
     ]
    },
    {
     "name": "stderr",
     "output_type": "stream",
     "text": [
      "Epoch 9:   6%|▋         | 6/96 [00:01<00:17,  5.27it/s]"
     ]
    },
    {
     "name": "stdout",
     "output_type": "stream",
     "text": [
      "torch.Size([1, 5, 64])\n",
      "torch.Size([1, 5, 64])\n",
      "torch.Size([1, 5, 64])\n"
     ]
    },
    {
     "name": "stderr",
     "output_type": "stream",
     "text": [
      "Epoch 9:   7%|▋         | 7/96 [00:01<00:16,  5.24it/s]"
     ]
    },
    {
     "name": "stdout",
     "output_type": "stream",
     "text": [
      "torch.Size([1, 5, 64])\n",
      "torch.Size([1, 5, 64])\n",
      "torch.Size([1, 5, 64])\n"
     ]
    },
    {
     "name": "stderr",
     "output_type": "stream",
     "text": [
      "Epoch 9:   8%|▊         | 8/96 [00:01<00:16,  5.22it/s]"
     ]
    },
    {
     "name": "stdout",
     "output_type": "stream",
     "text": [
      "torch.Size([1, 5, 64])\n",
      "torch.Size([1, 5, 64])\n",
      "torch.Size([1, 5, 64])\n"
     ]
    },
    {
     "name": "stderr",
     "output_type": "stream",
     "text": [
      "Epoch 9:   9%|▉         | 9/96 [00:01<00:15,  5.63it/s]"
     ]
    },
    {
     "name": "stdout",
     "output_type": "stream",
     "text": [
      "torch.Size([1, 5, 64])\n",
      "torch.Size([1, 5, 64])\n",
      "torch.Size([1, 5, 64])\n",
      "torch.Size([1, 5, 64])\n",
      "torch.Size([1, 5, 64])\n",
      "torch.Size([1, 5, 64])\n"
     ]
    },
    {
     "name": "stderr",
     "output_type": "stream",
     "text": [
      "Epoch 9:  11%|█▏        | 11/96 [00:01<00:13,  6.50it/s]"
     ]
    },
    {
     "name": "stdout",
     "output_type": "stream",
     "text": [
      "torch.Size([1, 5, 64])\n",
      "torch.Size([1, 5, 64])\n",
      "torch.Size([1, 5, 64])\n",
      "torch.Size([1, 5, 64])\n",
      "torch.Size([1, 5, 64])\n",
      "torch.Size([1, 5, 64])\n"
     ]
    },
    {
     "name": "stderr",
     "output_type": "stream",
     "text": [
      "Epoch 9:  14%|█▎        | 13/96 [00:02<00:12,  6.68it/s]"
     ]
    },
    {
     "name": "stdout",
     "output_type": "stream",
     "text": [
      "torch.Size([1, 5, 64])\n",
      "torch.Size([1, 5, 64])\n",
      "torch.Size([1, 5, 64])\n",
      "torch.Size([1, 5, 64])\n",
      "torch.Size([1, 5, 64])\n",
      "torch.Size([1, 5, 64])\n"
     ]
    },
    {
     "name": "stderr",
     "output_type": "stream",
     "text": [
      "Epoch 9:  16%|█▌        | 15/96 [00:02<00:12,  6.62it/s]"
     ]
    },
    {
     "name": "stdout",
     "output_type": "stream",
     "text": [
      "torch.Size([1, 5, 64])\n",
      "torch.Size([1, 5, 64])\n",
      "torch.Size([1, 5, 64])\n",
      "torch.Size([1, 5, 64])\n",
      "torch.Size([1, 5, 64])\n",
      "torch.Size([1, 5, 64])\n"
     ]
    },
    {
     "name": "stderr",
     "output_type": "stream",
     "text": [
      "Epoch 9:  18%|█▊        | 17/96 [00:02<00:12,  6.48it/s]"
     ]
    },
    {
     "name": "stdout",
     "output_type": "stream",
     "text": [
      "torch.Size([1, 5, 64])\n",
      "torch.Size([1, 5, 64])\n",
      "torch.Size([1, 5, 64])\n",
      "torch.Size([1, 5, 64])\n",
      "torch.Size([1, 5, 64])\n",
      "torch.Size([1, 5, 64])\n"
     ]
    },
    {
     "name": "stderr",
     "output_type": "stream",
     "text": [
      "Epoch 9:  20%|█▉        | 19/96 [00:03<00:13,  5.86it/s]"
     ]
    },
    {
     "name": "stdout",
     "output_type": "stream",
     "text": [
      "torch.Size([1, 5, 64])\n",
      "torch.Size([1, 5, 64])\n",
      "torch.Size([1, 5, 64])\n"
     ]
    },
    {
     "name": "stderr",
     "output_type": "stream",
     "text": [
      "Epoch 9:  21%|██        | 20/96 [00:03<00:13,  5.58it/s]"
     ]
    },
    {
     "name": "stdout",
     "output_type": "stream",
     "text": [
      "torch.Size([1, 5, 64])\n",
      "torch.Size([1, 5, 64])\n",
      "torch.Size([1, 5, 64])\n"
     ]
    },
    {
     "name": "stderr",
     "output_type": "stream",
     "text": [
      "Epoch 9:  22%|██▏       | 21/96 [00:03<00:13,  5.60it/s]"
     ]
    },
    {
     "name": "stdout",
     "output_type": "stream",
     "text": [
      "torch.Size([1, 5, 64])\n",
      "torch.Size([1, 5, 64])\n",
      "torch.Size([1, 5, 64])\n",
      "torch.Size([1, 5, 64])\n",
      "torch.Size([1, 5, 64])\n",
      "torch.Size([1, 5, 64])\n"
     ]
    },
    {
     "name": "stderr",
     "output_type": "stream",
     "text": [
      "Epoch 9:  24%|██▍       | 23/96 [00:03<00:12,  5.85it/s]"
     ]
    },
    {
     "name": "stdout",
     "output_type": "stream",
     "text": [
      "torch.Size([1, 5, 64])\n",
      "torch.Size([1, 5, 64])\n",
      "torch.Size([1, 5, 64])\n",
      "torch.Size([1, 5, 64])\n",
      "torch.Size([1, 5, 64])\n",
      "torch.Size([1, 5, 64])\n"
     ]
    },
    {
     "name": "stderr",
     "output_type": "stream",
     "text": [
      "Epoch 9:  26%|██▌       | 25/96 [00:04<00:12,  5.76it/s]"
     ]
    },
    {
     "name": "stdout",
     "output_type": "stream",
     "text": [
      "torch.Size([1, 5, 64])\n",
      "torch.Size([1, 5, 64])\n",
      "torch.Size([1, 5, 64])\n",
      "torch.Size([1, 5, 64])\n",
      "torch.Size([1, 5, 64])\n",
      "torch.Size([1, 5, 64])\n"
     ]
    },
    {
     "name": "stderr",
     "output_type": "stream",
     "text": [
      "Epoch 9:  28%|██▊       | 27/96 [00:04<00:12,  5.69it/s]"
     ]
    },
    {
     "name": "stdout",
     "output_type": "stream",
     "text": [
      "torch.Size([1, 5, 64])\n",
      "torch.Size([1, 5, 64])\n",
      "torch.Size([1, 5, 64])\n"
     ]
    },
    {
     "name": "stderr",
     "output_type": "stream",
     "text": [
      "Epoch 9:  29%|██▉       | 28/96 [00:04<00:12,  5.58it/s]"
     ]
    },
    {
     "name": "stdout",
     "output_type": "stream",
     "text": [
      "torch.Size([1, 5, 64])\n",
      "torch.Size([1, 5, 64])\n",
      "torch.Size([1, 5, 64])\n"
     ]
    },
    {
     "name": "stderr",
     "output_type": "stream",
     "text": [
      "Epoch 9:  30%|███       | 29/96 [00:05<00:12,  5.52it/s]"
     ]
    },
    {
     "name": "stdout",
     "output_type": "stream",
     "text": [
      "torch.Size([1, 5, 64])\n",
      "torch.Size([1, 5, 64])\n",
      "torch.Size([1, 5, 64])\n",
      "torch.Size([1, 5, 64])\n",
      "torch.Size([1, 5, 64])\n",
      "torch.Size([1, 5, 64])\n"
     ]
    },
    {
     "name": "stderr",
     "output_type": "stream",
     "text": [
      "Epoch 9:  32%|███▏      | 31/96 [00:05<00:11,  5.47it/s]"
     ]
    },
    {
     "name": "stdout",
     "output_type": "stream",
     "text": [
      "torch.Size([1, 5, 64])\n",
      "torch.Size([1, 5, 64])\n",
      "torch.Size([1, 5, 64])\n"
     ]
    },
    {
     "name": "stderr",
     "output_type": "stream",
     "text": [
      "Epoch 9:  33%|███▎      | 32/96 [00:05<00:12,  5.31it/s]"
     ]
    },
    {
     "name": "stdout",
     "output_type": "stream",
     "text": [
      "torch.Size([1, 5, 64])\n",
      "torch.Size([1, 5, 64])\n",
      "torch.Size([1, 5, 64])\n"
     ]
    },
    {
     "name": "stderr",
     "output_type": "stream",
     "text": [
      "Epoch 9:  34%|███▍      | 33/96 [00:05<00:12,  5.22it/s]"
     ]
    },
    {
     "name": "stdout",
     "output_type": "stream",
     "text": [
      "torch.Size([1, 5, 64])\n",
      "torch.Size([1, 5, 64])\n",
      "torch.Size([1, 5, 64])\n"
     ]
    },
    {
     "name": "stderr",
     "output_type": "stream",
     "text": [
      "Epoch 9:  35%|███▌      | 34/96 [00:05<00:12,  5.15it/s]"
     ]
    },
    {
     "name": "stdout",
     "output_type": "stream",
     "text": [
      "torch.Size([1, 5, 64])\n",
      "torch.Size([1, 5, 64])\n",
      "torch.Size([1, 5, 64])\n"
     ]
    },
    {
     "name": "stderr",
     "output_type": "stream",
     "text": [
      "Epoch 9:  36%|███▋      | 35/96 [00:06<00:11,  5.14it/s]"
     ]
    },
    {
     "name": "stdout",
     "output_type": "stream",
     "text": [
      "torch.Size([1, 5, 64])\n",
      "torch.Size([1, 5, 64])\n",
      "torch.Size([1, 5, 64])\n",
      "torch.Size([1, 5, 64])\n",
      "torch.Size([1, 5, 64])\n",
      "torch.Size([1, 5, 64])\n"
     ]
    },
    {
     "name": "stderr",
     "output_type": "stream",
     "text": [
      "Epoch 9:  39%|███▊      | 37/96 [00:06<00:11,  5.03it/s]"
     ]
    },
    {
     "name": "stdout",
     "output_type": "stream",
     "text": [
      "torch.Size([1, 5, 64])\n",
      "torch.Size([1, 5, 64])\n",
      "torch.Size([1, 5, 64])\n"
     ]
    },
    {
     "name": "stderr",
     "output_type": "stream",
     "text": [
      "Epoch 9:  40%|███▉      | 38/96 [00:06<00:11,  5.11it/s]"
     ]
    },
    {
     "name": "stdout",
     "output_type": "stream",
     "text": [
      "torch.Size([1, 5, 64])\n",
      "torch.Size([1, 5, 64])\n",
      "torch.Size([1, 5, 64])\n"
     ]
    },
    {
     "name": "stderr",
     "output_type": "stream",
     "text": [
      "Epoch 9:  41%|████      | 39/96 [00:06<00:10,  5.19it/s]"
     ]
    },
    {
     "name": "stdout",
     "output_type": "stream",
     "text": [
      "torch.Size([1, 5, 64])\n",
      "torch.Size([1, 5, 64])\n",
      "torch.Size([1, 5, 64])\n"
     ]
    },
    {
     "name": "stderr",
     "output_type": "stream",
     "text": [
      "Epoch 9:  42%|████▏     | 40/96 [00:07<00:10,  5.14it/s]"
     ]
    },
    {
     "name": "stdout",
     "output_type": "stream",
     "text": [
      "torch.Size([1, 5, 64])\n",
      "torch.Size([1, 5, 64])\n",
      "torch.Size([1, 5, 64])\n"
     ]
    },
    {
     "name": "stderr",
     "output_type": "stream",
     "text": [
      "Epoch 9:  43%|████▎     | 41/96 [00:07<00:10,  5.23it/s]"
     ]
    },
    {
     "name": "stdout",
     "output_type": "stream",
     "text": [
      "torch.Size([1, 5, 64])\n",
      "torch.Size([1, 5, 64])\n",
      "torch.Size([1, 5, 64])\n",
      "torch.Size([1, 5, 64])\n",
      "torch.Size([1, 5, 64])\n",
      "torch.Size([1, 5, 64])\n"
     ]
    },
    {
     "name": "stderr",
     "output_type": "stream",
     "text": [
      "Epoch 9:  44%|████▍     | 42/96 [00:07<00:10,  5.29it/s]"
     ]
    },
    {
     "name": "stdout",
     "output_type": "stream",
     "text": [
      "torch.Size([1, 5, 64])\n",
      "torch.Size([1, 5, 64])\n",
      "torch.Size([1, 5, 64])\n"
     ]
    },
    {
     "name": "stderr",
     "output_type": "stream",
     "text": [
      "Epoch 9:  46%|████▌     | 44/96 [00:07<00:10,  5.08it/s]"
     ]
    },
    {
     "name": "stdout",
     "output_type": "stream",
     "text": [
      "torch.Size([1, 5, 64])\n",
      "torch.Size([1, 5, 64])\n",
      "torch.Size([1, 5, 64])\n"
     ]
    },
    {
     "name": "stderr",
     "output_type": "stream",
     "text": [
      "Epoch 9:  47%|████▋     | 45/96 [00:08<00:09,  5.28it/s]"
     ]
    },
    {
     "name": "stdout",
     "output_type": "stream",
     "text": [
      "torch.Size([1, 5, 64])\n",
      "torch.Size([1, 5, 64])\n",
      "torch.Size([1, 5, 64])\n",
      "torch.Size([1, 5, 64])\n",
      "torch.Size([1, 5, 64])\n",
      "torch.Size([1, 5, 64])\n"
     ]
    },
    {
     "name": "stderr",
     "output_type": "stream",
     "text": [
      "Epoch 9:  49%|████▉     | 47/96 [00:08<00:08,  5.53it/s]"
     ]
    },
    {
     "name": "stdout",
     "output_type": "stream",
     "text": [
      "torch.Size([1, 5, 64])\n",
      "torch.Size([1, 5, 64])\n",
      "torch.Size([1, 5, 64])\n",
      "torch.Size([1, 5, 64])\n",
      "torch.Size([1, 5, 64])\n",
      "torch.Size([1, 5, 64])\n"
     ]
    },
    {
     "name": "stderr",
     "output_type": "stream",
     "text": [
      "Epoch 9:  50%|█████     | 48/96 [00:08<00:09,  5.14it/s]"
     ]
    },
    {
     "name": "stdout",
     "output_type": "stream",
     "text": [
      "torch.Size([1, 5, 64])\n",
      "torch.Size([1, 5, 64])\n",
      "torch.Size([1, 5, 64])\n"
     ]
    },
    {
     "name": "stderr",
     "output_type": "stream",
     "text": [
      "Epoch 9:  52%|█████▏    | 50/96 [00:09<00:09,  4.95it/s]"
     ]
    },
    {
     "name": "stdout",
     "output_type": "stream",
     "text": [
      "torch.Size([1, 5, 64])\n",
      "torch.Size([1, 5, 64])\n",
      "torch.Size([1, 5, 64])\n",
      "torch.Size([1, 5, 64])\n",
      "torch.Size([1, 5, 64])\n",
      "torch.Size([1, 5, 64])\n"
     ]
    },
    {
     "name": "stderr",
     "output_type": "stream",
     "text": [
      "Epoch 9:  53%|█████▎    | 51/96 [00:09<00:08,  5.29it/s]"
     ]
    },
    {
     "name": "stdout",
     "output_type": "stream",
     "text": [
      "torch.Size([1, 5, 64])\n",
      "torch.Size([1, 5, 64])\n",
      "torch.Size([1, 5, 64])\n"
     ]
    },
    {
     "name": "stderr",
     "output_type": "stream",
     "text": [
      "Epoch 9:  54%|█████▍    | 52/96 [00:09<00:08,  4.98it/s]"
     ]
    },
    {
     "name": "stdout",
     "output_type": "stream",
     "text": [
      "torch.Size([1, 5, 64])\n",
      "torch.Size([1, 5, 64])\n",
      "torch.Size([1, 5, 64])\n"
     ]
    },
    {
     "name": "stderr",
     "output_type": "stream",
     "text": [
      "Epoch 9:  56%|█████▋    | 54/96 [00:09<00:08,  4.68it/s]"
     ]
    },
    {
     "name": "stdout",
     "output_type": "stream",
     "text": [
      "torch.Size([1, 5, 64])\n",
      "torch.Size([1, 5, 64])\n",
      "torch.Size([1, 5, 64])\n",
      "torch.Size([1, 5, 64])\n",
      "torch.Size([1, 5, 64])\n",
      "torch.Size([1, 5, 64])\n"
     ]
    },
    {
     "name": "stderr",
     "output_type": "stream",
     "text": [
      "Epoch 9:  57%|█████▋    | 55/96 [00:10<00:08,  4.79it/s]"
     ]
    },
    {
     "name": "stdout",
     "output_type": "stream",
     "text": [
      "torch.Size([1, 5, 64])\n",
      "torch.Size([1, 5, 64])\n",
      "torch.Size([1, 5, 64])\n"
     ]
    },
    {
     "name": "stderr",
     "output_type": "stream",
     "text": [
      "Epoch 9:  59%|█████▉    | 57/96 [00:10<00:07,  4.97it/s]"
     ]
    },
    {
     "name": "stdout",
     "output_type": "stream",
     "text": [
      "torch.Size([1, 5, 64])\n",
      "torch.Size([1, 5, 64])\n",
      "torch.Size([1, 5, 64])\n",
      "torch.Size([1, 5, 64])\n",
      "torch.Size([1, 5, 64])\n",
      "torch.Size([1, 5, 64])\n"
     ]
    },
    {
     "name": "stderr",
     "output_type": "stream",
     "text": [
      "Epoch 9:  61%|██████▏   | 59/96 [00:10<00:06,  6.04it/s]"
     ]
    },
    {
     "name": "stdout",
     "output_type": "stream",
     "text": [
      "torch.Size([1, 5, 64])\n",
      "torch.Size([1, 5, 64])\n",
      "torch.Size([1, 5, 64])\n",
      "torch.Size([1, 5, 64])\n",
      "torch.Size([1, 5, 64])\n",
      "torch.Size([1, 5, 64])\n"
     ]
    },
    {
     "name": "stderr",
     "output_type": "stream",
     "text": [
      "Epoch 9:  64%|██████▎   | 61/96 [00:11<00:05,  6.73it/s]"
     ]
    },
    {
     "name": "stdout",
     "output_type": "stream",
     "text": [
      "torch.Size([1, 5, 64])\n",
      "torch.Size([1, 5, 64])\n",
      "torch.Size([1, 5, 64])\n",
      "torch.Size([1, 5, 64])\n",
      "torch.Size([1, 5, 64])\n",
      "torch.Size([1, 5, 64])\n"
     ]
    },
    {
     "name": "stderr",
     "output_type": "stream",
     "text": [
      "Epoch 9:  66%|██████▌   | 63/96 [00:11<00:05,  6.49it/s]"
     ]
    },
    {
     "name": "stdout",
     "output_type": "stream",
     "text": [
      "torch.Size([1, 5, 64])\n",
      "torch.Size([1, 5, 64])\n",
      "torch.Size([1, 5, 64])\n",
      "torch.Size([1, 5, 64])\n",
      "torch.Size([1, 5, 64])\n",
      "torch.Size([1, 5, 64])\n"
     ]
    },
    {
     "name": "stderr",
     "output_type": "stream",
     "text": [
      "Epoch 9:  68%|██████▊   | 65/96 [00:11<00:05,  5.74it/s]"
     ]
    },
    {
     "name": "stdout",
     "output_type": "stream",
     "text": [
      "torch.Size([1, 5, 64])\n",
      "torch.Size([1, 5, 64])\n",
      "torch.Size([1, 5, 64])\n"
     ]
    },
    {
     "name": "stderr",
     "output_type": "stream",
     "text": [
      "Epoch 9:  69%|██████▉   | 66/96 [00:11<00:05,  5.42it/s]"
     ]
    },
    {
     "name": "stdout",
     "output_type": "stream",
     "text": [
      "torch.Size([1, 5, 64])\n",
      "torch.Size([1, 5, 64])\n",
      "torch.Size([1, 5, 64])\n"
     ]
    },
    {
     "name": "stderr",
     "output_type": "stream",
     "text": [
      "Epoch 9:  70%|██████▉   | 67/96 [00:12<00:05,  5.36it/s]"
     ]
    },
    {
     "name": "stdout",
     "output_type": "stream",
     "text": [
      "torch.Size([1, 5, 64])\n",
      "torch.Size([1, 5, 64])\n",
      "torch.Size([1, 5, 64])\n",
      "torch.Size([1, 5, 64])\n",
      "torch.Size([1, 5, 64])\n",
      "torch.Size([1, 5, 64])\n"
     ]
    },
    {
     "name": "stderr",
     "output_type": "stream",
     "text": [
      "Epoch 9:  72%|███████▏  | 69/96 [00:12<00:05,  5.14it/s]"
     ]
    },
    {
     "name": "stdout",
     "output_type": "stream",
     "text": [
      "torch.Size([1, 5, 64])\n",
      "torch.Size([1, 5, 64])\n",
      "torch.Size([1, 5, 64])\n",
      "torch.Size([1, 5, 64])\n",
      "torch.Size([1, 5, 64])\n",
      "torch.Size([1, 5, 64])\n"
     ]
    },
    {
     "name": "stderr",
     "output_type": "stream",
     "text": [
      "Epoch 9:  74%|███████▍  | 71/96 [00:12<00:04,  5.07it/s]"
     ]
    },
    {
     "name": "stdout",
     "output_type": "stream",
     "text": [
      "torch.Size([1, 5, 64])\n",
      "torch.Size([1, 5, 64])\n",
      "torch.Size([1, 5, 64])\n"
     ]
    },
    {
     "name": "stderr",
     "output_type": "stream",
     "text": [
      "Epoch 9:  75%|███████▌  | 72/96 [00:13<00:04,  5.08it/s]"
     ]
    },
    {
     "name": "stdout",
     "output_type": "stream",
     "text": [
      "torch.Size([1, 5, 64])\n",
      "torch.Size([1, 5, 64])\n",
      "torch.Size([1, 5, 64])\n"
     ]
    },
    {
     "name": "stderr",
     "output_type": "stream",
     "text": [
      "Epoch 9:  76%|███████▌  | 73/96 [00:13<00:04,  5.07it/s]"
     ]
    },
    {
     "name": "stdout",
     "output_type": "stream",
     "text": [
      "torch.Size([1, 5, 64])\n",
      "torch.Size([1, 5, 64])\n",
      "torch.Size([1, 5, 64])\n"
     ]
    },
    {
     "name": "stderr",
     "output_type": "stream",
     "text": [
      "Epoch 9:  77%|███████▋  | 74/96 [00:13<00:04,  5.08it/s]"
     ]
    },
    {
     "name": "stdout",
     "output_type": "stream",
     "text": [
      "torch.Size([1, 5, 64])\n",
      "torch.Size([1, 5, 64])\n",
      "torch.Size([1, 5, 64])\n"
     ]
    },
    {
     "name": "stderr",
     "output_type": "stream",
     "text": [
      "Epoch 9:  78%|███████▊  | 75/96 [00:13<00:04,  5.23it/s]"
     ]
    },
    {
     "name": "stdout",
     "output_type": "stream",
     "text": [
      "torch.Size([1, 5, 64])\n",
      "torch.Size([1, 5, 64])\n",
      "torch.Size([1, 5, 64])\n",
      "torch.Size([1, 5, 64])\n",
      "torch.Size([1, 5, 64])\n",
      "torch.Size([1, 5, 64])\n"
     ]
    },
    {
     "name": "stderr",
     "output_type": "stream",
     "text": [
      "Epoch 9:  80%|████████  | 77/96 [00:14<00:03,  5.49it/s]"
     ]
    },
    {
     "name": "stdout",
     "output_type": "stream",
     "text": [
      "torch.Size([1, 5, 64])\n",
      "torch.Size([1, 5, 64])\n",
      "torch.Size([1, 5, 64])\n",
      "torch.Size([1, 5, 64])\n",
      "torch.Size([1, 5, 64])\n",
      "torch.Size([1, 5, 64])\n"
     ]
    },
    {
     "name": "stderr",
     "output_type": "stream",
     "text": [
      "Epoch 9:  82%|████████▏ | 79/96 [00:14<00:03,  5.38it/s]"
     ]
    },
    {
     "name": "stdout",
     "output_type": "stream",
     "text": [
      "torch.Size([1, 5, 64])\n",
      "torch.Size([1, 5, 64])\n",
      "torch.Size([1, 5, 64])\n"
     ]
    },
    {
     "name": "stderr",
     "output_type": "stream",
     "text": [
      "Epoch 9:  83%|████████▎ | 80/96 [00:14<00:02,  5.62it/s]"
     ]
    },
    {
     "name": "stdout",
     "output_type": "stream",
     "text": [
      "torch.Size([1, 5, 64])\n",
      "torch.Size([1, 5, 64])\n",
      "torch.Size([1, 5, 64])\n",
      "torch.Size([1, 5, 64])\n",
      "torch.Size([1, 5, 64])\n",
      "torch.Size([1, 5, 64])\n"
     ]
    },
    {
     "name": "stderr",
     "output_type": "stream",
     "text": [
      "Epoch 9:  84%|████████▍ | 81/96 [00:14<00:02,  5.92it/s]"
     ]
    },
    {
     "name": "stdout",
     "output_type": "stream",
     "text": [
      "torch.Size([1, 5, 64])\n",
      "torch.Size([1, 5, 64])\n",
      "torch.Size([1, 5, 64])\n"
     ]
    },
    {
     "name": "stderr",
     "output_type": "stream",
     "text": [
      "Epoch 9:  86%|████████▋ | 83/96 [00:15<00:02,  5.30it/s]"
     ]
    },
    {
     "name": "stdout",
     "output_type": "stream",
     "text": [
      "torch.Size([1, 5, 64])\n",
      "torch.Size([1, 5, 64])\n",
      "torch.Size([1, 5, 64])\n",
      "torch.Size([1, 5, 64])\n",
      "torch.Size([1, 5, 64])\n",
      "torch.Size([1, 5, 64])\n"
     ]
    },
    {
     "name": "stderr",
     "output_type": "stream",
     "text": [
      "Epoch 9:  88%|████████▊ | 84/96 [00:15<00:02,  5.40it/s]"
     ]
    },
    {
     "name": "stdout",
     "output_type": "stream",
     "text": [
      "torch.Size([1, 5, 64])\n",
      "torch.Size([1, 5, 64])\n",
      "torch.Size([1, 5, 64])\n"
     ]
    },
    {
     "name": "stderr",
     "output_type": "stream",
     "text": [
      "Epoch 9:  90%|████████▉ | 86/96 [00:15<00:01,  5.23it/s]"
     ]
    },
    {
     "name": "stdout",
     "output_type": "stream",
     "text": [
      "torch.Size([1, 5, 64])\n",
      "torch.Size([1, 5, 64])\n",
      "torch.Size([1, 5, 64])\n"
     ]
    },
    {
     "name": "stderr",
     "output_type": "stream",
     "text": [
      "Epoch 9:  91%|█████████ | 87/96 [00:15<00:01,  5.55it/s]"
     ]
    },
    {
     "name": "stdout",
     "output_type": "stream",
     "text": [
      "torch.Size([1, 5, 64])\n",
      "torch.Size([1, 5, 64])\n",
      "torch.Size([1, 5, 64])\n",
      "torch.Size([1, 5, 64])\n",
      "torch.Size([1, 5, 64])\n",
      "torch.Size([1, 5, 64])\n"
     ]
    },
    {
     "name": "stderr",
     "output_type": "stream",
     "text": [
      "Epoch 9:  93%|█████████▎| 89/96 [00:16<00:01,  5.39it/s]"
     ]
    },
    {
     "name": "stdout",
     "output_type": "stream",
     "text": [
      "torch.Size([1, 5, 64])\n",
      "torch.Size([1, 5, 64])\n",
      "torch.Size([1, 5, 64])\n",
      "torch.Size([1, 5, 64])\n",
      "torch.Size([1, 5, 64])\n",
      "torch.Size([1, 5, 64])\n"
     ]
    },
    {
     "name": "stderr",
     "output_type": "stream",
     "text": [
      "Epoch 9:  94%|█████████▍| 90/96 [00:16<00:01,  5.64it/s]"
     ]
    },
    {
     "name": "stdout",
     "output_type": "stream",
     "text": [
      "torch.Size([1, 5, 64])\n",
      "torch.Size([1, 5, 64])\n",
      "torch.Size([1, 5, 64])\n"
     ]
    },
    {
     "name": "stderr",
     "output_type": "stream",
     "text": [
      "Epoch 9:  96%|█████████▌| 92/96 [00:16<00:00,  5.11it/s]"
     ]
    },
    {
     "name": "stdout",
     "output_type": "stream",
     "text": [
      "torch.Size([1, 5, 64])\n",
      "torch.Size([1, 5, 64])\n",
      "torch.Size([1, 5, 64])\n"
     ]
    },
    {
     "name": "stderr",
     "output_type": "stream",
     "text": [
      "Epoch 9:  97%|█████████▋| 93/96 [00:17<00:00,  5.24it/s]"
     ]
    },
    {
     "name": "stdout",
     "output_type": "stream",
     "text": [
      "torch.Size([1, 5, 64])\n",
      "torch.Size([1, 5, 64])\n",
      "torch.Size([1, 5, 64])\n",
      "torch.Size([1, 5, 64])\n",
      "torch.Size([1, 5, 64])\n",
      "torch.Size([1, 5, 64])\n"
     ]
    },
    {
     "name": "stderr",
     "output_type": "stream",
     "text": [
      "Epoch 9:  99%|█████████▉| 95/96 [00:17<00:00,  5.12it/s]"
     ]
    },
    {
     "name": "stdout",
     "output_type": "stream",
     "text": [
      "torch.Size([1, 5, 64])\n",
      "torch.Size([1, 5, 64])\n",
      "torch.Size([1, 5, 64])\n"
     ]
    },
    {
     "name": "stderr",
     "output_type": "stream",
     "text": [
      "Epoch 9: 100%|██████████| 96/96 [00:17<00:00,  5.09it/s]"
     ]
    },
    {
     "name": "stdout",
     "output_type": "stream",
     "text": [
      "torch.Size([1, 5, 64])\n",
      "torch.Size([1, 5, 64])\n",
      "torch.Size([1, 5, 64])\n"
     ]
    },
    {
     "name": "stderr",
     "output_type": "stream",
     "text": [
      "Epoch 10:   1%|          | 1/96 [00:00<00:14,  6.70it/s]"
     ]
    },
    {
     "name": "stdout",
     "output_type": "stream",
     "text": [
      "torch.Size([1, 5, 64])\n",
      "torch.Size([1, 5, 64])\n",
      "torch.Size([1, 5, 64])\n",
      "torch.Size([1, 5, 64])\n",
      "torch.Size([1, 5, 64])\n",
      "torch.Size([1, 5, 64])\n"
     ]
    },
    {
     "name": "stderr",
     "output_type": "stream",
     "text": [
      "Epoch 10:   3%|▎         | 3/96 [00:00<00:14,  6.45it/s]"
     ]
    },
    {
     "name": "stdout",
     "output_type": "stream",
     "text": [
      "torch.Size([1, 5, 64])\n",
      "torch.Size([1, 5, 64])\n",
      "torch.Size([1, 5, 64])\n",
      "torch.Size([1, 5, 64])\n",
      "torch.Size([1, 5, 64])\n",
      "torch.Size([1, 5, 64])\n"
     ]
    },
    {
     "name": "stderr",
     "output_type": "stream",
     "text": [
      "Epoch 10:   5%|▌         | 5/96 [00:00<00:13,  7.00it/s]"
     ]
    },
    {
     "name": "stdout",
     "output_type": "stream",
     "text": [
      "torch.Size([1, 5, 64])\n",
      "torch.Size([1, 5, 64])\n",
      "torch.Size([1, 5, 64])\n",
      "torch.Size([1, 5, 64])\n",
      "torch.Size([1, 5, 64])\n",
      "torch.Size([1, 5, 64])\n"
     ]
    },
    {
     "name": "stderr",
     "output_type": "stream",
     "text": [
      "Epoch 10:   7%|▋         | 7/96 [00:01<00:13,  6.72it/s]"
     ]
    },
    {
     "name": "stdout",
     "output_type": "stream",
     "text": [
      "torch.Size([1, 5, 64])\n",
      "torch.Size([1, 5, 64])\n",
      "torch.Size([1, 5, 64])\n",
      "torch.Size([1, 5, 64])\n",
      "torch.Size([1, 5, 64])\n",
      "torch.Size([1, 5, 64])\n"
     ]
    },
    {
     "name": "stderr",
     "output_type": "stream",
     "text": [
      "Epoch 10:   9%|▉         | 9/96 [00:01<00:13,  6.61it/s]"
     ]
    },
    {
     "name": "stdout",
     "output_type": "stream",
     "text": [
      "torch.Size([1, 5, 64])\n",
      "torch.Size([1, 5, 64])\n",
      "torch.Size([1, 5, 64])\n",
      "torch.Size([1, 5, 64])\n",
      "torch.Size([1, 5, 64])\n",
      "torch.Size([1, 5, 64])\n"
     ]
    },
    {
     "name": "stderr",
     "output_type": "stream",
     "text": [
      "Epoch 10:  11%|█▏        | 11/96 [00:01<00:12,  6.67it/s]"
     ]
    },
    {
     "name": "stdout",
     "output_type": "stream",
     "text": [
      "torch.Size([1, 5, 64])\n",
      "torch.Size([1, 5, 64])\n",
      "torch.Size([1, 5, 64])\n",
      "torch.Size([1, 5, 64])\n",
      "torch.Size([1, 5, 64])\n",
      "torch.Size([1, 5, 64])\n"
     ]
    },
    {
     "name": "stderr",
     "output_type": "stream",
     "text": [
      "Epoch 10:  14%|█▎        | 13/96 [00:01<00:13,  6.03it/s]"
     ]
    },
    {
     "name": "stdout",
     "output_type": "stream",
     "text": [
      "torch.Size([1, 5, 64])\n",
      "torch.Size([1, 5, 64])\n",
      "torch.Size([1, 5, 64])\n"
     ]
    },
    {
     "name": "stderr",
     "output_type": "stream",
     "text": [
      "Epoch 10:  15%|█▍        | 14/96 [00:02<00:13,  5.92it/s]"
     ]
    },
    {
     "name": "stdout",
     "output_type": "stream",
     "text": [
      "torch.Size([1, 5, 64])\n",
      "torch.Size([1, 5, 64])\n",
      "torch.Size([1, 5, 64])\n",
      "torch.Size([1, 5, 64])\n",
      "torch.Size([1, 5, 64])\n",
      "torch.Size([1, 5, 64])\n"
     ]
    },
    {
     "name": "stderr",
     "output_type": "stream",
     "text": [
      "Epoch 10:  17%|█▋        | 16/96 [00:02<00:14,  5.66it/s]"
     ]
    },
    {
     "name": "stdout",
     "output_type": "stream",
     "text": [
      "torch.Size([1, 5, 64])\n",
      "torch.Size([1, 5, 64])\n",
      "torch.Size([1, 5, 64])\n"
     ]
    },
    {
     "name": "stderr",
     "output_type": "stream",
     "text": [
      "Epoch 10:  18%|█▊        | 17/96 [00:02<00:14,  5.55it/s]"
     ]
    },
    {
     "name": "stdout",
     "output_type": "stream",
     "text": [
      "torch.Size([1, 5, 64])\n",
      "torch.Size([1, 5, 64])\n",
      "torch.Size([1, 5, 64])\n"
     ]
    },
    {
     "name": "stderr",
     "output_type": "stream",
     "text": [
      "Epoch 10:  19%|█▉        | 18/96 [00:02<00:13,  5.99it/s]"
     ]
    },
    {
     "name": "stdout",
     "output_type": "stream",
     "text": [
      "torch.Size([1, 5, 64])\n",
      "torch.Size([1, 5, 64])\n",
      "torch.Size([1, 5, 64])\n",
      "torch.Size([1, 5, 64])\n",
      "torch.Size([1, 5, 64])\n",
      "torch.Size([1, 5, 64])\n"
     ]
    },
    {
     "name": "stderr",
     "output_type": "stream",
     "text": [
      "Epoch 10:  21%|██        | 20/96 [00:03<00:13,  5.52it/s]"
     ]
    },
    {
     "name": "stdout",
     "output_type": "stream",
     "text": [
      "torch.Size([1, 5, 64])\n",
      "torch.Size([1, 5, 64])\n",
      "torch.Size([1, 5, 64])\n"
     ]
    },
    {
     "name": "stderr",
     "output_type": "stream",
     "text": [
      "Epoch 10:  22%|██▏       | 21/96 [00:03<00:13,  5.51it/s]"
     ]
    },
    {
     "name": "stdout",
     "output_type": "stream",
     "text": [
      "torch.Size([1, 5, 64])\n",
      "torch.Size([1, 5, 64])\n",
      "torch.Size([1, 5, 64])\n"
     ]
    },
    {
     "name": "stderr",
     "output_type": "stream",
     "text": [
      "Epoch 10:  23%|██▎       | 22/96 [00:03<00:13,  5.36it/s]"
     ]
    },
    {
     "name": "stdout",
     "output_type": "stream",
     "text": [
      "torch.Size([1, 5, 64])\n",
      "torch.Size([1, 5, 64])\n",
      "torch.Size([1, 5, 64])\n"
     ]
    },
    {
     "name": "stderr",
     "output_type": "stream",
     "text": [
      "Epoch 10:  24%|██▍       | 23/96 [00:03<00:13,  5.26it/s]"
     ]
    },
    {
     "name": "stdout",
     "output_type": "stream",
     "text": [
      "torch.Size([1, 5, 64])\n",
      "torch.Size([1, 5, 64])\n",
      "torch.Size([1, 5, 64])\n"
     ]
    },
    {
     "name": "stderr",
     "output_type": "stream",
     "text": [
      "Epoch 10:  25%|██▌       | 24/96 [00:04<00:14,  5.10it/s]"
     ]
    },
    {
     "name": "stdout",
     "output_type": "stream",
     "text": [
      "torch.Size([1, 5, 64])\n",
      "torch.Size([1, 5, 64])\n",
      "torch.Size([1, 5, 64])\n",
      "torch.Size([1, 5, 64])\n",
      "torch.Size([1, 5, 64])\n",
      "torch.Size([1, 5, 64])\n"
     ]
    },
    {
     "name": "stderr",
     "output_type": "stream",
     "text": [
      "Epoch 10:  27%|██▋       | 26/96 [00:04<00:14,  4.91it/s]"
     ]
    },
    {
     "name": "stdout",
     "output_type": "stream",
     "text": [
      "torch.Size([1, 5, 64])\n",
      "torch.Size([1, 5, 64])\n",
      "torch.Size([1, 5, 64])\n",
      "torch.Size([1, 5, 64])\n",
      "torch.Size([1, 5, 64])\n",
      "torch.Size([1, 5, 64])\n"
     ]
    },
    {
     "name": "stderr",
     "output_type": "stream",
     "text": [
      "Epoch 10:  29%|██▉       | 28/96 [00:04<00:14,  4.71it/s]"
     ]
    },
    {
     "name": "stdout",
     "output_type": "stream",
     "text": [
      "torch.Size([1, 5, 64])\n",
      "torch.Size([1, 5, 64])\n",
      "torch.Size([1, 5, 64])\n",
      "torch.Size([1, 5, 64])\n",
      "torch.Size([1, 5, 64])\n",
      "torch.Size([1, 5, 64])\n"
     ]
    },
    {
     "name": "stderr",
     "output_type": "stream",
     "text": [
      "Epoch 10:  31%|███▏      | 30/96 [00:05<00:13,  4.77it/s]"
     ]
    },
    {
     "name": "stdout",
     "output_type": "stream",
     "text": [
      "torch.Size([1, 5, 64])\n",
      "torch.Size([1, 5, 64])\n",
      "torch.Size([1, 5, 64])\n"
     ]
    },
    {
     "name": "stderr",
     "output_type": "stream",
     "text": [
      "Epoch 10:  32%|███▏      | 31/96 [00:05<00:13,  4.77it/s]"
     ]
    },
    {
     "name": "stdout",
     "output_type": "stream",
     "text": [
      "torch.Size([1, 5, 64])\n",
      "torch.Size([1, 5, 64])\n",
      "torch.Size([1, 5, 64])\n"
     ]
    },
    {
     "name": "stderr",
     "output_type": "stream",
     "text": [
      "Epoch 10:  33%|███▎      | 32/96 [00:05<00:13,  4.91it/s]"
     ]
    },
    {
     "name": "stdout",
     "output_type": "stream",
     "text": [
      "torch.Size([1, 5, 64])\n",
      "torch.Size([1, 5, 64])\n",
      "torch.Size([1, 5, 64])\n"
     ]
    },
    {
     "name": "stderr",
     "output_type": "stream",
     "text": [
      "Epoch 10:  34%|███▍      | 33/96 [00:05<00:12,  4.92it/s]"
     ]
    },
    {
     "name": "stdout",
     "output_type": "stream",
     "text": [
      "torch.Size([1, 5, 64])\n",
      "torch.Size([1, 5, 64])\n",
      "torch.Size([1, 5, 64])\n"
     ]
    },
    {
     "name": "stderr",
     "output_type": "stream",
     "text": [
      "Epoch 10:  35%|███▌      | 34/96 [00:06<00:12,  5.01it/s]"
     ]
    },
    {
     "name": "stdout",
     "output_type": "stream",
     "text": [
      "torch.Size([1, 5, 64])\n",
      "torch.Size([1, 5, 64])\n",
      "torch.Size([1, 5, 64])\n",
      "torch.Size([1, 5, 64])\n",
      "torch.Size([1, 5, 64])\n",
      "torch.Size([1, 5, 64])\n"
     ]
    },
    {
     "name": "stderr",
     "output_type": "stream",
     "text": [
      "Epoch 10:  38%|███▊      | 36/96 [00:06<00:11,  5.04it/s]"
     ]
    },
    {
     "name": "stdout",
     "output_type": "stream",
     "text": [
      "torch.Size([1, 5, 64])\n",
      "torch.Size([1, 5, 64])\n",
      "torch.Size([1, 5, 64])\n"
     ]
    },
    {
     "name": "stderr",
     "output_type": "stream",
     "text": [
      "Epoch 10:  39%|███▊      | 37/96 [00:06<00:11,  5.03it/s]"
     ]
    },
    {
     "name": "stdout",
     "output_type": "stream",
     "text": [
      "torch.Size([1, 5, 64])\n",
      "torch.Size([1, 5, 64])\n",
      "torch.Size([1, 5, 64])\n"
     ]
    },
    {
     "name": "stderr",
     "output_type": "stream",
     "text": [
      "Epoch 10:  40%|███▉      | 38/96 [00:06<00:10,  5.37it/s]"
     ]
    },
    {
     "name": "stdout",
     "output_type": "stream",
     "text": [
      "torch.Size([1, 5, 64])\n",
      "torch.Size([1, 5, 64])\n",
      "torch.Size([1, 5, 64])\n",
      "torch.Size([1, 5, 64])\n",
      "torch.Size([1, 5, 64])\n",
      "torch.Size([1, 5, 64])\n"
     ]
    },
    {
     "name": "stderr",
     "output_type": "stream",
     "text": [
      "Epoch 10:  42%|████▏     | 40/96 [00:07<00:09,  6.13it/s]"
     ]
    },
    {
     "name": "stdout",
     "output_type": "stream",
     "text": [
      "torch.Size([1, 5, 64])\n",
      "torch.Size([1, 5, 64])\n",
      "torch.Size([1, 5, 64])\n",
      "torch.Size([1, 5, 64])\n",
      "torch.Size([1, 5, 64])\n",
      "torch.Size([1, 5, 64])\n"
     ]
    },
    {
     "name": "stderr",
     "output_type": "stream",
     "text": [
      "Epoch 10:  44%|████▍     | 42/96 [00:07<00:07,  6.78it/s]"
     ]
    },
    {
     "name": "stdout",
     "output_type": "stream",
     "text": [
      "torch.Size([1, 5, 64])\n",
      "torch.Size([1, 5, 64])\n",
      "torch.Size([1, 5, 64])\n",
      "torch.Size([1, 5, 64])\n",
      "torch.Size([1, 5, 64])\n",
      "torch.Size([1, 5, 64])\n"
     ]
    },
    {
     "name": "stderr",
     "output_type": "stream",
     "text": [
      "Epoch 10:  46%|████▌     | 44/96 [00:07<00:07,  6.90it/s]"
     ]
    },
    {
     "name": "stdout",
     "output_type": "stream",
     "text": [
      "torch.Size([1, 5, 64])\n",
      "torch.Size([1, 5, 64])\n",
      "torch.Size([1, 5, 64])\n",
      "torch.Size([1, 5, 64])\n",
      "torch.Size([1, 5, 64])\n",
      "torch.Size([1, 5, 64])\n"
     ]
    },
    {
     "name": "stderr",
     "output_type": "stream",
     "text": [
      "Epoch 10:  48%|████▊     | 46/96 [00:07<00:07,  6.83it/s]"
     ]
    },
    {
     "name": "stdout",
     "output_type": "stream",
     "text": [
      "torch.Size([1, 5, 64])\n",
      "torch.Size([1, 5, 64])\n",
      "torch.Size([1, 5, 64])\n",
      "torch.Size([1, 5, 64])\n",
      "torch.Size([1, 5, 64])\n",
      "torch.Size([1, 5, 64])\n"
     ]
    },
    {
     "name": "stderr",
     "output_type": "stream",
     "text": [
      "Epoch 10:  50%|█████     | 48/96 [00:08<00:06,  7.39it/s]"
     ]
    },
    {
     "name": "stdout",
     "output_type": "stream",
     "text": [
      "torch.Size([1, 5, 64])\n",
      "torch.Size([1, 5, 64])\n",
      "torch.Size([1, 5, 64])\n",
      "torch.Size([1, 5, 64])\n",
      "torch.Size([1, 5, 64])\n",
      "torch.Size([1, 5, 64])\n"
     ]
    },
    {
     "name": "stderr",
     "output_type": "stream",
     "text": [
      "Epoch 10:  52%|█████▏    | 50/96 [00:08<00:05,  7.70it/s]"
     ]
    },
    {
     "name": "stdout",
     "output_type": "stream",
     "text": [
      "torch.Size([1, 5, 64])\n",
      "torch.Size([1, 5, 64])\n",
      "torch.Size([1, 5, 64])\n",
      "torch.Size([1, 5, 64])\n",
      "torch.Size([1, 5, 64])\n",
      "torch.Size([1, 5, 64])\n"
     ]
    },
    {
     "name": "stderr",
     "output_type": "stream",
     "text": [
      "Epoch 10:  54%|█████▍    | 52/96 [00:08<00:05,  7.81it/s]"
     ]
    },
    {
     "name": "stdout",
     "output_type": "stream",
     "text": [
      "torch.Size([1, 5, 64])\n",
      "torch.Size([1, 5, 64])\n",
      "torch.Size([1, 5, 64])\n",
      "torch.Size([1, 5, 64])\n",
      "torch.Size([1, 5, 64])\n",
      "torch.Size([1, 5, 64])\n"
     ]
    },
    {
     "name": "stderr",
     "output_type": "stream",
     "text": [
      "Epoch 10:  56%|█████▋    | 54/96 [00:08<00:05,  7.91it/s]"
     ]
    },
    {
     "name": "stdout",
     "output_type": "stream",
     "text": [
      "torch.Size([1, 5, 64])\n",
      "torch.Size([1, 5, 64])\n",
      "torch.Size([1, 5, 64])\n",
      "torch.Size([1, 5, 64])\n",
      "torch.Size([1, 5, 64])\n",
      "torch.Size([1, 5, 64])\n"
     ]
    },
    {
     "name": "stderr",
     "output_type": "stream",
     "text": [
      "Epoch 10:  57%|█████▋    | 55/96 [00:09<00:05,  7.87it/s]"
     ]
    },
    {
     "name": "stdout",
     "output_type": "stream",
     "text": [
      "torch.Size([1, 5, 64])\n",
      "torch.Size([1, 5, 64])\n",
      "torch.Size([1, 5, 64])\n"
     ]
    },
    {
     "name": "stderr",
     "output_type": "stream",
     "text": [
      "Epoch 10:  59%|█████▉    | 57/96 [00:09<00:05,  6.79it/s]"
     ]
    },
    {
     "name": "stdout",
     "output_type": "stream",
     "text": [
      "torch.Size([1, 5, 64])\n",
      "torch.Size([1, 5, 64])\n",
      "torch.Size([1, 5, 64])\n",
      "torch.Size([1, 5, 64])\n",
      "torch.Size([1, 5, 64])\n",
      "torch.Size([1, 5, 64])\n"
     ]
    },
    {
     "name": "stderr",
     "output_type": "stream",
     "text": [
      "Epoch 10:  61%|██████▏   | 59/96 [00:09<00:05,  6.69it/s]"
     ]
    },
    {
     "name": "stdout",
     "output_type": "stream",
     "text": [
      "torch.Size([1, 5, 64])\n",
      "torch.Size([1, 5, 64])\n",
      "torch.Size([1, 5, 64])\n",
      "torch.Size([1, 5, 64])\n",
      "torch.Size([1, 5, 64])\n",
      "torch.Size([1, 5, 64])\n"
     ]
    },
    {
     "name": "stderr",
     "output_type": "stream",
     "text": [
      "Epoch 10:  64%|██████▎   | 61/96 [00:10<00:05,  6.51it/s]"
     ]
    },
    {
     "name": "stdout",
     "output_type": "stream",
     "text": [
      "torch.Size([1, 5, 64])\n",
      "torch.Size([1, 5, 64])\n",
      "torch.Size([1, 5, 64])\n",
      "torch.Size([1, 5, 64])\n",
      "torch.Size([1, 5, 64])\n",
      "torch.Size([1, 5, 64])\n"
     ]
    },
    {
     "name": "stderr",
     "output_type": "stream",
     "text": [
      "Epoch 10:  66%|██████▌   | 63/96 [00:10<00:05,  5.75it/s]"
     ]
    },
    {
     "name": "stdout",
     "output_type": "stream",
     "text": [
      "torch.Size([1, 5, 64])\n",
      "torch.Size([1, 5, 64])\n",
      "torch.Size([1, 5, 64])\n",
      "torch.Size([1, 5, 64])\n",
      "torch.Size([1, 5, 64])\n",
      "torch.Size([1, 5, 64])\n"
     ]
    },
    {
     "name": "stderr",
     "output_type": "stream",
     "text": [
      "Epoch 10:  68%|██████▊   | 65/96 [00:10<00:05,  5.55it/s]"
     ]
    },
    {
     "name": "stdout",
     "output_type": "stream",
     "text": [
      "torch.Size([1, 5, 64])\n",
      "torch.Size([1, 5, 64])\n",
      "torch.Size([1, 5, 64])\n",
      "torch.Size([1, 5, 64])\n",
      "torch.Size([1, 5, 64])\n",
      "torch.Size([1, 5, 64])\n"
     ]
    },
    {
     "name": "stderr",
     "output_type": "stream",
     "text": [
      "Epoch 10:  70%|██████▉   | 67/96 [00:11<00:05,  5.52it/s]"
     ]
    },
    {
     "name": "stdout",
     "output_type": "stream",
     "text": [
      "torch.Size([1, 5, 64])\n",
      "torch.Size([1, 5, 64])\n",
      "torch.Size([1, 5, 64])\n"
     ]
    },
    {
     "name": "stderr",
     "output_type": "stream",
     "text": [
      "Epoch 10:  71%|███████   | 68/96 [00:11<00:05,  5.60it/s]"
     ]
    },
    {
     "name": "stdout",
     "output_type": "stream",
     "text": [
      "torch.Size([1, 5, 64])\n",
      "torch.Size([1, 5, 64])\n",
      "torch.Size([1, 5, 64])\n",
      "torch.Size([1, 5, 64])\n",
      "torch.Size([1, 5, 64])\n",
      "torch.Size([1, 5, 64])\n"
     ]
    },
    {
     "name": "stderr",
     "output_type": "stream",
     "text": [
      "Epoch 10:  73%|███████▎  | 70/96 [00:11<00:04,  5.35it/s]"
     ]
    },
    {
     "name": "stdout",
     "output_type": "stream",
     "text": [
      "torch.Size([1, 5, 64])\n",
      "torch.Size([1, 5, 64])\n",
      "torch.Size([1, 5, 64])\n"
     ]
    },
    {
     "name": "stderr",
     "output_type": "stream",
     "text": [
      "Epoch 10:  74%|███████▍  | 71/96 [00:11<00:04,  5.76it/s]"
     ]
    },
    {
     "name": "stdout",
     "output_type": "stream",
     "text": [
      "torch.Size([1, 5, 64])\n",
      "torch.Size([1, 5, 64])\n",
      "torch.Size([1, 5, 64])\n",
      "torch.Size([1, 5, 64])\n",
      "torch.Size([1, 5, 64])\n",
      "torch.Size([1, 5, 64])\n"
     ]
    },
    {
     "name": "stderr",
     "output_type": "stream",
     "text": [
      "Epoch 10:  75%|███████▌  | 72/96 [00:12<00:04,  5.89it/s]"
     ]
    },
    {
     "name": "stdout",
     "output_type": "stream",
     "text": [
      "torch.Size([1, 5, 64])\n",
      "torch.Size([1, 5, 64])\n",
      "torch.Size([1, 5, 64])\n"
     ]
    },
    {
     "name": "stderr",
     "output_type": "stream",
     "text": [
      "Epoch 10:  77%|███████▋  | 74/96 [00:12<00:03,  5.70it/s]"
     ]
    },
    {
     "name": "stdout",
     "output_type": "stream",
     "text": [
      "torch.Size([1, 5, 64])\n",
      "torch.Size([1, 5, 64])\n",
      "torch.Size([1, 5, 64])\n",
      "torch.Size([1, 5, 64])\n",
      "torch.Size([1, 5, 64])\n",
      "torch.Size([1, 5, 64])\n"
     ]
    },
    {
     "name": "stderr",
     "output_type": "stream",
     "text": [
      "Epoch 10:  79%|███████▉  | 76/96 [00:12<00:03,  5.31it/s]"
     ]
    },
    {
     "name": "stdout",
     "output_type": "stream",
     "text": [
      "torch.Size([1, 5, 64])\n",
      "torch.Size([1, 5, 64])\n",
      "torch.Size([1, 5, 64])\n"
     ]
    },
    {
     "name": "stderr",
     "output_type": "stream",
     "text": [
      "Epoch 10:  80%|████████  | 77/96 [00:13<00:03,  5.32it/s]"
     ]
    },
    {
     "name": "stdout",
     "output_type": "stream",
     "text": [
      "torch.Size([1, 5, 64])\n",
      "torch.Size([1, 5, 64])\n",
      "torch.Size([1, 5, 64])\n"
     ]
    },
    {
     "name": "stderr",
     "output_type": "stream",
     "text": [
      "Epoch 10:  81%|████████▏ | 78/96 [00:13<00:03,  5.74it/s]"
     ]
    },
    {
     "name": "stdout",
     "output_type": "stream",
     "text": [
      "torch.Size([1, 5, 64])\n",
      "torch.Size([1, 5, 64])\n",
      "torch.Size([1, 5, 64])\n",
      "torch.Size([1, 5, 64])\n",
      "torch.Size([1, 5, 64])\n",
      "torch.Size([1, 5, 64])\n"
     ]
    },
    {
     "name": "stderr",
     "output_type": "stream",
     "text": [
      "Epoch 10:  83%|████████▎ | 80/96 [00:13<00:02,  6.67it/s]"
     ]
    },
    {
     "name": "stdout",
     "output_type": "stream",
     "text": [
      "torch.Size([1, 5, 64])\n",
      "torch.Size([1, 5, 64])\n",
      "torch.Size([1, 5, 64])\n",
      "torch.Size([1, 5, 64])\n",
      "torch.Size([1, 5, 64])\n",
      "torch.Size([1, 5, 64])\n"
     ]
    },
    {
     "name": "stderr",
     "output_type": "stream",
     "text": [
      "Epoch 10:  85%|████████▌ | 82/96 [00:13<00:01,  7.43it/s]"
     ]
    },
    {
     "name": "stdout",
     "output_type": "stream",
     "text": [
      "torch.Size([1, 5, 64])\n",
      "torch.Size([1, 5, 64])\n",
      "torch.Size([1, 5, 64])\n",
      "torch.Size([1, 5, 64])\n",
      "torch.Size([1, 5, 64])\n",
      "torch.Size([1, 5, 64])\n"
     ]
    },
    {
     "name": "stderr",
     "output_type": "stream",
     "text": [
      "Epoch 10:  88%|████████▊ | 84/96 [00:13<00:01,  7.52it/s]"
     ]
    },
    {
     "name": "stdout",
     "output_type": "stream",
     "text": [
      "torch.Size([1, 5, 64])\n",
      "torch.Size([1, 5, 64])\n",
      "torch.Size([1, 5, 64])\n",
      "torch.Size([1, 5, 64])\n",
      "torch.Size([1, 5, 64])\n",
      "torch.Size([1, 5, 64])\n"
     ]
    },
    {
     "name": "stderr",
     "output_type": "stream",
     "text": [
      "Epoch 10:  90%|████████▉ | 86/96 [00:14<00:01,  6.26it/s]"
     ]
    },
    {
     "name": "stdout",
     "output_type": "stream",
     "text": [
      "torch.Size([1, 5, 64])\n",
      "torch.Size([1, 5, 64])\n",
      "torch.Size([1, 5, 64])\n"
     ]
    },
    {
     "name": "stderr",
     "output_type": "stream",
     "text": [
      "Epoch 10:  91%|█████████ | 87/96 [00:14<00:01,  5.75it/s]"
     ]
    },
    {
     "name": "stdout",
     "output_type": "stream",
     "text": [
      "torch.Size([1, 5, 64])\n",
      "torch.Size([1, 5, 64])\n",
      "torch.Size([1, 5, 64])\n",
      "torch.Size([1, 5, 64])\n",
      "torch.Size([1, 5, 64])\n",
      "torch.Size([1, 5, 64])\n"
     ]
    },
    {
     "name": "stderr",
     "output_type": "stream",
     "text": [
      "Epoch 10:  92%|█████████▏| 88/96 [00:14<00:01,  5.43it/s]"
     ]
    },
    {
     "name": "stdout",
     "output_type": "stream",
     "text": [
      "torch.Size([1, 5, 64])\n",
      "torch.Size([1, 5, 64])\n",
      "torch.Size([1, 5, 64])\n"
     ]
    },
    {
     "name": "stderr",
     "output_type": "stream",
     "text": [
      "Epoch 10:  94%|█████████▍| 90/96 [00:15<00:01,  5.31it/s]"
     ]
    },
    {
     "name": "stdout",
     "output_type": "stream",
     "text": [
      "torch.Size([1, 5, 64])\n",
      "torch.Size([1, 5, 64])\n",
      "torch.Size([1, 5, 64])\n",
      "torch.Size([1, 5, 64])\n",
      "torch.Size([1, 5, 64])\n",
      "torch.Size([1, 5, 64])\n"
     ]
    },
    {
     "name": "stderr",
     "output_type": "stream",
     "text": [
      "Epoch 10:  96%|█████████▌| 92/96 [00:15<00:00,  5.57it/s]"
     ]
    },
    {
     "name": "stdout",
     "output_type": "stream",
     "text": [
      "torch.Size([1, 5, 64])\n",
      "torch.Size([1, 5, 64])\n",
      "torch.Size([1, 5, 64])\n",
      "torch.Size([1, 5, 64])\n",
      "torch.Size([1, 5, 64])\n",
      "torch.Size([1, 5, 64])\n"
     ]
    },
    {
     "name": "stderr",
     "output_type": "stream",
     "text": [
      "Epoch 10:  98%|█████████▊| 94/96 [00:15<00:00,  5.58it/s]"
     ]
    },
    {
     "name": "stdout",
     "output_type": "stream",
     "text": [
      "torch.Size([1, 5, 64])\n",
      "torch.Size([1, 5, 64])\n",
      "torch.Size([1, 5, 64])\n",
      "torch.Size([1, 5, 64])\n",
      "torch.Size([1, 5, 64])\n",
      "torch.Size([1, 5, 64])\n"
     ]
    },
    {
     "name": "stderr",
     "output_type": "stream",
     "text": [
      "                                                         "
     ]
    },
    {
     "name": "stdout",
     "output_type": "stream",
     "text": [
      "torch.Size([1, 5, 64])\n",
      "torch.Size([1, 5, 64])\n",
      "torch.Size([1, 5, 64])\n"
     ]
    },
    {
     "name": "stderr",
     "output_type": "stream",
     "text": [
      "\r"
     ]
    },
    {
     "data": {
      "application/vnd.jupyter.widget-view+json": {
       "model_id": "eab15b7de9924268b9be163a6a4e125a",
       "version_major": 2,
       "version_minor": 0
      },
      "text/plain": [
       "VBox(children=(Label(value='0.069 MB of 0.069 MB uploaded\\r'), FloatProgress(value=1.0, max=1.0)))"
      ]
     },
     "metadata": {},
     "output_type": "display_data"
    },
    {
     "data": {
      "text/html": [
       "<style>\n",
       "    table.wandb td:nth-child(1) { padding: 0 10px; text-align: left ; width: auto;} td:nth-child(2) {text-align: left ; width: 100%}\n",
       "    .wandb-row { display: flex; flex-direction: row; flex-wrap: wrap; justify-content: flex-start; width: 100% }\n",
       "    .wandb-col { display: flex; flex-direction: column; flex-basis: 100%; flex: 1; padding: 10px; }\n",
       "    </style>\n",
       "<div class=\"wandb-row\"><div class=\"wandb-col\"><h3>Run history:</h3><br/><table class=\"wandb\"><tr><td>average_loss</td><td>█▇▄▄▁▂█▄▂▄</td></tr><tr><td>learning_rate</td><td>▁▁▁▁▁▁▁▁▁▁▁▁▁▁▁▁▁▁▁▁▁▁▁▁▁▁▁▁▁▁▁▁▁▁▁▁▁▁▁▁</td></tr><tr><td>loss</td><td>▃▁▃▂▃▁▇▂▄▂▁▃▄▁▃▃▂▄▁▁▁▄▁▃▁▁▂▁▂▃▂▃▂▅▁▃▁█▁▂</td></tr></table><br/></div><div class=\"wandb-col\"><h3>Run summary:</h3><br/><table class=\"wandb\"><tr><td>average_loss</td><td>4.06192</td></tr><tr><td>learning_rate</td><td>0.01</td></tr><tr><td>loss</td><td>9.8053</td></tr></table><br/></div></div>"
      ],
      "text/plain": [
       "<IPython.core.display.HTML object>"
      ]
     },
     "metadata": {},
     "output_type": "display_data"
    },
    {
     "data": {
      "text/html": [
       " View run <strong style=\"color:#cdcd00\">bias weighting,increased LR</strong> at: <a href='https://wandb.ai/omareweis123/word2vec_attention/runs/va7ps4h3' target=\"_blank\">https://wandb.ai/omareweis123/word2vec_attention/runs/va7ps4h3</a><br/> View project at: <a href='https://wandb.ai/omareweis123/word2vec_attention' target=\"_blank\">https://wandb.ai/omareweis123/word2vec_attention</a><br/>Synced 5 W&B file(s), 0 media file(s), 2 artifact file(s) and 0 other file(s)"
      ],
      "text/plain": [
       "<IPython.core.display.HTML object>"
      ]
     },
     "metadata": {},
     "output_type": "display_data"
    },
    {
     "data": {
      "text/html": [
       "Find logs at: <code>.\\wandb\\run-20241105_210008-va7ps4h3\\logs</code>"
      ],
      "text/plain": [
       "<IPython.core.display.HTML object>"
      ]
     },
     "metadata": {},
     "output_type": "display_data"
    }
   ],
   "source": [
    "import torch\n",
    "import more_itertools\n",
    "import tqdm\n",
    "import wandb\n",
    "\n",
    "# Initialize W&B\n",
    "wandb.init(project=\"word2vec_attention\", entity=\"omareweis123\", name='bias weighting,increased LR')\n",
    "\n",
    "# Set parameters\n",
    "learning_rate = 0.01  # Define your learning rate\n",
    "mFoo = mFoo.to(device)\n",
    "\n",
    "# Set context size\n",
    "context_size = 2  # Example context size\n",
    "window_size = 2 * context_size + 1  # Total tokens in the window\n",
    "\n",
    "# Initialize the optimizer\n",
    "opFoo = torch.optim.Adam(mFoo.parameters(), lr=learning_rate)\n",
    "\n",
    "## Instantiate the CrossEntropyLoss\n",
    "criterion = torch.nn.CrossEntropyLoss()\n",
    "\n",
    "# Training loop\n",
    "for epoch in range(10):\n",
    "    wins = list(more_itertools.windowed(tokens[:100], window_size))  # Convert to list for easier iteration\n",
    "    prgs = tqdm.tqdm(wins, total=len(wins), desc=f\"Epoch {epoch + 1}\", leave=False)\n",
    "\n",
    "    total_loss = 0.0  # Initialize total loss for the epoch\n",
    "\n",
    "    for win in prgs:\n",
    "        # Prepare input and target tensors for a single window\n",
    "        inpt = torch.LongTensor([win[context_size]]).to(device)  # Central token for the window\n",
    "        trgs = torch.LongTensor([win[:context_size] + win[context_size + 1:]]).to(device)  # Context tokens (left and right)\n",
    "\n",
    "        # Zero gradients\n",
    "        opFoo.zero_grad()\n",
    "        \n",
    "        # Forward pass\n",
    "        out = mFoo(inpt, trgs)\n",
    "        \n",
    "        # Assuming `out` is the output logits from the model\n",
    "        true_index = torch.LongTensor([win[context_size]]).to(device)  # The index of the central token\n",
    "\n",
    "        # Calculate the loss\n",
    "        loss = criterion(out, true_index)\n",
    "        \n",
    "        # Backward pass and optimization\n",
    "        loss.backward()\n",
    "        opFoo.step()\n",
    "\n",
    "        # Accumulate loss\n",
    "        total_loss += loss.item()\n",
    "\n",
    "        # Log the loss\n",
    "        wandb.log({'loss': loss.item(), 'learning_rate': learning_rate})\n",
    "\n",
    "    # Calculate and log average loss for the epoch\n",
    "    average_loss = total_loss / len(wins) if len(wins) > 0 else 0\n",
    "    wandb.log({'average_loss': average_loss})\n",
    "\n",
    "# Finish the W&B logging\n",
    "\n",
    "wandb.finish()"
   ]
  },
  {
   "cell_type": "code",
   "execution_count": null,
   "metadata": {},
   "outputs": [
    {
     "data": {
      "text/plain": [
       "tensor([[4148,  159,   50, 6438]])"
      ]
     },
     "execution_count": 58,
     "metadata": {},
     "output_type": "execute_result"
    }
   ],
   "source": []
  },
  {
   "cell_type": "code",
   "execution_count": null,
   "metadata": {},
   "outputs": [],
   "source": [
    "# mFoo(mFoo.emb(torch.tensor(1)), mFoo.emb(torch.tensor(1)))\n",
    "v1 = mFoo.emb(torch.tensor(1))\n",
    "v2 = mFoo.emb(torch.tensor(0))"
   ]
  },
  {
   "cell_type": "code",
   "execution_count": 64,
   "metadata": {},
   "outputs": [],
   "source": [
    "out = mFoo(inpt, trgs)"
   ]
  },
  {
   "cell_type": "code",
   "execution_count": 63,
   "metadata": {},
   "outputs": [
    {
     "name": "stdout",
     "output_type": "stream",
     "text": [
      "tensor([84])\n",
      "tensor([[4148,  159,   50, 6438]])\n"
     ]
    }
   ],
   "source": [
    "print (inpt)\n",
    "print (trgs)"
   ]
  },
  {
   "cell_type": "code",
   "execution_count": 73,
   "metadata": {},
   "outputs": [
    {
     "name": "stdout",
     "output_type": "stream",
     "text": [
      "torch.Size([1, 63642])\n",
      "tensor(7.9093, grad_fn=<UnbindBackward0>)\n",
      "tensor([[-9.3935, -9.5191, -9.6235,  ..., -8.9609, -9.7295, -9.7800]],\n",
      "       grad_fn=<MmBackward0>)\n"
     ]
    },
    {
     "data": {
      "text/plain": [
       "5234"
      ]
     },
     "execution_count": 73,
     "metadata": {},
     "output_type": "execute_result"
    }
   ],
   "source": [
    "print (out.shape) # Vocabulary Size - this output contains the probabiltiy distribution after the activation function.\n",
    "''' This means we are missing the activation function in the model.'''\n",
    "print (max(out[0])) # This is the token selected \n",
    "print (out)\n",
    "words_to_ids['anarchism']"
   ]
  },
  {
   "cell_type": "code",
   "execution_count": 38,
   "metadata": {},
   "outputs": [
    {
     "name": "stdout",
     "output_type": "stream",
     "text": [
      "torch.Size([64])\n",
      "torch.Size([64])\n"
     ]
    }
   ],
   "source": [
    "print(v1.shape)\n",
    "print(v2.shape)"
   ]
  },
  {
   "cell_type": "code",
   "execution_count": null,
   "metadata": {},
   "outputs": [
    {
     "name": "stdout",
     "output_type": "stream",
     "text": [
      "torch.Size([1, 64])\n"
     ]
    }
   ],
   "source": [
    "v22 = torch.unsqueeze(v2, 1)\n",
    "print(v22.T.shape)\n"
   ]
  },
  {
   "cell_type": "code",
   "execution_count": null,
   "metadata": {},
   "outputs": [],
   "source": []
  },
  {
   "cell_type": "code",
   "execution_count": null,
   "metadata": {},
   "outputs": [
    {
     "ename": "AttributeError",
     "evalue": "'int' object has no attribute 'unsqueeze'",
     "output_type": "error",
     "traceback": [
      "\u001b[1;31m---------------------------------------------------------------------------\u001b[0m",
      "\u001b[1;31mAttributeError\u001b[0m                            Traceback (most recent call last)",
      "Cell \u001b[1;32mIn[52], line 1\u001b[0m\n\u001b[1;32m----> 1\u001b[0m \u001b[43mmFoo\u001b[49m\u001b[43m(\u001b[49m\u001b[38;5;241;43m0\u001b[39;49m\u001b[43m,\u001b[49m\u001b[43m \u001b[49m\u001b[43mv222\u001b[49m\u001b[43m)\u001b[49m\n\u001b[0;32m      2\u001b[0m \u001b[38;5;66;03m# v222 = torch.unsqueeze(v2, 1).T\u001b[39;00m\n",
      "File \u001b[1;32mc:\\Users\\omare\\AppData\\Local\\Programs\\Python\\Python310\\lib\\site-packages\\torch\\nn\\modules\\module.py:1194\u001b[0m, in \u001b[0;36mModule._call_impl\u001b[1;34m(self, *input, **kwargs)\u001b[0m\n\u001b[0;32m   1190\u001b[0m \u001b[38;5;66;03m# If we don't have any hooks, we want to skip the rest of the logic in\u001b[39;00m\n\u001b[0;32m   1191\u001b[0m \u001b[38;5;66;03m# this function, and just call forward.\u001b[39;00m\n\u001b[0;32m   1192\u001b[0m \u001b[38;5;28;01mif\u001b[39;00m \u001b[38;5;129;01mnot\u001b[39;00m (\u001b[38;5;28mself\u001b[39m\u001b[38;5;241m.\u001b[39m_backward_hooks \u001b[38;5;129;01mor\u001b[39;00m \u001b[38;5;28mself\u001b[39m\u001b[38;5;241m.\u001b[39m_forward_hooks \u001b[38;5;129;01mor\u001b[39;00m \u001b[38;5;28mself\u001b[39m\u001b[38;5;241m.\u001b[39m_forward_pre_hooks \u001b[38;5;129;01mor\u001b[39;00m _global_backward_hooks\n\u001b[0;32m   1193\u001b[0m         \u001b[38;5;129;01mor\u001b[39;00m _global_forward_hooks \u001b[38;5;129;01mor\u001b[39;00m _global_forward_pre_hooks):\n\u001b[1;32m-> 1194\u001b[0m     \u001b[38;5;28;01mreturn\u001b[39;00m forward_call(\u001b[38;5;241m*\u001b[39m\u001b[38;5;28minput\u001b[39m, \u001b[38;5;241m*\u001b[39m\u001b[38;5;241m*\u001b[39mkwargs)\n\u001b[0;32m   1195\u001b[0m \u001b[38;5;66;03m# Do not call functions when jit is used\u001b[39;00m\n\u001b[0;32m   1196\u001b[0m full_backward_hooks, non_full_backward_hooks \u001b[38;5;241m=\u001b[39m [], []\n",
      "Cell \u001b[1;32mIn[22], line 19\u001b[0m, in \u001b[0;36mSkipGramFoo.forward\u001b[1;34m(self, inpt, trgs)\u001b[0m\n\u001b[0;32m     13\u001b[0m \u001b[38;5;28;01mdef\u001b[39;00m \u001b[38;5;21mforward\u001b[39m(\u001b[38;5;28mself\u001b[39m, inpt, trgs):\n\u001b[0;32m     14\u001b[0m     \u001b[38;5;66;03m# Stack input and target tensors\u001b[39;00m\n\u001b[0;32m     15\u001b[0m     \u001b[38;5;66;03m# print(\"this is the shape inpt\", inpt.shape)  # [1]\u001b[39;00m\n\u001b[0;32m     16\u001b[0m     \u001b[38;5;66;03m# print(\"this is the shape trgs\", trgs.shape)  # [1,4]\u001b[39;00m\n\u001b[0;32m     17\u001b[0m     \n\u001b[0;32m     18\u001b[0m     \u001b[38;5;66;03m# Unsqueeze input\u001b[39;00m\n\u001b[1;32m---> 19\u001b[0m     inpt \u001b[38;5;241m=\u001b[39m \u001b[43minpt\u001b[49m\u001b[38;5;241;43m.\u001b[39;49m\u001b[43munsqueeze\u001b[49m(\u001b[38;5;241m1\u001b[39m)\n\u001b[0;32m     20\u001b[0m     \u001b[38;5;66;03m# print(\"this is the shape new inpt\", inpt.shape)  # [1,1]\u001b[39;00m\n\u001b[0;32m     21\u001b[0m     \n\u001b[0;32m     22\u001b[0m     \u001b[38;5;66;03m# Concatenate input and targets\u001b[39;00m\n\u001b[0;32m     23\u001b[0m     cw_tensor \u001b[38;5;241m=\u001b[39m torch\u001b[38;5;241m.\u001b[39mcat((inpt, trgs), dim\u001b[38;5;241m=\u001b[39m\u001b[38;5;241m1\u001b[39m)\n",
      "\u001b[1;31mAttributeError\u001b[0m: 'int' object has no attribute 'unsqueeze'"
     ]
    }
   ],
   "source": [
    "mFoo(, v222)\n",
    "# v222 = torch.unsqueeze(v2, 1).T"
   ]
  },
  {
   "cell_type": "code",
   "execution_count": null,
   "metadata": {},
   "outputs": [],
   "source": []
  }
 ],
 "metadata": {
  "kernelspec": {
   "display_name": "Python 3",
   "language": "python",
   "name": "python3"
  },
  "language_info": {
   "codemirror_mode": {
    "name": "ipython",
    "version": 3
   },
   "file_extension": ".py",
   "mimetype": "text/x-python",
   "name": "python",
   "nbconvert_exporter": "python",
   "pygments_lexer": "ipython3",
   "version": "3.13.0"
  }
 },
 "nbformat": 4,
 "nbformat_minor": 2
}
